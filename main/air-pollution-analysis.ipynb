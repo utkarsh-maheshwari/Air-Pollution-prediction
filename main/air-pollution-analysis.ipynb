{
 "cells": [
  {
   "cell_type": "code",
   "execution_count": 1,
   "metadata": {
    "_cell_guid": "b1076dfc-b9ad-4769-8c92-a6c4dae69d19",
    "_uuid": "8f2839f25d086af736a60e9eeb907d3b93b6e0e5",
    "execution": {
     "iopub.execute_input": "2021-02-16T14:34:00.677514Z",
     "iopub.status.busy": "2021-02-16T14:34:00.676687Z",
     "iopub.status.idle": "2021-02-16T14:34:12.004596Z",
     "shell.execute_reply": "2021-02-16T14:34:12.005325Z"
    },
    "papermill": {
     "duration": 11.35714,
     "end_time": "2021-02-16T14:34:12.005784",
     "exception": false,
     "start_time": "2021-02-16T14:34:00.648644",
     "status": "completed"
    },
    "tags": []
   },
   "outputs": [
    {
     "name": "stdout",
     "output_type": "stream",
     "text": [
      "Collecting pandas_visual_analysis\r\n",
      "  Downloading pandas_visual_analysis-0.0.4-py3-none-any.whl (34 kB)\r\n",
      "Requirement already satisfied: numpy>=1.19.1 in /opt/conda/lib/python3.7/site-packages (from pandas_visual_analysis) (1.19.5)\r\n",
      "Requirement already satisfied: ipywidgets>=7.5.1 in /opt/conda/lib/python3.7/site-packages (from pandas_visual_analysis) (7.6.2)\r\n",
      "Requirement already satisfied: blinker>=1.4 in /opt/conda/lib/python3.7/site-packages (from pandas_visual_analysis) (1.4)\r\n",
      "Requirement already satisfied: pandas>=1.1.0 in /opt/conda/lib/python3.7/site-packages (from pandas_visual_analysis) (1.2.0)\r\n",
      "Requirement already satisfied: plotly>=4.10.0 in /opt/conda/lib/python3.7/site-packages (from pandas_visual_analysis) (4.14.3)\r\n",
      "Requirement already satisfied: setuptools>=49.2.0 in /opt/conda/lib/python3.7/site-packages (from pandas_visual_analysis) (49.6.0.post20201009)\r\n",
      "Requirement already satisfied: widgetsnbextension~=3.5.0 in /opt/conda/lib/python3.7/site-packages (from ipywidgets>=7.5.1->pandas_visual_analysis) (3.5.1)\r\n",
      "Requirement already satisfied: ipython>=4.0.0 in /opt/conda/lib/python3.7/site-packages (from ipywidgets>=7.5.1->pandas_visual_analysis) (7.19.0)\r\n",
      "Requirement already satisfied: jupyterlab-widgets>=1.0.0 in /opt/conda/lib/python3.7/site-packages (from ipywidgets>=7.5.1->pandas_visual_analysis) (1.0.0)\r\n",
      "Requirement already satisfied: ipykernel>=4.5.1 in /opt/conda/lib/python3.7/site-packages (from ipywidgets>=7.5.1->pandas_visual_analysis) (5.1.1)\r\n",
      "Requirement already satisfied: traitlets>=4.3.1 in /opt/conda/lib/python3.7/site-packages (from ipywidgets>=7.5.1->pandas_visual_analysis) (5.0.5)\r\n",
      "Requirement already satisfied: nbformat>=4.2.0 in /opt/conda/lib/python3.7/site-packages (from ipywidgets>=7.5.1->pandas_visual_analysis) (5.0.8)\r\n",
      "Requirement already satisfied: jupyter-client in /opt/conda/lib/python3.7/site-packages (from ipykernel>=4.5.1->ipywidgets>=7.5.1->pandas_visual_analysis) (6.1.7)\r\n",
      "Requirement already satisfied: tornado>=4.2 in /opt/conda/lib/python3.7/site-packages (from ipykernel>=4.5.1->ipywidgets>=7.5.1->pandas_visual_analysis) (5.0.2)\r\n",
      "Requirement already satisfied: pygments in /opt/conda/lib/python3.7/site-packages (from ipython>=4.0.0->ipywidgets>=7.5.1->pandas_visual_analysis) (2.7.3)\r\n",
      "Requirement already satisfied: prompt-toolkit!=3.0.0,!=3.0.1,<3.1.0,>=2.0.0 in /opt/conda/lib/python3.7/site-packages (from ipython>=4.0.0->ipywidgets>=7.5.1->pandas_visual_analysis) (3.0.8)\r\n",
      "Requirement already satisfied: jedi>=0.10 in /opt/conda/lib/python3.7/site-packages (from ipython>=4.0.0->ipywidgets>=7.5.1->pandas_visual_analysis) (0.18.0)\r\n",
      "Requirement already satisfied: pexpect>4.3 in /opt/conda/lib/python3.7/site-packages (from ipython>=4.0.0->ipywidgets>=7.5.1->pandas_visual_analysis) (4.8.0)\r\n",
      "Requirement already satisfied: decorator in /opt/conda/lib/python3.7/site-packages (from ipython>=4.0.0->ipywidgets>=7.5.1->pandas_visual_analysis) (4.4.2)\r\n",
      "Requirement already satisfied: pickleshare in /opt/conda/lib/python3.7/site-packages (from ipython>=4.0.0->ipywidgets>=7.5.1->pandas_visual_analysis) (0.7.5)\r\n",
      "Requirement already satisfied: backcall in /opt/conda/lib/python3.7/site-packages (from ipython>=4.0.0->ipywidgets>=7.5.1->pandas_visual_analysis) (0.2.0)\r\n",
      "Requirement already satisfied: parso<0.9.0,>=0.8.0 in /opt/conda/lib/python3.7/site-packages (from jedi>=0.10->ipython>=4.0.0->ipywidgets>=7.5.1->pandas_visual_analysis) (0.8.1)\r\n",
      "Requirement already satisfied: jsonschema!=2.5.0,>=2.4 in /opt/conda/lib/python3.7/site-packages (from nbformat>=4.2.0->ipywidgets>=7.5.1->pandas_visual_analysis) (3.2.0)\r\n",
      "Requirement already satisfied: jupyter-core in /opt/conda/lib/python3.7/site-packages (from nbformat>=4.2.0->ipywidgets>=7.5.1->pandas_visual_analysis) (4.7.0)\r\n",
      "Requirement already satisfied: ipython-genutils in /opt/conda/lib/python3.7/site-packages (from nbformat>=4.2.0->ipywidgets>=7.5.1->pandas_visual_analysis) (0.2.0)\r\n",
      "Requirement already satisfied: attrs>=17.4.0 in /opt/conda/lib/python3.7/site-packages (from jsonschema!=2.5.0,>=2.4->nbformat>=4.2.0->ipywidgets>=7.5.1->pandas_visual_analysis) (20.3.0)\r\n",
      "Requirement already satisfied: six>=1.11.0 in /opt/conda/lib/python3.7/site-packages (from jsonschema!=2.5.0,>=2.4->nbformat>=4.2.0->ipywidgets>=7.5.1->pandas_visual_analysis) (1.15.0)\r\n",
      "Requirement already satisfied: importlib-metadata in /opt/conda/lib/python3.7/site-packages (from jsonschema!=2.5.0,>=2.4->nbformat>=4.2.0->ipywidgets>=7.5.1->pandas_visual_analysis) (3.3.0)\r\n",
      "Requirement already satisfied: pyrsistent>=0.14.0 in /opt/conda/lib/python3.7/site-packages (from jsonschema!=2.5.0,>=2.4->nbformat>=4.2.0->ipywidgets>=7.5.1->pandas_visual_analysis) (0.17.3)\r\n",
      "Requirement already satisfied: python-dateutil>=2.7.3 in /opt/conda/lib/python3.7/site-packages (from pandas>=1.1.0->pandas_visual_analysis) (2.8.1)\r\n",
      "Requirement already satisfied: pytz>=2017.3 in /opt/conda/lib/python3.7/site-packages (from pandas>=1.1.0->pandas_visual_analysis) (2019.3)\r\n",
      "Requirement already satisfied: ptyprocess>=0.5 in /opt/conda/lib/python3.7/site-packages (from pexpect>4.3->ipython>=4.0.0->ipywidgets>=7.5.1->pandas_visual_analysis) (0.7.0)\r\n",
      "Requirement already satisfied: retrying>=1.3.3 in /opt/conda/lib/python3.7/site-packages (from plotly>=4.10.0->pandas_visual_analysis) (1.3.3)\r\n",
      "Requirement already satisfied: wcwidth in /opt/conda/lib/python3.7/site-packages (from prompt-toolkit!=3.0.0,!=3.0.1,<3.1.0,>=2.0.0->ipython>=4.0.0->ipywidgets>=7.5.1->pandas_visual_analysis) (0.2.5)\r\n",
      "Requirement already satisfied: notebook>=4.4.1 in /opt/conda/lib/python3.7/site-packages (from widgetsnbextension~=3.5.0->ipywidgets>=7.5.1->pandas_visual_analysis) (5.5.0)\r\n",
      "Requirement already satisfied: nbconvert in /opt/conda/lib/python3.7/site-packages (from notebook>=4.4.1->widgetsnbextension~=3.5.0->ipywidgets>=7.5.1->pandas_visual_analysis) (6.0.7)\r\n",
      "Requirement already satisfied: pyzmq>=17 in /opt/conda/lib/python3.7/site-packages (from notebook>=4.4.1->widgetsnbextension~=3.5.0->ipywidgets>=7.5.1->pandas_visual_analysis) (20.0.0)\r\n",
      "Requirement already satisfied: terminado>=0.8.1 in /opt/conda/lib/python3.7/site-packages (from notebook>=4.4.1->widgetsnbextension~=3.5.0->ipywidgets>=7.5.1->pandas_visual_analysis) (0.9.2)\r\n",
      "Requirement already satisfied: jinja2 in /opt/conda/lib/python3.7/site-packages (from notebook>=4.4.1->widgetsnbextension~=3.5.0->ipywidgets>=7.5.1->pandas_visual_analysis) (2.11.2)\r\n",
      "Requirement already satisfied: Send2Trash in /opt/conda/lib/python3.7/site-packages (from notebook>=4.4.1->widgetsnbextension~=3.5.0->ipywidgets>=7.5.1->pandas_visual_analysis) (1.5.0)\r\n",
      "Requirement already satisfied: zipp>=0.5 in /opt/conda/lib/python3.7/site-packages (from importlib-metadata->jsonschema!=2.5.0,>=2.4->nbformat>=4.2.0->ipywidgets>=7.5.1->pandas_visual_analysis) (3.4.0)\r\n",
      "Requirement already satisfied: typing-extensions>=3.6.4 in /opt/conda/lib/python3.7/site-packages (from importlib-metadata->jsonschema!=2.5.0,>=2.4->nbformat>=4.2.0->ipywidgets>=7.5.1->pandas_visual_analysis) (3.7.4.3)\r\n",
      "Requirement already satisfied: MarkupSafe>=0.23 in /opt/conda/lib/python3.7/site-packages (from jinja2->notebook>=4.4.1->widgetsnbextension~=3.5.0->ipywidgets>=7.5.1->pandas_visual_analysis) (1.1.1)\r\n",
      "Requirement already satisfied: entrypoints>=0.2.2 in /opt/conda/lib/python3.7/site-packages (from nbconvert->notebook>=4.4.1->widgetsnbextension~=3.5.0->ipywidgets>=7.5.1->pandas_visual_analysis) (0.3)\r\n",
      "Requirement already satisfied: testpath in /opt/conda/lib/python3.7/site-packages (from nbconvert->notebook>=4.4.1->widgetsnbextension~=3.5.0->ipywidgets>=7.5.1->pandas_visual_analysis) (0.4.4)\r\n",
      "Requirement already satisfied: pandocfilters>=1.4.1 in /opt/conda/lib/python3.7/site-packages (from nbconvert->notebook>=4.4.1->widgetsnbextension~=3.5.0->ipywidgets>=7.5.1->pandas_visual_analysis) (1.4.2)\r\n",
      "Requirement already satisfied: defusedxml in /opt/conda/lib/python3.7/site-packages (from nbconvert->notebook>=4.4.1->widgetsnbextension~=3.5.0->ipywidgets>=7.5.1->pandas_visual_analysis) (0.6.0)\r\n",
      "Requirement already satisfied: jupyterlab-pygments in /opt/conda/lib/python3.7/site-packages (from nbconvert->notebook>=4.4.1->widgetsnbextension~=3.5.0->ipywidgets>=7.5.1->pandas_visual_analysis) (0.1.2)\r\n",
      "Requirement already satisfied: nbclient<0.6.0,>=0.5.0 in /opt/conda/lib/python3.7/site-packages (from nbconvert->notebook>=4.4.1->widgetsnbextension~=3.5.0->ipywidgets>=7.5.1->pandas_visual_analysis) (0.5.1)\r\n",
      "Requirement already satisfied: bleach in /opt/conda/lib/python3.7/site-packages (from nbconvert->notebook>=4.4.1->widgetsnbextension~=3.5.0->ipywidgets>=7.5.1->pandas_visual_analysis) (3.2.1)\r\n",
      "Requirement already satisfied: mistune<2,>=0.8.1 in /opt/conda/lib/python3.7/site-packages (from nbconvert->notebook>=4.4.1->widgetsnbextension~=3.5.0->ipywidgets>=7.5.1->pandas_visual_analysis) (0.8.4)\r\n",
      "Requirement already satisfied: nest-asyncio in /opt/conda/lib/python3.7/site-packages (from nbclient<0.6.0,>=0.5.0->nbconvert->notebook>=4.4.1->widgetsnbextension~=3.5.0->ipywidgets>=7.5.1->pandas_visual_analysis) (1.4.3)\r\n",
      "Requirement already satisfied: async-generator in /opt/conda/lib/python3.7/site-packages (from nbclient<0.6.0,>=0.5.0->nbconvert->notebook>=4.4.1->widgetsnbextension~=3.5.0->ipywidgets>=7.5.1->pandas_visual_analysis) (1.10)\r\n",
      "Requirement already satisfied: packaging in /opt/conda/lib/python3.7/site-packages (from bleach->nbconvert->notebook>=4.4.1->widgetsnbextension~=3.5.0->ipywidgets>=7.5.1->pandas_visual_analysis) (20.8)\r\n",
      "Requirement already satisfied: webencodings in /opt/conda/lib/python3.7/site-packages (from bleach->nbconvert->notebook>=4.4.1->widgetsnbextension~=3.5.0->ipywidgets>=7.5.1->pandas_visual_analysis) (0.5.1)\r\n",
      "Requirement already satisfied: pyparsing>=2.0.2 in /opt/conda/lib/python3.7/site-packages (from packaging->bleach->nbconvert->notebook>=4.4.1->widgetsnbextension~=3.5.0->ipywidgets>=7.5.1->pandas_visual_analysis) (2.4.7)\r\n",
      "Installing collected packages: pandas-visual-analysis\r\n",
      "Successfully installed pandas-visual-analysis-0.0.4\r\n",
      "\u001b[33mWARNING: You are using pip version 21.0; however, version 21.0.1 is available.\r\n",
      "You should consider upgrading via the '/opt/conda/bin/python3.7 -m pip install --upgrade pip' command.\u001b[0m\r\n",
      "/kaggle/input/air-pollution/wp_remove_null_2014.csv\n"
     ]
    }
   ],
   "source": [
    "# This Python 3 environment comes with many helpful analytics libraries installed\n",
    "# It is defined by the kaggle/python Docker image: https://github.com/kaggle/docker-python\n",
    "# For example, here's several helpful packages to load\n",
    "\n",
    "import numpy as np # linear algebra\n",
    "import pandas as pd # data processing, CSV file I/O (e.g. pd.read_csv)\n",
    "import matplotlib.pyplot as plt\n",
    "import seaborn as sns\n",
    "import math\n",
    "\n",
    "from sklearn.linear_model import (\n",
    "    RANSACRegressor, HuberRegressor, TheilSenRegressor\n",
    ")\n",
    "from sklearn.svm import SVR\n",
    "from sklearn.linear_model import LinearRegression\n",
    "from sklearn.model_selection import train_test_split\n",
    "from sklearn.metrics  import mean_squared_error\n",
    "from sklearn.metrics  import mean_absolute_error\n",
    "# Input data files are available in the read-only \"../input/\" directory\n",
    "# For example, running this (by clicking run or pressing Shift+Enter) will list all files under the input directory\n",
    "! pip install pandas_visual_analysis\n",
    "from pandas_visual_analysis import VisualAnalysis\n",
    "\n",
    "import os\n",
    "for dirname, _, filenames in os.walk('/kaggle/input'):\n",
    "    for filename in filenames:\n",
    "        print(os.path.join(dirname, filename))\n",
    "\n",
    "# You can write up to 20GB to the current directory (/kaggle/working/) that gets preserved as output when you create a version using \"Save & Run All\" \n",
    "# You can also write temporary files to /kaggle/temp/, but they won't be saved outside of the current session"
   ]
  },
  {
   "cell_type": "code",
   "execution_count": 2,
   "metadata": {
    "execution": {
     "iopub.execute_input": "2021-02-16T14:34:12.066807Z",
     "iopub.status.busy": "2021-02-16T14:34:12.066083Z",
     "iopub.status.idle": "2021-02-16T14:34:13.441963Z",
     "shell.execute_reply": "2021-02-16T14:34:13.429411Z"
    },
    "papermill": {
     "duration": 1.413454,
     "end_time": "2021-02-16T14:34:13.442116",
     "exception": false,
     "start_time": "2021-02-16T14:34:12.028662",
     "status": "completed"
    },
    "tags": []
   },
   "outputs": [
    {
     "data": {
      "image/png": "[encoded data removed]",
      "text/plain": [
       "<Figure size 432x288 with 1 Axes>"
      ]
     },
     "metadata": {
      "needs_background": "light"
     },
     "output_type": "display_data"
    },
    {
     "data": {
      "image/png": "[encoded data removed]",
      "text/plain": [
       "<Figure size 432x288 with 1 Axes>"
      ]
     },
     "metadata": {
      "needs_background": "light"
     },
     "output_type": "display_data"
    },
    {
     "name": "stdout",
     "output_type": "stream",
     "text": [
      "    x0  cos_monthly  cos_hourly  temperature_f  wind_speed_mph  \\\n",
      "0  1.0     0.991445    0.980785      -0.927462       -0.102394   \n",
      "1  1.0     0.991445    0.831470      -0.940403       -0.068451   \n",
      "2  1.0     0.991445    0.555570      -0.894869        1.302873   \n",
      "3  1.0     0.991445    0.195090      -0.476918        2.318920   \n",
      "4  1.0     0.991445   -0.195090      -0.328813        2.085840   \n",
      "\n",
      "   wind_bearing_deg  relative_humidity  visibility_miles_max_10  pressure_mb  \\\n",
      "0          0.978743          -1.258159                -0.102066    -0.326820   \n",
      "1          0.942839          -1.258159                -0.172858    -0.407473   \n",
      "2          1.059528          -1.172799                -0.388959    -0.199369   \n",
      "3          1.032600          -1.130119                 0.479173    -0.073909   \n",
      "4          1.122360          -1.556920                 1.444179    -0.225258   \n",
      "\n",
      "      Value  \n",
      "0 -0.120023  \n",
      "1  0.481530  \n",
      "2 -0.738287  \n",
      "3 -0.905385  \n",
      "4 -0.888675  \n"
     ]
    },
    {
     "data": {
      "application/vnd.jupyter.widget-view+json": {
       "model_id": "22c5cea33cdc4017a87427d631a63c7d",
       "version_major": 2,
       "version_minor": 0
      },
      "text/plain": [
       "VBox(children=(ToggleButtons(_dom_classes=('layout-32add517c25341978b5fd2763e48c01d',), description='Selection…"
      ]
     },
     "metadata": {},
     "output_type": "display_data"
    }
   ],
   "source": [
    "def transform_unit(unit, divisor):\n",
    "    def transform(unit):\n",
    "        return (2 * math.pi * (unit - .5) / divisor)\n",
    "    return math.sin(transform(unit)), math.cos(transform(unit))\n",
    "\n",
    "\n",
    "#     @staticmethod\n",
    "# def trans(param, divisor, f):\n",
    "#     to_both = np.vectorize(lambda x: f(x, divisor))\n",
    "#     return to_both(param)\n",
    "\n",
    "def get_and_prep_circular_data2(param, divisor, f):\n",
    "    \n",
    "    deg_col = np.array(data_df[param])        \n",
    "    to_both = np.vectorize(lambda x: f(x, divisor))\n",
    "    return to_both(deg_col)\n",
    "\n",
    "def feature_scaler(col):\n",
    "    avg = np.mean(col)\n",
    "    std = np.std(col)\n",
    "    # for each x, subtract by the column mean and divide by the standard dev\n",
    "    scale = np.vectorize(lambda x: (x - avg) / std)\n",
    "    return scale(col)\n",
    "\n",
    "data_df = pd.read_csv('/kaggle/input/air-pollution/wp_remove_null_2014.csv')\n",
    "data_df.insert(0,'x0',([1.0] * len(data_df)))\n",
    "data_df = data_df[data_df['Value']<=250]\n",
    "\n",
    "sin_month, cos_month = get_and_prep_circular_data2('Month', 24, transform_unit)\n",
    "# sin_combined = (2*sin_month+3*cos_month)/5\n",
    "sin_hour, cos_hour = get_and_prep_circular_data2('Hour', 48, transform_unit)\n",
    "\n",
    "data_df['visibility_miles_max_10'] = feature_scaler(np.array(data_df['visibility_miles_max_10']))\n",
    "data_df['temperature_f'] = feature_scaler(np.array(data_df['temperature_f']))\n",
    "data_df['wind_speed_mph'] = feature_scaler(np.array(data_df['wind_speed_mph']))\n",
    "data_df['relative_humidity'] = feature_scaler(np.array(data_df['relative_humidity']))\n",
    "data_df['pressure_mb'] = feature_scaler(np.array(data_df['pressure_mb']))\n",
    "data_df['Value'] = feature_scaler(np.array(data_df['Value']))\n",
    "data_df['wind_bearing_deg'] = feature_scaler(np.array(data_df['wind_bearing_deg']))\n",
    "\n",
    "# data_df.insert(1, 'sin_monthly', sin_month)\n",
    "data_df.insert(1, 'cos_monthly', cos_month)\n",
    "# data_df.insert(3, 'sin_combined', sin_combined)\n",
    "# data_df.insert(3, 'sin_hourly', sin_hour)\n",
    "data_df.insert(2, 'cos_hourly', cos_hour)\n",
    "data_df = data_df.drop(['Month'], axis =1)\n",
    "data_df = data_df.drop(['Hour'], axis =1)\n",
    "data_df = data_df.drop(['Day'], axis =1)\n",
    "data_df = data_df.drop(['Year'], axis =1)\n",
    "\n",
    "plt.scatter(data_df['cos_monthly'], data_df['Value'])\n",
    "plt.show()\n",
    "plt.scatter(data_df['cos_hourly'], data_df['Value'])\n",
    "plt.show()\n",
    "\n",
    "print(data_df.head())\n",
    "\n",
    "VisualAnalysis(data_df)"
   ]
  },
  {
   "cell_type": "code",
   "execution_count": 3,
   "metadata": {
    "execution": {
     "iopub.execute_input": "2021-02-16T14:34:13.501050Z",
     "iopub.status.busy": "2021-02-16T14:34:13.499736Z",
     "iopub.status.idle": "2021-02-16T14:34:13.506035Z",
     "shell.execute_reply": "2021-02-16T14:34:13.505313Z"
    },
    "papermill": {
     "duration": 0.039413,
     "end_time": "2021-02-16T14:34:13.506234",
     "exception": false,
     "start_time": "2021-02-16T14:34:13.466821",
     "status": "completed"
    },
    "tags": []
   },
   "outputs": [
    {
     "name": "stdout",
     "output_type": "stream",
     "text": [
      "(2675, 9) (2675,)\n",
      "(1872, 9) (1872,)\n"
     ]
    }
   ],
   "source": [
    "X = data_df.drop(['Value'], axis=1)\n",
    "# X = data_df.drop(['Year', 'Month', 'Day', 'Hour', 'temperature_f', 'wind_speed_mph', 'wind_bearing_deg', 'relative_humidity', 'pressure_mb', 'Value'], axis=1)\n",
    "\n",
    "y = data_df['Value']\n",
    "print(X.shape, y.shape)\n",
    "X_train, X_test, y_train, y_test = train_test_split(X,y, test_size=0.3, random_state=42)\n",
    "print(X_train.shape, y_train.shape)\n",
    "estimadores = {\n",
    "#     'TheilSenRegressor' : TheilSenRegressor(),\n",
    "    'LR' : LinearRegression(),\n",
    "    'SVR' : SVR(gamma= 'auto', C=1.0, epsilon=0.1),\n",
    "    'RANSAC' : RANSACRegressor(),\n",
    "    'HUBER' : HuberRegressor(epsilon=1.95),\n",
    "    \n",
    "}\n"
   ]
  },
  {
   "cell_type": "code",
   "execution_count": 4,
   "metadata": {
    "execution": {
     "iopub.execute_input": "2021-02-16T14:34:13.562915Z",
     "iopub.status.busy": "2021-02-16T14:34:13.562186Z",
     "iopub.status.idle": "2021-02-16T14:34:14.715003Z",
     "shell.execute_reply": "2021-02-16T14:34:14.714376Z"
    },
    "papermill": {
     "duration": 1.183765,
     "end_time": "2021-02-16T14:34:14.715164",
     "exception": false,
     "start_time": "2021-02-16T14:34:13.531399",
     "status": "completed"
    },
    "tags": []
   },
   "outputs": [
    {
     "name": "stdout",
     "output_type": "stream",
     "text": [
      "================================================================\n",
      "LR\n",
      "MSE:  0.42122265963201666\n",
      "Score:  0.5918825229272866\n"
     ]
    },
    {
     "data": {
      "image/png": "[encoded data removed]",
      "text/plain": [
       "<Figure size 432x288 with 1 Axes>"
      ]
     },
     "metadata": {
      "needs_background": "light"
     },
     "output_type": "display_data"
    },
    {
     "name": "stdout",
     "output_type": "stream",
     "text": [
      "================================================================\n",
      "SVR\n",
      "MSE:  0.3215449251450323\n",
      "Score:  0.6884590593241898\n"
     ]
    },
    {
     "data": {
      "image/png": "[encoded data removed]",
      "text/plain": [
       "<Figure size 432x288 with 1 Axes>"
      ]
     },
     "metadata": {
      "needs_background": "light"
     },
     "output_type": "display_data"
    },
    {
     "name": "stdout",
     "output_type": "stream",
     "text": [
      "================================================================\n",
      "RANSAC\n",
      "MSE:  0.4321528907050126\n",
      "Score:  0.5812923558806469\n"
     ]
    },
    {
     "data": {
      "image/png": "[encoded data removed]",
      "text/plain": [
       "<Figure size 432x288 with 1 Axes>"
      ]
     },
     "metadata": {
      "needs_background": "light"
     },
     "output_type": "display_data"
    },
    {
     "name": "stdout",
     "output_type": "stream",
     "text": [
      "================================================================\n",
      "HUBER\n",
      "MSE:  0.4230172308746358\n",
      "Score:  0.590143784824724\n"
     ]
    },
    {
     "data": {
      "image/png": "[encoded data removed]",
      "text/plain": [
       "<Figure size 432x288 with 1 Axes>"
      ]
     },
     "metadata": {
      "needs_background": "light"
     },
     "output_type": "display_data"
    }
   ],
   "source": [
    "for name, estimador in estimadores.items():\n",
    "    X_train = np.array(X_train)\n",
    "    X_train.reshape(-1, 1)\n",
    "    estimador.fit(X_train, y_train)\n",
    "    predictions = estimador.predict(X_test)\n",
    "    print(\"=\"*64)\n",
    "    print(name)\n",
    "    print(\"MSE: \", mean_squared_error(y_test, predictions))\n",
    "    print(\"Score: \", estimador.score(X_test, y_test))\n",
    "    plt.scatter(y_test,predictions)\n",
    "#     plt.xlim(0,250)\n",
    "#     plt.ylim(0,250)\n",
    "    plt.show()"
   ]
  },
  {
   "cell_type": "code",
   "execution_count": 5,
   "metadata": {
    "execution": {
     "iopub.execute_input": "2021-02-16T14:34:14.784139Z",
     "iopub.status.busy": "2021-02-16T14:34:14.783480Z",
     "iopub.status.idle": "2021-02-16T14:34:15.611796Z",
     "shell.execute_reply": "2021-02-16T14:34:15.611232Z"
    },
    "papermill": {
     "duration": 0.866877,
     "end_time": "2021-02-16T14:34:15.611937",
     "exception": false,
     "start_time": "2021-02-16T14:34:14.745060",
     "status": "completed"
    },
    "tags": []
   },
   "outputs": [
    {
     "name": "stdout",
     "output_type": "stream",
     "text": [
      "                         x0  cos_monthly  cos_hourly  temperature_f  \\\n",
      "x0                      NaN          NaN         NaN            NaN   \n",
      "cos_monthly             NaN     1.000000   -0.006013      -0.122278   \n",
      "cos_hourly              NaN    -0.006013    1.000000      -0.154898   \n",
      "temperature_f           NaN    -0.122278   -0.154898       1.000000   \n",
      "wind_speed_mph          NaN    -0.003502   -0.167748      -0.018305   \n",
      "wind_bearing_deg        NaN    -0.035342    0.020127      -0.187021   \n",
      "relative_humidity       NaN    -0.221429    0.257434       0.109168   \n",
      "visibility_miles_max_10 NaN    -0.025726   -0.121061       0.073459   \n",
      "pressure_mb             NaN     0.008825    0.048220      -0.857630   \n",
      "Value                   NaN     0.127112    0.008456      -0.075653   \n",
      "\n",
      "                         wind_speed_mph  wind_bearing_deg  relative_humidity  \\\n",
      "x0                                  NaN               NaN                NaN   \n",
      "cos_monthly                   -0.003502         -0.035342          -0.221429   \n",
      "cos_hourly                    -0.167748          0.020127           0.257434   \n",
      "temperature_f                 -0.018305         -0.187021           0.109168   \n",
      "wind_speed_mph                 1.000000          0.365373          -0.487571   \n",
      "wind_bearing_deg               0.365373          1.000000          -0.235757   \n",
      "relative_humidity             -0.487571         -0.235757           1.000000   \n",
      "visibility_miles_max_10        0.373880          0.172682          -0.605649   \n",
      "pressure_mb                    0.096394          0.149270          -0.276681   \n",
      "Value                         -0.351663         -0.183717           0.390460   \n",
      "\n",
      "                         visibility_miles_max_10  pressure_mb     Value  \n",
      "x0                                           NaN          NaN       NaN  \n",
      "cos_monthly                            -0.025726     0.008825  0.127112  \n",
      "cos_hourly                             -0.121061     0.048220  0.008456  \n",
      "temperature_f                           0.073459    -0.857630 -0.075653  \n",
      "wind_speed_mph                          0.373880     0.096394 -0.351663  \n",
      "wind_bearing_deg                        0.172682     0.149270 -0.183717  \n",
      "relative_humidity                      -0.605649    -0.276681  0.390460  \n",
      "visibility_miles_max_10                 1.000000     0.074900 -0.746309  \n",
      "pressure_mb                             0.074900     1.000000 -0.054827  \n",
      "Value                                  -0.746309    -0.054827  1.000000  \n"
     ]
    },
    {
     "data": {
      "image/png": "[encoded data removed]",
      "text/plain": [
       "<Figure size 720x504 with 2 Axes>"
      ]
     },
     "metadata": {
      "needs_background": "light"
     },
     "output_type": "display_data"
    }
   ],
   "source": [
    "corrMatrix = data_df.corr()\n",
    "print(corrMatrix)\n",
    "plt.figure(figsize=(10, 7))\n",
    "sns.heatmap(corrMatrix, annot=True)\n",
    "plt.show()\n",
    "\n",
    "# d1 = data_df[['Day', 'Value']]\n",
    "# plt.figure(figsize=(10, 7))\n",
    "# sns.heatmap(d1, annot=True)\n",
    "# plt.show()\n"
   ]
  },
  {
   "cell_type": "code",
   "execution_count": 6,
   "metadata": {
    "execution": {
     "iopub.execute_input": "2021-02-16T14:34:15.684151Z",
     "iopub.status.busy": "2021-02-16T14:34:15.683517Z",
     "iopub.status.idle": "2021-02-16T14:34:15.885897Z",
     "shell.execute_reply": "2021-02-16T14:34:15.885208Z"
    },
    "papermill": {
     "duration": 0.241362,
     "end_time": "2021-02-16T14:34:15.886038",
     "exception": false,
     "start_time": "2021-02-16T14:34:15.644676",
     "status": "completed"
    },
    "tags": []
   },
   "outputs": [
    {
     "ename": "ValueError",
     "evalue": "Unknown label type: 'continuous'",
     "output_type": "error",
     "traceback": [
      "\u001b[0;31m---------------------------------------------------------------------------\u001b[0m",
      "\u001b[0;31mValueError\u001b[0m                                Traceback (most recent call last)",
      "\u001b[0;32m<ipython-input-6-ee8b5b6a6441>\u001b[0m in \u001b[0;36m<module>\u001b[0;34m\u001b[0m\n\u001b[1;32m      9\u001b[0m \u001b[0;34m\u001b[0m\u001b[0m\n\u001b[1;32m     10\u001b[0m \u001b[0mknn\u001b[0m\u001b[0;34m=\u001b[0m\u001b[0mKNeighborsClassifier\u001b[0m\u001b[0;34m(\u001b[0m\u001b[0;34m)\u001b[0m\u001b[0;34m\u001b[0m\u001b[0;34m\u001b[0m\u001b[0m\n\u001b[0;32m---> 11\u001b[0;31m \u001b[0mknn\u001b[0m\u001b[0;34m.\u001b[0m\u001b[0mfit\u001b[0m\u001b[0;34m(\u001b[0m\u001b[0mX_train\u001b[0m\u001b[0;34m,\u001b[0m\u001b[0my_train\u001b[0m\u001b[0;34m)\u001b[0m\u001b[0;34m\u001b[0m\u001b[0;34m\u001b[0m\u001b[0m\n\u001b[0m\u001b[1;32m     12\u001b[0m \u001b[0mpred\u001b[0m \u001b[0;34m=\u001b[0m \u001b[0mknn\u001b[0m\u001b[0;34m.\u001b[0m\u001b[0mpredict\u001b[0m\u001b[0;34m(\u001b[0m\u001b[0mX_test\u001b[0m\u001b[0;34m)\u001b[0m\u001b[0;34m\u001b[0m\u001b[0;34m\u001b[0m\u001b[0m\n\u001b[1;32m     13\u001b[0m \u001b[0;34m\u001b[0m\u001b[0m\n",
      "\u001b[0;32m/opt/conda/lib/python3.7/site-packages/sklearn/neighbors/_base.py\u001b[0m in \u001b[0;36mfit\u001b[0;34m(self, X, y)\u001b[0m\n\u001b[1;32m   1144\u001b[0m             \u001b[0mself\u001b[0m\u001b[0;34m.\u001b[0m\u001b[0moutputs_2d_\u001b[0m \u001b[0;34m=\u001b[0m \u001b[0;32mTrue\u001b[0m\u001b[0;34m\u001b[0m\u001b[0;34m\u001b[0m\u001b[0m\n\u001b[1;32m   1145\u001b[0m \u001b[0;34m\u001b[0m\u001b[0m\n\u001b[0;32m-> 1146\u001b[0;31m         \u001b[0mcheck_classification_targets\u001b[0m\u001b[0;34m(\u001b[0m\u001b[0my\u001b[0m\u001b[0;34m)\u001b[0m\u001b[0;34m\u001b[0m\u001b[0;34m\u001b[0m\u001b[0m\n\u001b[0m\u001b[1;32m   1147\u001b[0m         \u001b[0mself\u001b[0m\u001b[0;34m.\u001b[0m\u001b[0mclasses_\u001b[0m \u001b[0;34m=\u001b[0m \u001b[0;34m[\u001b[0m\u001b[0;34m]\u001b[0m\u001b[0;34m\u001b[0m\u001b[0;34m\u001b[0m\u001b[0m\n\u001b[1;32m   1148\u001b[0m         \u001b[0mself\u001b[0m\u001b[0;34m.\u001b[0m\u001b[0m_y\u001b[0m \u001b[0;34m=\u001b[0m \u001b[0mnp\u001b[0m\u001b[0;34m.\u001b[0m\u001b[0mempty\u001b[0m\u001b[0;34m(\u001b[0m\u001b[0my\u001b[0m\u001b[0;34m.\u001b[0m\u001b[0mshape\u001b[0m\u001b[0;34m,\u001b[0m \u001b[0mdtype\u001b[0m\u001b[0;34m=\u001b[0m\u001b[0mnp\u001b[0m\u001b[0;34m.\u001b[0m\u001b[0mint\u001b[0m\u001b[0;34m)\u001b[0m\u001b[0;34m\u001b[0m\u001b[0;34m\u001b[0m\u001b[0m\n",
      "\u001b[0;32m/opt/conda/lib/python3.7/site-packages/sklearn/utils/multiclass.py\u001b[0m in \u001b[0;36mcheck_classification_targets\u001b[0;34m(y)\u001b[0m\n\u001b[1;32m    170\u001b[0m     if y_type not in ['binary', 'multiclass', 'multiclass-multioutput',\n\u001b[1;32m    171\u001b[0m                       'multilabel-indicator', 'multilabel-sequences']:\n\u001b[0;32m--> 172\u001b[0;31m         \u001b[0;32mraise\u001b[0m \u001b[0mValueError\u001b[0m\u001b[0;34m(\u001b[0m\u001b[0;34m\"Unknown label type: %r\"\u001b[0m \u001b[0;34m%\u001b[0m \u001b[0my_type\u001b[0m\u001b[0;34m)\u001b[0m\u001b[0;34m\u001b[0m\u001b[0;34m\u001b[0m\u001b[0m\n\u001b[0m\u001b[1;32m    173\u001b[0m \u001b[0;34m\u001b[0m\u001b[0m\n\u001b[1;32m    174\u001b[0m \u001b[0;34m\u001b[0m\u001b[0m\n",
      "\u001b[0;31mValueError\u001b[0m: Unknown label type: 'continuous'"
     ]
    }
   ],
   "source": [
    "from sklearn.neighbors import KNeighborsClassifier\n",
    "\n",
    "# X = data_df.drop(['Value'], axis=1)\n",
    "# X = data_df[['cos_monthly', 'cos_hourly','wind_speed_mph', 'visibility_miles_max_10']]\n",
    "X = data_df.drop(['Value'], axis=1)\n",
    "y = data_df['Value']\n",
    "\n",
    "X_train, X_test, y_train, y_test = train_test_split(X,y, test_size=0.3, random_state=42)\n",
    "\n",
    "knn=KNeighborsClassifier()\n",
    "knn.fit(X_train,y_train)\n",
    "pred = knn.predict(X_test)\n",
    "\n",
    "print(mean_squared_error(y_test, pred))\n",
    "\n",
    "print(knn.score(X_test,y_test))\n",
    "\n",
    "plt.scatter(pred, y_test)"
   ]
  },
  {
   "cell_type": "code",
   "execution_count": 7,
   "metadata": {
    "execution": {
     "iopub.execute_input": "2021-02-16T14:34:15.960937Z",
     "iopub.status.busy": "2021-02-16T14:34:15.960274Z",
     "iopub.status.idle": "2021-02-16T14:34:16.039485Z",
     "shell.execute_reply": "2021-02-16T14:34:16.038909Z"
    },
    "papermill": {
     "duration": 0.120384,
     "end_time": "2021-02-16T14:34:16.039655",
     "exception": false,
     "start_time": "2021-02-16T14:34:15.919271",
     "status": "completed"
    },
    "tags": []
   },
   "outputs": [
    {
     "ename": "ValueError",
     "evalue": "Unknown label type: 'continuous'",
     "output_type": "error",
     "traceback": [
      "\u001b[0;31m---------------------------------------------------------------------------\u001b[0m",
      "\u001b[0;31mValueError\u001b[0m                                Traceback (most recent call last)",
      "\u001b[0;32m<ipython-input-7-8f573d05eb32>\u001b[0m in \u001b[0;36m<module>\u001b[0;34m\u001b[0m\n\u001b[1;32m      7\u001b[0m \u001b[0;34m\u001b[0m\u001b[0m\n\u001b[1;32m      8\u001b[0m \u001b[0mmodel\u001b[0m \u001b[0;34m=\u001b[0m \u001b[0mRandomForestClassifier\u001b[0m\u001b[0;34m(\u001b[0m\u001b[0mn_estimators\u001b[0m\u001b[0;34m=\u001b[0m\u001b[0;36m500\u001b[0m\u001b[0;34m,\u001b[0m \u001b[0mmax_depth\u001b[0m\u001b[0;34m=\u001b[0m\u001b[0;36m10\u001b[0m\u001b[0;34m,\u001b[0m \u001b[0mrandom_state\u001b[0m\u001b[0;34m=\u001b[0m\u001b[0;36m1\u001b[0m\u001b[0;34m)\u001b[0m\u001b[0;34m\u001b[0m\u001b[0;34m\u001b[0m\u001b[0m\n\u001b[0;32m----> 9\u001b[0;31m \u001b[0mmodel\u001b[0m\u001b[0;34m.\u001b[0m\u001b[0mfit\u001b[0m\u001b[0;34m(\u001b[0m\u001b[0mX_train\u001b[0m\u001b[0;34m,\u001b[0m\u001b[0my_train\u001b[0m\u001b[0;34m)\u001b[0m\u001b[0;34m\u001b[0m\u001b[0;34m\u001b[0m\u001b[0m\n\u001b[0m\u001b[1;32m     10\u001b[0m \u001b[0mpred\u001b[0m \u001b[0;34m=\u001b[0m \u001b[0mmodel\u001b[0m\u001b[0;34m.\u001b[0m\u001b[0mpredict\u001b[0m\u001b[0;34m(\u001b[0m\u001b[0mX_test\u001b[0m\u001b[0;34m)\u001b[0m\u001b[0;34m\u001b[0m\u001b[0;34m\u001b[0m\u001b[0m\n\u001b[1;32m     11\u001b[0m \u001b[0;34m\u001b[0m\u001b[0m\n",
      "\u001b[0;32m/opt/conda/lib/python3.7/site-packages/sklearn/ensemble/_forest.py\u001b[0m in \u001b[0;36mfit\u001b[0;34m(self, X, y, sample_weight)\u001b[0m\n\u001b[1;32m    328\u001b[0m         \u001b[0mself\u001b[0m\u001b[0;34m.\u001b[0m\u001b[0mn_outputs_\u001b[0m \u001b[0;34m=\u001b[0m \u001b[0my\u001b[0m\u001b[0;34m.\u001b[0m\u001b[0mshape\u001b[0m\u001b[0;34m[\u001b[0m\u001b[0;36m1\u001b[0m\u001b[0;34m]\u001b[0m\u001b[0;34m\u001b[0m\u001b[0;34m\u001b[0m\u001b[0m\n\u001b[1;32m    329\u001b[0m \u001b[0;34m\u001b[0m\u001b[0m\n\u001b[0;32m--> 330\u001b[0;31m         \u001b[0my\u001b[0m\u001b[0;34m,\u001b[0m \u001b[0mexpanded_class_weight\u001b[0m \u001b[0;34m=\u001b[0m \u001b[0mself\u001b[0m\u001b[0;34m.\u001b[0m\u001b[0m_validate_y_class_weight\u001b[0m\u001b[0;34m(\u001b[0m\u001b[0my\u001b[0m\u001b[0;34m)\u001b[0m\u001b[0;34m\u001b[0m\u001b[0;34m\u001b[0m\u001b[0m\n\u001b[0m\u001b[1;32m    331\u001b[0m \u001b[0;34m\u001b[0m\u001b[0m\n\u001b[1;32m    332\u001b[0m         \u001b[0;32mif\u001b[0m \u001b[0mgetattr\u001b[0m\u001b[0;34m(\u001b[0m\u001b[0my\u001b[0m\u001b[0;34m,\u001b[0m \u001b[0;34m\"dtype\"\u001b[0m\u001b[0;34m,\u001b[0m \u001b[0;32mNone\u001b[0m\u001b[0;34m)\u001b[0m \u001b[0;34m!=\u001b[0m \u001b[0mDOUBLE\u001b[0m \u001b[0;32mor\u001b[0m \u001b[0;32mnot\u001b[0m \u001b[0my\u001b[0m\u001b[0;34m.\u001b[0m\u001b[0mflags\u001b[0m\u001b[0;34m.\u001b[0m\u001b[0mcontiguous\u001b[0m\u001b[0;34m:\u001b[0m\u001b[0;34m\u001b[0m\u001b[0;34m\u001b[0m\u001b[0m\n",
      "\u001b[0;32m/opt/conda/lib/python3.7/site-packages/sklearn/ensemble/_forest.py\u001b[0m in \u001b[0;36m_validate_y_class_weight\u001b[0;34m(self, y)\u001b[0m\n\u001b[1;32m    556\u001b[0m \u001b[0;34m\u001b[0m\u001b[0m\n\u001b[1;32m    557\u001b[0m     \u001b[0;32mdef\u001b[0m \u001b[0m_validate_y_class_weight\u001b[0m\u001b[0;34m(\u001b[0m\u001b[0mself\u001b[0m\u001b[0;34m,\u001b[0m \u001b[0my\u001b[0m\u001b[0;34m)\u001b[0m\u001b[0;34m:\u001b[0m\u001b[0;34m\u001b[0m\u001b[0;34m\u001b[0m\u001b[0m\n\u001b[0;32m--> 558\u001b[0;31m         \u001b[0mcheck_classification_targets\u001b[0m\u001b[0;34m(\u001b[0m\u001b[0my\u001b[0m\u001b[0;34m)\u001b[0m\u001b[0;34m\u001b[0m\u001b[0;34m\u001b[0m\u001b[0m\n\u001b[0m\u001b[1;32m    559\u001b[0m \u001b[0;34m\u001b[0m\u001b[0m\n\u001b[1;32m    560\u001b[0m         \u001b[0my\u001b[0m \u001b[0;34m=\u001b[0m \u001b[0mnp\u001b[0m\u001b[0;34m.\u001b[0m\u001b[0mcopy\u001b[0m\u001b[0;34m(\u001b[0m\u001b[0my\u001b[0m\u001b[0;34m)\u001b[0m\u001b[0;34m\u001b[0m\u001b[0;34m\u001b[0m\u001b[0m\n",
      "\u001b[0;32m/opt/conda/lib/python3.7/site-packages/sklearn/utils/multiclass.py\u001b[0m in \u001b[0;36mcheck_classification_targets\u001b[0;34m(y)\u001b[0m\n\u001b[1;32m    170\u001b[0m     if y_type not in ['binary', 'multiclass', 'multiclass-multioutput',\n\u001b[1;32m    171\u001b[0m                       'multilabel-indicator', 'multilabel-sequences']:\n\u001b[0;32m--> 172\u001b[0;31m         \u001b[0;32mraise\u001b[0m \u001b[0mValueError\u001b[0m\u001b[0;34m(\u001b[0m\u001b[0;34m\"Unknown label type: %r\"\u001b[0m \u001b[0;34m%\u001b[0m \u001b[0my_type\u001b[0m\u001b[0;34m)\u001b[0m\u001b[0;34m\u001b[0m\u001b[0;34m\u001b[0m\u001b[0m\n\u001b[0m\u001b[1;32m    173\u001b[0m \u001b[0;34m\u001b[0m\u001b[0m\n\u001b[1;32m    174\u001b[0m \u001b[0;34m\u001b[0m\u001b[0m\n",
      "\u001b[0;31mValueError\u001b[0m: Unknown label type: 'continuous'"
     ]
    }
   ],
   "source": [
    "from sklearn.ensemble import RandomForestClassifier\n",
    "\n",
    "X = data_df.drop(['Value'], axis=1)\n",
    "# X = data_df[['cos_monthly', 'cos_hourly','wind_speed_mph', 'wind_bearing_deg', 'visibility_miles_max_10']]\n",
    "y = data_df['Value']\n",
    "X_train, X_test, y_train, y_test = train_test_split(X,y, test_size=0.3, random_state=42)\n",
    "\n",
    "model = RandomForestClassifier(n_estimators=500, max_depth=10, random_state=1)\n",
    "model.fit(X_train,y_train)\n",
    "pred = model.predict(X_test)\n",
    "\n",
    "print(mean_squared_error(y_test, pred))\n",
    "print(model.score(X_test,y_test))\n",
    "plt.scatter(pred, y_test)"
   ]
  },
  {
   "cell_type": "code",
   "execution_count": 8,
   "metadata": {
    "execution": {
     "iopub.execute_input": "2021-02-16T14:34:16.116525Z",
     "iopub.status.busy": "2021-02-16T14:34:16.115847Z",
     "iopub.status.idle": "2021-02-16T14:34:16.276464Z",
     "shell.execute_reply": "2021-02-16T14:34:16.275929Z"
    },
    "papermill": {
     "duration": 0.203089,
     "end_time": "2021-02-16T14:34:16.276621",
     "exception": false,
     "start_time": "2021-02-16T14:34:16.073532",
     "status": "completed"
    },
    "tags": []
   },
   "outputs": [
    {
     "name": "stdout",
     "output_type": "stream",
     "text": [
      "0.6136267323082947\n",
      "0.40546457288690585\n"
     ]
    },
    {
     "data": {
      "text/plain": [
       "<matplotlib.collections.PathCollection at 0x7f45dc863b50>"
      ]
     },
     "execution_count": 8,
     "metadata": {},
     "output_type": "execute_result"
    },
    {
     "data": {
      "image/png": "[encoded data removed]",
      "text/plain": [
       "<Figure size 432x288 with 1 Axes>"
      ]
     },
     "metadata": {
      "needs_background": "light"
     },
     "output_type": "display_data"
    }
   ],
   "source": [
    "from sklearn.tree import DecisionTreeRegressor\n",
    "\n",
    "X = data_df.drop(['Value'], axis=1)\n",
    "# X = data_df[['visibility_miles_max_10']]\n",
    "# X = data_df[['cos_monthly', 'cos_hourly','wind_speed_mph', 'visibility_miles_max_10']]\n",
    "y = data_df['Value']\n",
    "X_train, X_test, y_train, y_test = train_test_split(X,y, test_size=0.3, random_state=42)\n",
    "\n",
    "model = DecisionTreeRegressor(max_depth=500, random_state=1)\n",
    "model.fit(X_train,y_train)\n",
    "pred = model.predict(X_test)\n",
    "\n",
    "print(mean_squared_error(y_test, pred))\n",
    "print(model.score(X_test,y_test))\n",
    "plt.scatter(pred, y_test)"
   ]
  },
  {
   "cell_type": "code",
   "execution_count": 9,
   "metadata": {
    "execution": {
     "iopub.execute_input": "2021-02-16T14:34:16.352482Z",
     "iopub.status.busy": "2021-02-16T14:34:16.351845Z",
     "iopub.status.idle": "2021-02-16T14:34:16.354848Z",
     "shell.execute_reply": "2021-02-16T14:34:16.354369Z"
    },
    "papermill": {
     "duration": 0.042709,
     "end_time": "2021-02-16T14:34:16.354986",
     "exception": false,
     "start_time": "2021-02-16T14:34:16.312277",
     "status": "completed"
    },
    "tags": []
   },
   "outputs": [],
   "source": [
    "# import keras\n",
    "# from keras import metrics\n",
    "# from keras import regularizers\n",
    "# from keras.models import Sequential\n",
    "# from keras.layers import Dense, Dropout, Flatten, Activation\n",
    "# from keras.layers import Conv2D, MaxPooling2D\n",
    "# from keras.optimizers import Adam, RMSprop\n",
    "# from keras.callbacks import TensorBoard, EarlyStopping, ModelCheckpoint\n",
    "# from keras.utils import plot_model\n",
    "# from keras.models import load_model"
   ]
  },
  {
   "cell_type": "code",
   "execution_count": 10,
   "metadata": {
    "execution": {
     "iopub.execute_input": "2021-02-16T14:34:16.434022Z",
     "iopub.status.busy": "2021-02-16T14:34:16.433360Z",
     "iopub.status.idle": "2021-02-16T14:34:16.437049Z",
     "shell.execute_reply": "2021-02-16T14:34:16.437756Z"
    },
    "papermill": {
     "duration": 0.047173,
     "end_time": "2021-02-16T14:34:16.437976",
     "exception": false,
     "start_time": "2021-02-16T14:34:16.390803",
     "status": "completed"
    },
    "tags": []
   },
   "outputs": [],
   "source": [
    "# def norm_stats(df1, df2):\n",
    "#     dfs = df1.append(df2)\n",
    "#     minimum = np.min(dfs)\n",
    "#     maximum = np.max(dfs)\n",
    "#     mu = np.mean(dfs)\n",
    "#     sigma = np.std(dfs)\n",
    "#     return (minimum, maximum, mu, sigma)\n",
    "\n",
    "# def z_score(col, stats):\n",
    "#     m, M, mu, s = stats\n",
    "#     df = pd.DataFrame()\n",
    "#     for c in col.columns:\n",
    "#         df[c] = (col[c]-mu[c])/s[c]\n",
    "#     return df"
   ]
  },
  {
   "cell_type": "code",
   "execution_count": 11,
   "metadata": {
    "execution": {
     "iopub.execute_input": "2021-02-16T14:34:16.529917Z",
     "iopub.status.busy": "2021-02-16T14:34:16.529136Z",
     "iopub.status.idle": "2021-02-16T14:34:16.534534Z",
     "shell.execute_reply": "2021-02-16T14:34:16.533938Z"
    },
    "papermill": {
     "duration": 0.051768,
     "end_time": "2021-02-16T14:34:16.534709",
     "exception": false,
     "start_time": "2021-02-16T14:34:16.482941",
     "status": "completed"
    },
    "tags": []
   },
   "outputs": [],
   "source": [
    "# X = data_df.drop(['Year', 'Day', 'Value'], axis=1)\n",
    "# # X = data_df[['visibility_miles_max_10']]\n",
    "# # X = data_df[['cos_monthly', 'cos_hourly','wind_speed_mph', 'visibility_miles_max_10']]\n",
    "# y = data_df['Value']\n",
    "# X_train, X_test, y_train, y_test = train_test_split(X,y, test_size=0.3, random_state=42)\n",
    "\n",
    "# stats = norm_stats(X_train, X_test)\n",
    "# X_train = np.array(z_score(X_train, stats))\n",
    "# y_train = np.array(y_train)\n",
    "# X_test = np.array(z_score(X_test, stats))\n",
    "# y_test = np.array(y_test)\n",
    "\n",
    "# print('Training shape:', X_train.shape)\n",
    "# print('Training samples: ', X_train.shape[0])\n",
    "# print('Validation samples: ', X_test.shape)\n",
    "# print('Validation samples: ', y_test.shape)"
   ]
  },
  {
   "cell_type": "code",
   "execution_count": 12,
   "metadata": {
    "execution": {
     "iopub.execute_input": "2021-02-16T14:34:16.614524Z",
     "iopub.status.busy": "2021-02-16T14:34:16.613773Z",
     "iopub.status.idle": "2021-02-16T14:34:16.616332Z",
     "shell.execute_reply": "2021-02-16T14:34:16.616783Z"
    },
    "papermill": {
     "duration": 0.043138,
     "end_time": "2021-02-16T14:34:16.616953",
     "exception": false,
     "start_time": "2021-02-16T14:34:16.573815",
     "status": "completed"
    },
    "tags": []
   },
   "outputs": [],
   "source": [
    "# def basic_model_1(x_size, y_size):\n",
    "#     t_model = Sequential()\n",
    "#     t_model.add(Dense(100, activation=\"tanh\", input_shape=(x_size,)))\n",
    "#     t_model.add(Dense(50, activation=\"relu\"))\n",
    "#     t_model.add(Dense(y_size))\n",
    "#     print(t_model.summary())\n",
    "#     t_model.compile(loss='mean_squared_error',\n",
    "#         optimizer=Adam(),\n",
    "#         metrics=[metrics.mae])\n",
    "#     return(t_model)\n"
   ]
  },
  {
   "cell_type": "code",
   "execution_count": 13,
   "metadata": {
    "execution": {
     "iopub.execute_input": "2021-02-16T14:34:16.693398Z",
     "iopub.status.busy": "2021-02-16T14:34:16.692637Z",
     "iopub.status.idle": "2021-02-16T14:34:16.696458Z",
     "shell.execute_reply": "2021-02-16T14:34:16.695784Z"
    },
    "papermill": {
     "duration": 0.043833,
     "end_time": "2021-02-16T14:34:16.696603",
     "exception": false,
     "start_time": "2021-02-16T14:34:16.652770",
     "status": "completed"
    },
    "tags": []
   },
   "outputs": [],
   "source": [
    "# def basic_model_2(x_size, y_size):\n",
    "#     t_model = Sequential()\n",
    "#     t_model.add(Dense(100, activation=\"tanh\", input_shape=(x_size,)))\n",
    "#     t_model.add(Dropout(0.1))\n",
    "#     t_model.add(Dense(50, activation=\"relu\"))\n",
    "#     t_model.add(Dense(20, activation=\"relu\"))\n",
    "#     t_model.add(Dense(y_size))\n",
    "#     print(t_model.summary())\n",
    "#     t_model.compile(loss='mean_squared_error',\n",
    "#         optimizer=Adam(),\n",
    "#         metrics=[metrics.mae])\n",
    "#     return(t_model)\n"
   ]
  },
  {
   "cell_type": "code",
   "execution_count": 14,
   "metadata": {
    "execution": {
     "iopub.execute_input": "2021-02-16T14:34:16.773508Z",
     "iopub.status.busy": "2021-02-16T14:34:16.772784Z",
     "iopub.status.idle": "2021-02-16T14:34:16.775668Z",
     "shell.execute_reply": "2021-02-16T14:34:16.775099Z"
    },
    "papermill": {
     "duration": 0.043212,
     "end_time": "2021-02-16T14:34:16.775810",
     "exception": false,
     "start_time": "2021-02-16T14:34:16.732598",
     "status": "completed"
    },
    "tags": []
   },
   "outputs": [],
   "source": [
    "# def basic_model_3(x_size, y_size):\n",
    "#     t_model = Sequential()\n",
    "#     t_model.add(Dense(80, activation=\"tanh\", kernel_initializer='normal', input_shape=(x_size,)))\n",
    "#     t_model.add(Dropout(0.2))\n",
    "#     t_model.add(Dense(120, activation=\"relu\", kernel_initializer='normal', \n",
    "#         kernel_regularizer=regularizers.l1(0.01), bias_regularizer=regularizers.l1(0.01)))\n",
    "#     t_model.add(Dropout(0.1))\n",
    "#     t_model.add(Dense(20, activation=\"relu\", kernel_initializer='normal', \n",
    "#         kernel_regularizer=regularizers.l1_l2(0.01), bias_regularizer=regularizers.l1_l2(0.01)))\n",
    "#     t_model.add(Dropout(0.1))\n",
    "#     t_model.add(Dense(10, activation=\"relu\", kernel_initializer='normal'))\n",
    "#     t_model.add(Dropout(0.0))\n",
    "#     t_model.add(Dense(y_size))\n",
    "#     t_model.compile(\n",
    "#         loss='mean_squared_error',\n",
    "#         optimizer='nadam',\n",
    "#         metrics=[metrics.mae])\n",
    "#     return(t_model)"
   ]
  },
  {
   "cell_type": "code",
   "execution_count": 15,
   "metadata": {
    "execution": {
     "iopub.execute_input": "2021-02-16T14:34:16.853831Z",
     "iopub.status.busy": "2021-02-16T14:34:16.853115Z",
     "iopub.status.idle": "2021-02-16T14:34:16.856923Z",
     "shell.execute_reply": "2021-02-16T14:34:16.856118Z"
    },
    "papermill": {
     "duration": 0.044982,
     "end_time": "2021-02-16T14:34:16.857077",
     "exception": false,
     "start_time": "2021-02-16T14:34:16.812095",
     "status": "completed"
    },
    "tags": []
   },
   "outputs": [],
   "source": [
    "\n",
    "\n",
    "\n",
    "# model = basic_model_1(X_train.shape[1], y_train.shape[1])\n",
    "# model.summary()\n",
    "\n",
    "# epochs = 500\n",
    "# batch_size = 128\n",
    "# keras_callbacks = [\n",
    "#     # ModelCheckpoint('/tmp/keras_checkpoints/model.{epoch:02d}-{val_loss:.2f}.hdf5', monitor='val_loss', save_best_only=True, verbose=2)\n",
    "#     # ModelCheckpoint('/tmp/keras_checkpoints/model.{epoch:02d}.hdf5', monitor='val_loss', save_best_only=True, verbose=0)\n",
    "#     # TensorBoard(log_dir='/tmp/keras_logs/model_3', histogram_freq=0, write_graph=True, write_images=True, embeddings_freq=0, embeddings_layer_names=None, embeddings_metadata=None),\n",
    "#     EarlyStopping(monitor='val_mean_absolute_error', patience=20, verbose=0)\n",
    "# ]\n",
    "\n",
    "# history = model.fit(X_train, y_train,\n",
    "#     batch_size=batch_size,\n",
    "#     epochs=epochs,\n",
    "#     shuffle=True,\n",
    "#     verbose=0, # Change it to 2, if wished to observe execution\n",
    "#     validation_data=(X_test, y_test))\n",
    "\n",
    "# train_score = model.evaluate(X_train, y_train, verbose=0)\n",
    "# pred = model.predict(X_test)\n",
    "# valid_score = model.evaluate(X_test, y_test, verbose=0)\n",
    "\n",
    "# print('Train MAE: ', round(train_score[1], 4), ', Train Loss: ', round(train_score[0], 4)) \n",
    "# print('Val MAE: ', round(valid_score[1], 4), ', Val Loss: ', round(valid_score[0], 4))\n",
    "\n"
   ]
  },
  {
   "cell_type": "code",
   "execution_count": 16,
   "metadata": {
    "execution": {
     "iopub.execute_input": "2021-02-16T14:34:16.934829Z",
     "iopub.status.busy": "2021-02-16T14:34:16.933898Z",
     "iopub.status.idle": "2021-02-16T14:34:16.937212Z",
     "shell.execute_reply": "2021-02-16T14:34:16.936612Z"
    },
    "papermill": {
     "duration": 0.043702,
     "end_time": "2021-02-16T14:34:16.937403",
     "exception": false,
     "start_time": "2021-02-16T14:34:16.893701",
     "status": "completed"
    },
    "tags": []
   },
   "outputs": [],
   "source": [
    "# print(mean_squared_error(y_test, pred))\n",
    "# train_score\n",
    "# plt.scatter(y_test,pred)"
   ]
  },
  {
   "cell_type": "code",
   "execution_count": 17,
   "metadata": {
    "execution": {
     "iopub.execute_input": "2021-02-16T14:34:17.016504Z",
     "iopub.status.busy": "2021-02-16T14:34:17.015815Z",
     "iopub.status.idle": "2021-02-16T14:34:17.018556Z",
     "shell.execute_reply": "2021-02-16T14:34:17.019038Z"
    },
    "papermill": {
     "duration": 0.043933,
     "end_time": "2021-02-16T14:34:17.019203",
     "exception": false,
     "start_time": "2021-02-16T14:34:16.975270",
     "status": "completed"
    },
    "tags": []
   },
   "outputs": [],
   "source": [
    "# def plot_hist(h, xsize=6, ysize=10):\n",
    "#     # Prepare plotting\n",
    "#     fig_size = plt.rcParams[\"figure.figsize\"]\n",
    "#     plt.rcParams[\"figure.figsize\"] = [xsize, ysize]\n",
    "#     fig, axes = plt.subplots(nrows=4, ncols=4, sharex=True)\n",
    "    \n",
    "#     # summarize history for MAE\n",
    "#     plt.subplot(211)\n",
    "#     plt.plot(h['mean_absolute_error'])\n",
    "#     plt.plot(h['val_mean_absolute_error'])\n",
    "#     plt.title('Training vs Validation MAE')\n",
    "#     plt.ylabel('MAE')\n",
    "#     plt.xlabel('Epoch')\n",
    "#     plt.legend(['Train', 'Validation'], loc='upper left')\n",
    "    \n",
    "#     # summarize history for loss\n",
    "#     plt.subplot(212)\n",
    "#     plt.plot(h['loss'])\n",
    "#     plt.plot(h['val_loss'])\n",
    "#     plt.title('Training vs Validation Loss')\n",
    "#     plt.ylabel('Loss')\n",
    "#     plt.xlabel('Epoch')\n",
    "#     plt.legend(['Train', 'Validation'], loc='upper left')\n",
    "    \n",
    "#     # Plot it all in IPython (non-interactive)\n",
    "#     plt.draw()\n",
    "#     plt.show()\n",
    "\n",
    "#     return\n",
    "\n",
    "# plot_hist(history.history, xsize=8, ysize=12)"
   ]
  },
  {
   "cell_type": "code",
   "execution_count": 18,
   "metadata": {
    "execution": {
     "iopub.execute_input": "2021-02-16T14:34:17.095946Z",
     "iopub.status.busy": "2021-02-16T14:34:17.095261Z",
     "iopub.status.idle": "2021-02-16T14:34:17.099558Z",
     "shell.execute_reply": "2021-02-16T14:34:17.099005Z"
    },
    "papermill": {
     "duration": 0.043599,
     "end_time": "2021-02-16T14:34:17.099708",
     "exception": false,
     "start_time": "2021-02-16T14:34:17.056109",
     "status": "completed"
    },
    "tags": []
   },
   "outputs": [],
   "source": [
    "# sns.lmplot(x = 'visibility_miles_max_10',y ='Value', data = data_df, line_kws={'color': 'red'}) "
   ]
  },
  {
   "cell_type": "code",
   "execution_count": 19,
   "metadata": {
    "execution": {
     "iopub.execute_input": "2021-02-16T14:34:17.179416Z",
     "iopub.status.busy": "2021-02-16T14:34:17.178718Z",
     "iopub.status.idle": "2021-02-16T14:34:17.181574Z",
     "shell.execute_reply": "2021-02-16T14:34:17.181019Z"
    },
    "papermill": {
     "duration": 0.044928,
     "end_time": "2021-02-16T14:34:17.181718",
     "exception": false,
     "start_time": "2021-02-16T14:34:17.136790",
     "status": "completed"
    },
    "tags": []
   },
   "outputs": [],
   "source": [
    "# #building lin reg model using train and test data\n",
    "# from sklearn.model_selection import train_test_split\n",
    "\n",
    "# def feature_scaler(col): \n",
    "#     avg = np.mean(col)\n",
    "#     std = np.std(col)\n",
    "#     # for each x, subtract by the column mean and divide by the standard dev\n",
    "#     scale = np.vectorize(lambda x: (x - avg) / std)\n",
    "#     return scale(col)\n",
    "\n",
    "# def cost_function(X,y,B):\n",
    "#     m = X.shape[0]\n",
    "#     J = np.sum((np.dot(X,B)-y)**2)/(2*m)\n",
    "#     return J\n",
    "\n",
    "# X = np.array(data_df[['x0','visibility_miles_max_10']])\n",
    "# X[:,1] = feature_scaler(X[:,1])\n",
    "# Y = data_df['Value']\n",
    "# # print(X)\n",
    "\n",
    "\n",
    "\n",
    "# X_train, X_test, y_train, y_test = train_test_split(X, Y, test_size=0.3, random_state=42)\n",
    "# X_train\n",
    "\n",
    "# alpha = 0.01\n",
    "# iter = 3000\n",
    "# m = len(X_train)\n",
    "# B = np.zeros(X_train.shape[1])\n",
    "# for i in range(iter):\n",
    "#     h = np.dot(X_train,B)\n",
    "#     loss = h-y_train\n",
    "#     der = np.dot(loss,X_train)/m\n",
    "#     B = B- alpha*der\n",
    "#     cost = cost_function(X_train,y_train,B)\n",
    "#     print(f\"Iteration : {iter}; Cost : {cost}\")\n",
    "\n",
    "# print(B)\n",
    "\n",
    "# x = np.array(range(-2,3))\n",
    "\n",
    "# # fig,a = plt.subplots(1,2)\n",
    "# plt.plot(x,B[0] + B[1]*x,'r')\n",
    "# plt.scatter(X_train[:,1],y_train)\n",
    "# plt.show()\n",
    "\n",
    "# # plt.subplots(1,2,2)\n",
    "# pred = np.dot(X_test,B)\n",
    "# # plt.scatter(pred,y_test)\n",
    "# # plt.xlim(0,300)\n",
    "# # plt.ylim(0,300)\n",
    "# # plt.show()\n",
    "# pred_df = pd.DataFrame()\n",
    "# pred_df.insert(0,'pred',pred)\n",
    "# pred_df.insert(1,'y_test',np.array(y_test))\n",
    "# pred_df.head()\n",
    "# sns.lmplot(x = 'y_test',y = 'pred',data = pred_df, line_kws={'color': 'red'}) \n",
    "# plt.xlim(0,250)\n",
    "# plt.ylim(0,250)\n",
    "# plt.show()"
   ]
  },
  {
   "cell_type": "code",
   "execution_count": 20,
   "metadata": {
    "execution": {
     "iopub.execute_input": "2021-02-16T14:34:17.261649Z",
     "iopub.status.busy": "2021-02-16T14:34:17.260831Z",
     "iopub.status.idle": "2021-02-16T14:34:17.264011Z",
     "shell.execute_reply": "2021-02-16T14:34:17.263483Z"
    },
    "papermill": {
     "duration": 0.045516,
     "end_time": "2021-02-16T14:34:17.264159",
     "exception": false,
     "start_time": "2021-02-16T14:34:17.218643",
     "status": "completed"
    },
    "tags": []
   },
   "outputs": [],
   "source": [
    "# from sklearn.model_selection import train_test_split\n",
    "\n",
    "# X = np.array(data_df[['x0','wind_speed_mph']])\n",
    "# Y = data_df['Value']\n",
    "# X[:,1] = feature_scaler(X[:,1])\n",
    "# # print(X)\n",
    "\n",
    "# X_train, X_test, y_train, y_test = train_test_split(X, Y, test_size=0.3, random_state=42)\n",
    "# X_train\n",
    "\n",
    "# alpha = 0.01\n",
    "# iter = 10000\n",
    "# m = len(X_train)\n",
    "# B = np.zeros(X_train.shape[1])\n",
    "# for i in range(iter):\n",
    "#     h = np.dot(X_train,B)\n",
    "#     loss = h-y_train\n",
    "#     der = np.dot(loss,X_train)/m\n",
    "#     B = B- alpha*der\n",
    "\n",
    "# print(B)\n",
    "\n",
    "# x = np.array(range(int(min(X_train[:,1])),int(max(X_train[:,1]))))\n",
    "\n",
    "# plt.plot(x,B[0] + B[1]*x,'r')\n",
    "# plt.scatter(X_train[:,1],y_train)\n",
    "# plt.show()\n",
    "\n",
    "# pred = np.dot(X_test,B)\n",
    "# # plt.scatter(pred,y_test)\n",
    "# # plt.xlim(0,300)\n",
    "# # plt.ylim(0,300)\n",
    "# # plt.show()\n",
    "# y_test\n",
    "# pred_df = pd.DataFrame()\n",
    "# pred_df.insert(0,'pred',pred)\n",
    "# pred_df.insert(1,'y_test',np.array(y_test))\n",
    "# pred_df.head()\n",
    "# sns.lmplot(x = 'y_test',y = 'pred',data = pred_df, line_kws={'color': 'red'}) \n",
    "# plt.xlim(0,150)\n",
    "# plt.ylim(0,150)\n",
    "# plt.show()"
   ]
  },
  {
   "cell_type": "code",
   "execution_count": 21,
   "metadata": {
    "execution": {
     "iopub.execute_input": "2021-02-16T14:34:17.349375Z",
     "iopub.status.busy": "2021-02-16T14:34:17.348120Z",
     "iopub.status.idle": "2021-02-16T14:34:17.351133Z",
     "shell.execute_reply": "2021-02-16T14:34:17.350359Z"
    },
    "papermill": {
     "duration": 0.047427,
     "end_time": "2021-02-16T14:34:17.351286",
     "exception": false,
     "start_time": "2021-02-16T14:34:17.303859",
     "status": "completed"
    },
    "tags": []
   },
   "outputs": [],
   "source": [
    "# from sklearn.model_selection import train_test_split\n",
    "\n",
    "# X = np.array(data_df[['x0','pressure_mb']])\n",
    "# Y = data_df['Value']\n",
    "# X[:,1] = feature_scaler(X[:,1])\n",
    "\n",
    "# # print(X)\n",
    "\n",
    "# X_train, X_test, y_train, y_test = train_test_split(X, Y, test_size=0.3, random_state=42)\n",
    "# # print(X_train)\n",
    "# # plt.scatter(X_train[:,1],y_train)\n",
    "\n",
    "# alpha = 0.01\n",
    "# iter = 30000\n",
    "# m = len(X_train)\n",
    "# B = np.zeros(X_train.shape[1])\n",
    "# for i in range(iter):\n",
    "#     h = np.dot(X_train,B)\n",
    "#     loss = h-y_train\n",
    "#     der = np.dot(loss,X_train)/m\n",
    "#     B = B- alpha*der\n",
    "# #     print(B)\n",
    "\n",
    "# print(B)\n",
    "\n",
    "# x = np.array( range( int( min(X_train[:,1])), int(max(X_train[:,1])) ))\n",
    "\n",
    "# plt.plot(x,B[0] + B[1]*x,'r')\n",
    "# plt.scatter(X_train[:,1],y_train)\n",
    "# plt.show()\n",
    "\n",
    "\n",
    "# pred = np.dot(X_test,B)\n",
    "# # plt.scatter(pred,y_test)\n",
    "# # plt.xlim(0,300)\n",
    "# # plt.ylim(0,300)\n",
    "# # plt.show()\n",
    "# pred_df = pd.DataFrame()\n",
    "# pred_df.insert(0,'pred',pred)\n",
    "# pred_df.insert(1,'y_test',np.array(y_test))\n",
    "# pred_df.head()\n",
    "# sns.lmplot(x = 'y_test',y = 'pred',data = pred_df, line_kws={'color': 'red'}) \n",
    "# plt.xlim(0,200)\n",
    "# plt.ylim(0,200)\n",
    "# plt.show()"
   ]
  },
  {
   "cell_type": "code",
   "execution_count": 22,
   "metadata": {
    "execution": {
     "iopub.execute_input": "2021-02-16T14:34:17.442195Z",
     "iopub.status.busy": "2021-02-16T14:34:17.441210Z",
     "iopub.status.idle": "2021-02-16T14:34:17.444134Z",
     "shell.execute_reply": "2021-02-16T14:34:17.443632Z"
    },
    "papermill": {
     "duration": 0.049674,
     "end_time": "2021-02-16T14:34:17.444285",
     "exception": false,
     "start_time": "2021-02-16T14:34:17.394611",
     "status": "completed"
    },
    "tags": []
   },
   "outputs": [],
   "source": [
    "# from sklearn.model_selection import train_test_split\n",
    "\n",
    "# def cost_function(X,y,B):\n",
    "#     m = X.shape[0]\n",
    "#     J = np.sum((np.dot(X,B)-y)**2)/(2*m)\n",
    "#     return J\n",
    "\n",
    "# X = np.array(data_df[['x0','wind_speed_mph','visibility_miles_max_10']])\n",
    "# X[:,1] = feature_scaler(X[:,1])\n",
    "# X[:,2] = feature_scaler(X[:,2])\n",
    "\n",
    "# Y = np.array(data_df['Value'])\n",
    "# # print(X)\n",
    "\n",
    "# X_train, X_test, y_train, y_test = train_test_split(X, Y, test_size=0.3, random_state=42)\n",
    "# # print(X_train)\n",
    "# # plt.scatter(X_train[:,1],y_train)\n",
    "\n",
    "# alpha = 0.001\n",
    "# iter = 30000\n",
    "# m = len(X_train)\n",
    "# B = np.zeros(X_train.shape[1])\n",
    "# for i in range(iter):\n",
    "#     h = np.dot(X_train,B)\n",
    "#     loss = h-y_train\n",
    "#     der = np.dot(loss,X_train)/m\n",
    "#     B = B- alpha*der\n",
    "#     cost = cost_function(X_train,y_train,B)\n",
    "#     print(f\"Iteration : {iter}; Cost : {cost}\")\n",
    "# #     print(B)\n",
    "\n",
    "# print(B)\n",
    "\n",
    "# pred = np.dot(X_test,B)\n",
    "# # plt.scatter(pred,y_test)\n",
    "# # plt.xlim(0,300)\n",
    "# # plt.ylim(0,300)\n",
    "# # plt.show()\n",
    "# y_test\n",
    "# pred_df = pd.DataFrame()\n",
    "# pred_df.insert(0,'pred',pred)\n",
    "# pred_df.insert(1,'y_test',np.array(y_test))\n",
    "# pred_df.head()\n",
    "# sns.lmplot(x = 'y_test',y = 'pred',data = pred_df, line_kws={'color': 'red'}) \n",
    "# plt.xlim(0,250)\n",
    "# plt.ylim(0,250)\n",
    "# plt.show()"
   ]
  },
  {
   "cell_type": "code",
   "execution_count": 23,
   "metadata": {
    "execution": {
     "iopub.execute_input": "2021-02-16T14:34:17.525150Z",
     "iopub.status.busy": "2021-02-16T14:34:17.524460Z",
     "iopub.status.idle": "2021-02-16T14:34:17.527663Z",
     "shell.execute_reply": "2021-02-16T14:34:17.527115Z"
    },
    "papermill": {
     "duration": 0.045837,
     "end_time": "2021-02-16T14:34:17.527809",
     "exception": false,
     "start_time": "2021-02-16T14:34:17.481972",
     "status": "completed"
    },
    "tags": []
   },
   "outputs": [],
   "source": [
    "# from sklearn.model_selection import train_test_split\n",
    "# import math\n",
    "\n",
    "# def transform_unit(unit, divisor):\n",
    "#     def transform(unit):\n",
    "#         return (2 * math.pi * (unit - .5) / divisor)\n",
    "#     return math.sin(transform(unit)), math.cos(transform(unit))\n",
    "\n",
    "# to_both = np.vectorize(lambda x: transform_unit(x, 12))\n",
    "\n",
    "# X = np.array(data_df[['x0', 'Month', 'Month']])\n",
    "# sin_month,cos_month = to_both(X[:,1])\n",
    "# X[:,1] = sin_month\n",
    "# X[:,2] = cos_month\n",
    "\n",
    "# X_df = pd.DataFrame(X)\n",
    "# print(X_df.describe())\n",
    "\n",
    "# Y = data_df['Value']\n",
    "# # print(X)\n",
    "\n",
    "# X_train, X_test, y_train, y_test = train_test_split(X, Y, test_size=0.3, random_state=42)\n",
    "# # print(X_train)\n",
    "# # plt.scatter(X_train[:,1],y_train)\n",
    "# alpha = 0.01\n",
    "# iter = 3000\n",
    "# m = len(X_train)\n",
    "# B = np.zeros(X_train.shape[1])\n",
    "# for i in range(iter):\n",
    "#     h = np.dot(X_train,B)\n",
    "#     loss = h-y_train\n",
    "#     der = np.dot(loss,X_train)/m\n",
    "#     B = B- alpha*der\n",
    "#     cost = cost_function(X_train,y_train,B)\n",
    "#     print(f\"Iteration : {iter}; Cost : {cost}\")\n",
    "# #     print(B)\n",
    "\n",
    "# print(B)\n",
    "\n",
    "# x = np.array( range( int( min(X_train[:,1])), int(max(X_train[:,1])) ))\n",
    "# plt.plot(x,B[0] + B[1]*x,'r')\n",
    "# plt.scatter(X_train[:,2],y_train)\n",
    "# plt.show()\n",
    "\n",
    "# pred = np.dot(X_test,B)\n",
    "# # plt.scatter(pred,y_test)\n",
    "# # plt.xlim(0,300)\n",
    "# # plt.ylim(0,300)\n",
    "# # plt.show()\n",
    "# y_test\n",
    "# pred_df = pd.DataFrame()\n",
    "# pred_df.insert(0,'pred',pred)\n",
    "# pred_df.insert(1,'y_test',np.array(y_test))\n",
    "# pred_df.head()\n",
    "# sns.lmplot(x = 'y_test',y = 'pred',data = pred_df, line_kws={'color': 'red'}) \n",
    "# plt.xlim(0,250)\n",
    "# plt.ylim(0,250)\n",
    "# plt.show()"
   ]
  },
  {
   "cell_type": "code",
   "execution_count": 24,
   "metadata": {
    "execution": {
     "iopub.execute_input": "2021-02-16T14:34:17.609016Z",
     "iopub.status.busy": "2021-02-16T14:34:17.608128Z",
     "iopub.status.idle": "2021-02-16T14:34:17.610940Z",
     "shell.execute_reply": "2021-02-16T14:34:17.610324Z"
    },
    "papermill": {
     "duration": 0.045298,
     "end_time": "2021-02-16T14:34:17.611079",
     "exception": false,
     "start_time": "2021-02-16T14:34:17.565781",
     "status": "completed"
    },
    "tags": []
   },
   "outputs": [],
   "source": [
    "# X = np.array(data_df[['x0', 'Month', 'Month']])\n",
    "# # Jan = np.array(data_df.loc[data_df['Month']==1])\n",
    "# # print(len(Jan))\n",
    "# Jan = np.array(data_df.loc[data_df['Month']==1])\n",
    "# print(len(Jan))\n",
    "# Feb = np.array(data_df.loc[data_df['Month']==2])\n",
    "# print(len(Feb))\n",
    "# Mar = np.array(data_df.loc[data_df['Month']==3])\n",
    "# print(len(Mar))\n",
    "# Apr = np.array(data_df.loc[data_df['Month']==4])\n",
    "# print(len(Apr))\n",
    "# May = np.array(data_df.loc[data_df['Month']==5])\n",
    "# print(len(May))\n",
    "# Jun = np.array(data_df.loc[data_df['Month']==6])\n",
    "# print(len(Jun))\n",
    "# Jul = np.array(data_df.loc[data_df['Month']==7])\n",
    "# print(len(Jul))\n",
    "# Aug = np.array(data_df.loc[data_df['Month']==8])\n",
    "# print(len(Aug))\n",
    "# Sep = np.array(data_df.loc[data_df['Month']==9])\n",
    "# print(len(Sep))\n",
    "# Oct = np.array(data_df.loc[data_df['Month']==10])\n",
    "# print(len(Oct))\n",
    "# Nov = np.array(data_df.loc[data_df['Month']==11])\n",
    "# print(len(Nov))\n",
    "# Dec = np.array(data_df.loc[data_df['Month']==12])\n",
    "# print(len(Dec))\n",
    "# # Jan = np.array(data_df.loc[data_df['Month']==1])\n",
    "# # print(len(Jan))\n",
    "# # Jan = np.array(data_df.loc[data_df['Month']==1])\n",
    "# # print(len(Jan))"
   ]
  },
  {
   "cell_type": "code",
   "execution_count": 25,
   "metadata": {
    "execution": {
     "iopub.execute_input": "2021-02-16T14:34:17.691030Z",
     "iopub.status.busy": "2021-02-16T14:34:17.690209Z",
     "iopub.status.idle": "2021-02-16T14:34:17.692819Z",
     "shell.execute_reply": "2021-02-16T14:34:17.692198Z"
    },
    "papermill": {
     "duration": 0.044237,
     "end_time": "2021-02-16T14:34:17.692955",
     "exception": false,
     "start_time": "2021-02-16T14:34:17.648718",
     "status": "completed"
    },
    "tags": []
   },
   "outputs": [],
   "source": [
    "# from sklearn import metrics\n",
    "\n",
    "# def print_evaluate(true, predicted):  \n",
    "#     mae = metrics.mean_absolute_error(true, predicted)\n",
    "#     mse = metrics.mean_squared_error(true, predicted)\n",
    "#     rmse = np.sqrt(metrics.mean_squared_error(true, predicted))\n",
    "#     r2_square = metrics.r2_score(true, predicted)\n",
    "#     true, predicted = np.array(true), np.array(predicted)\n",
    "#     mape = np.mean(np.abs((true - predicted) / true)) * 100\n",
    "#     print('mean_absolute_error:', mae)\n",
    "#     print('mean_squared_error:', mse)\n",
    "#     print('root_mean_squared_error:', rmse)\n",
    "#     print('R2 Square', r2_square)\n",
    "#     print(\"Mean absolute percent error: \",mape)\n",
    "\n",
    "# print_evaluate(y_test, pred)"
   ]
  }
 ],
 "metadata": {
  "kernelspec": {
   "display_name": "Python 3",
   "language": "python",
   "name": "python3"
  },
  "language_info": {
   "codemirror_mode": {
    "name": "ipython",
    "version": 3
   },
   "file_extension": ".py",
   "mimetype": "text/x-python",
   "name": "python",
   "nbconvert_exporter": "python",
   "pygments_lexer": "ipython3",
   "version": "3.7.9"
  },
  "papermill": {
   "default_parameters": {},
   "duration": 23.39351,
   "end_time": "2021-02-16T14:34:18.545677",
   "environment_variables": {},
   "exception": null,
   "input_path": "__notebook__.ipynb",
   "output_path": "__notebook__.ipynb",
   "parameters": {},
   "start_time": "2021-02-16T14:33:55.152167",
   "version": "2.2.2"
  },
  "widgets": {
   "application/vnd.jupyter.widget-state+json": {
    "state": {
     "00eff7b3b01e485badebd3fb23ee1c40": {
      "model_module": "@jupyter-widgets/controls",
      "model_module_version": "1.5.0",
      "model_name": "DescriptionStyleModel",
      "state": {
       "_model_module": "@jupyter-widgets/controls",
       "_model_module_version": "1.5.0",
       "_model_name": "DescriptionStyleModel",
       "_view_count": null,
       "_view_module": "@jupyter-widgets/base",
       "_view_module_version": "1.2.0",
       "_view_name": "StyleView",
       "description_width": ""
      }
     },
     "01a7bd2db01840abbde1bf0b172731e4": {
      "model_module": "@jupyter-widgets/controls",
      "model_module_version": "1.5.0",
      "model_name": "DescriptionStyleModel",
      "state": {
       "_model_module": "@jupyter-widgets/controls",
       "_model_module_version": "1.5.0",
       "_model_name": "DescriptionStyleModel",
       "_view_count": null,
       "_view_module": "@jupyter-widgets/base",
       "_view_module_version": "1.2.0",
       "_view_name": "StyleView",
       "description_width": ""
      }
     },
     "0693f2e2735b41f790454e578e518898": {
      "model_module": "@jupyter-widgets/base",
      "model_module_version": "1.2.0",
      "model_name": "LayoutModel",
      "state": {
       "_model_module": "@jupyter-widgets/base",
       "_model_module_version": "1.2.0",
       "_model_name": "LayoutModel",
       "_view_count": null,
       "_view_module": "@jupyter-widgets/base",
       "_view_module_version": "1.2.0",
       "_view_name": "LayoutView",
       "align_content": null,
       "align_items": null,
       "align_self": null,
       "border": null,
       "bottom": null,
       "display": null,
       "flex": null,
       "flex_flow": null,
       "grid_area": "widget025",
       "grid_auto_columns": null,
       "grid_auto_flow": null,
       "grid_auto_rows": null,
       "grid_column": null,
       "grid_gap": null,
       "grid_row": null,
       "grid_template_areas": null,
       "grid_template_columns": null,
       "grid_template_rows": null,
       "height": null,
       "justify_content": null,
       "justify_items": null,
       "left": null,
       "margin": null,
       "max_height": null,
       "max_width": null,
       "min_height": null,
       "min_width": null,
       "object_fit": null,
       "object_position": null,
       "order": null,
       "overflow": null,
       "overflow_x": null,
       "overflow_y": null,
       "padding": null,
       "right": null,
       "top": null,
       "visibility": null,
       "width": null
      }
     },
     "07350c5096e7483f8c02bb3b152df6e7": {
      "model_module": "@jupyter-widgets/controls",
      "model_module_version": "1.5.0",
      "model_name": "VBoxModel",
      "state": {
       "_dom_classes": [],
       "_model_module": "@jupyter-widgets/controls",
       "_model_module_version": "1.5.0",
       "_model_name": "VBoxModel",
       "_view_count": null,
       "_view_module": "@jupyter-widgets/controls",
       "_view_module_version": "1.5.0",
       "_view_name": "VBoxView",
       "box_style": "",
       "children": [
        "IPY_MODEL_dbce41f9e85944bc9e1ccca2a41fb0ae",
        "IPY_MODEL_4bcafc6332f4424aab1578aa1dd31532"
       ],
       "layout": "IPY_MODEL_ca1f7e32ef3043819ee030cc6c1a9684"
      }
     },
     "0813d4509f53424e8273af37dd2c5da3": {
      "model_module": "@jupyter-widgets/controls",
      "model_module_version": "1.5.0",
      "model_name": "HTMLModel",
      "state": {
       "_dom_classes": [],
       "_model_module": "@jupyter-widgets/controls",
       "_model_module_version": "1.5.0",
       "_model_name": "HTMLModel",
       "_view_count": null,
       "_view_module": "@jupyter-widgets/controls",
       "_view_module_version": "1.5.0",
       "_view_name": "HTMLView",
       "description": "",
       "description_tooltip": null,
       "layout": "IPY_MODEL_4f81d61faee0497d96fe9caaaae12bba",
       "placeholder": "​",
       "style": "IPY_MODEL_3f94c5be4d1e4b46a5678d6e2dc6cd22",
       "value": "<p style=\"margin-bottom:-10px;color:black\">100%</p><p style=\"margin-bottom:-10px;color:black\">0.0000</p>"
      }
     },
     "08531af2ca014bbab1cb66d70049a52c": {
      "model_module": "@jupyter-widgets/controls",
      "model_module_version": "1.5.0",
      "model_name": "DescriptionStyleModel",
      "state": {
       "_model_module": "@jupyter-widgets/controls",
       "_model_module_version": "1.5.0",
       "_model_name": "DescriptionStyleModel",
       "_view_count": null,
       "_view_module": "@jupyter-widgets/base",
       "_view_module_version": "1.2.0",
       "_view_name": "StyleView",
       "description_width": ""
      }
     },
     "085c98f08286459b94f778d5b21ced30": {
      "model_module": "@jupyter-widgets/controls",
      "model_module_version": "1.5.0",
      "model_name": "DescriptionStyleModel",
      "state": {
       "_model_module": "@jupyter-widgets/controls",
       "_model_module_version": "1.5.0",
       "_model_name": "DescriptionStyleModel",
       "_view_count": null,
       "_view_module": "@jupyter-widgets/base",
       "_view_module_version": "1.2.0",
       "_view_name": "StyleView",
       "description_width": ""
      }
     },
     "09ae8691811f40b5be2854feabdf30b2": {
      "model_module": "@jupyter-widgets/controls",
      "model_module_version": "1.5.0",
      "model_name": "DescriptionStyleModel",
      "state": {
       "_model_module": "@jupyter-widgets/controls",
       "_model_module_version": "1.5.0",
       "_model_name": "DescriptionStyleModel",
       "_view_count": null,
       "_view_module": "@jupyter-widgets/base",
       "_view_module_version": "1.2.0",
       "_view_name": "StyleView",
       "description_width": ""
      }
     },
     "09f23bc3584d467fa4aa69219790e235": {
      "model_module": "@jupyter-widgets/base",
      "model_module_version": "1.2.0",
      "model_name": "LayoutModel",
      "state": {
       "_model_module": "@jupyter-widgets/base",
       "_model_module_version": "1.2.0",
       "_model_name": "LayoutModel",
       "_view_count": null,
       "_view_module": "@jupyter-widgets/base",
       "_view_module_version": "1.2.0",
       "_view_name": "LayoutView",
       "align_content": null,
       "align_items": null,
       "align_self": null,
       "border": null,
       "bottom": null,
       "display": null,
       "flex": null,
       "flex_flow": null,
       "grid_area": "widget013",
       "grid_auto_columns": null,
       "grid_auto_flow": null,
       "grid_auto_rows": null,
       "grid_column": null,
       "grid_gap": null,
       "grid_row": null,
       "grid_template_areas": null,
       "grid_template_columns": null,
       "grid_template_rows": null,
       "height": null,
       "justify_content": null,
       "justify_items": null,
       "left": null,
       "margin": null,
       "max_height": null,
       "max_width": null,
       "min_height": null,
       "min_width": null,
       "object_fit": null,
       "object_position": null,
       "order": null,
       "overflow": null,
       "overflow_x": null,
       "overflow_y": null,
       "padding": null,
       "right": null,
       "top": null,
       "visibility": null,
       "width": null
      }
     },
     "0a824a7b76d7428da096f13ee9cec7b0": {
      "model_module": "@jupyter-widgets/controls",
      "model_module_version": "1.5.0",
      "model_name": "DescriptionStyleModel",
      "state": {
       "_model_module": "@jupyter-widgets/controls",
       "_model_module_version": "1.5.0",
       "_model_name": "DescriptionStyleModel",
       "_view_count": null,
       "_view_module": "@jupyter-widgets/base",
       "_view_module_version": "1.2.0",
       "_view_name": "StyleView",
       "description_width": ""
      }
     },
     "0c25eafd5af34e5cb8782457292b59ab": {
      "model_module": "@jupyter-widgets/controls",
      "model_module_version": "1.5.0",
      "model_name": "HTMLModel",
      "state": {
       "_dom_classes": [],
       "_model_module": "@jupyter-widgets/controls",
       "_model_module_version": "1.5.0",
       "_model_name": "HTMLModel",
       "_view_count": null,
       "_view_module": "@jupyter-widgets/controls",
       "_view_module_version": "1.5.0",
       "_view_name": "HTMLView",
       "description": "",
       "description_tooltip": null,
       "layout": "IPY_MODEL_43e24631600a4789bfea1a99c798156b",
       "placeholder": "​",
       "style": "IPY_MODEL_9ff63b474c164680905cf5b1311e9a41",
       "value": ""
      }
     },
     "0c7971434c8b426bafa7cce2d30cc008": {
      "model_module": "@jupyter-widgets/controls",
      "model_module_version": "1.5.0",
      "model_name": "DescriptionStyleModel",
      "state": {
       "_model_module": "@jupyter-widgets/controls",
       "_model_module_version": "1.5.0",
       "_model_name": "DescriptionStyleModel",
       "_view_count": null,
       "_view_module": "@jupyter-widgets/base",
       "_view_module_version": "1.2.0",
       "_view_name": "StyleView",
       "description_width": ""
      }
     },
     "0d711f6c67ab4e3bb4e711b75d9008e8": {
      "model_module": "@jupyter-widgets/base",
      "model_module_version": "1.2.0",
      "model_name": "LayoutModel",
      "state": {
       "_model_module": "@jupyter-widgets/base",
       "_model_module_version": "1.2.0",
       "_model_name": "LayoutModel",
       "_view_count": null,
       "_view_module": "@jupyter-widgets/base",
       "_view_module_version": "1.2.0",
       "_view_name": "LayoutView",
       "align_content": null,
       "align_items": null,
       "align_self": null,
       "border": "2px solid rgb(50,62,236)",
       "bottom": null,
       "display": null,
       "flex": null,
       "flex_flow": null,
       "grid_area": null,
       "grid_auto_columns": null,
       "grid_auto_flow": null,
       "grid_auto_rows": null,
       "grid_column": null,
       "grid_gap": null,
       "grid_row": null,
       "grid_template_areas": null,
       "grid_template_columns": null,
       "grid_template_rows": null,
       "height": null,
       "justify_content": null,
       "justify_items": null,
       "left": null,
       "margin": "5px 5px 5px 5px",
       "max_height": "400px",
       "max_width": "calc(50.0% - 8px)",
       "min_height": "400px",
       "min_width": "calc(50.0% - 8px)",
       "object_fit": null,
       "object_position": null,
       "order": null,
       "overflow": "auto",
       "overflow_x": null,
       "overflow_y": null,
       "padding": "5px 5px 5px 5px",
       "right": null,
       "top": null,
       "visibility": null,
       "width": null
      }
     },
     "0e9ca48d09b04e399a94b0e956e73f38": {
      "model_module": "@jupyter-widgets/controls",
      "model_module_version": "1.5.0",
      "model_name": "HBoxModel",
      "state": {
       "_dom_classes": [],
       "_model_module": "@jupyter-widgets/controls",
       "_model_module_version": "1.5.0",
       "_model_name": "HBoxModel",
       "_view_count": null,
       "_view_module": "@jupyter-widgets/controls",
       "_view_module_version": "1.5.0",
       "_view_name": "HBoxView",
       "box_style": "",
       "children": [
        "IPY_MODEL_73a12c8a2a854b2f9c03bb78cbf33cdc",
        "IPY_MODEL_07350c5096e7483f8c02bb3b152df6e7"
       ],
       "layout": "IPY_MODEL_dc43b8a3469b419684f933faa282c3cd"
      }
     },
     "1053999c193740bdad57b0254e6d6be1": {
      "model_module": "@jupyter-widgets/base",
      "model_module_version": "1.2.0",
      "model_name": "LayoutModel",
      "state": {
       "_model_module": "@jupyter-widgets/base",
       "_model_module_version": "1.2.0",
       "_model_name": "LayoutModel",
       "_view_count": null,
       "_view_module": "@jupyter-widgets/base",
       "_view_module_version": "1.2.0",
       "_view_name": "LayoutView",
       "align_content": null,
       "align_items": null,
       "align_self": null,
       "border": "2px solid rgb(50,62,236)",
       "bottom": null,
       "display": null,
       "flex": null,
       "flex_flow": null,
       "grid_area": null,
       "grid_auto_columns": null,
       "grid_auto_flow": null,
       "grid_auto_rows": null,
       "grid_column": null,
       "grid_gap": null,
       "grid_row": null,
       "grid_template_areas": null,
       "grid_template_columns": null,
       "grid_template_rows": null,
       "height": null,
       "justify_content": null,
       "justify_items": null,
       "left": null,
       "margin": "5px 5px 5px 5px",
       "max_height": "400px",
       "max_width": "calc(50.0% - 8px)",
       "min_height": "400px",
       "min_width": "calc(50.0% - 8px)",
       "object_fit": null,
       "object_position": null,
       "order": null,
       "overflow": null,
       "overflow_x": null,
       "overflow_y": null,
       "padding": "5px 5px 5px 5px",
       "right": null,
       "top": null,
       "visibility": null,
       "width": null
      }
     },
     "13a3fc0cc0424e1c9447d947f6e99c38": {
      "model_module": "@jupyter-widgets/base",
      "model_module_version": "1.2.0",
      "model_name": "LayoutModel",
      "state": {
       "_model_module": "@jupyter-widgets/base",
       "_model_module_version": "1.2.0",
       "_model_name": "LayoutModel",
       "_view_count": null,
       "_view_module": "@jupyter-widgets/base",
       "_view_module_version": "1.2.0",
       "_view_name": "LayoutView",
       "align_content": null,
       "align_items": null,
       "align_self": null,
       "border": null,
       "bottom": null,
       "display": null,
       "flex": null,
       "flex_flow": null,
       "grid_area": null,
       "grid_auto_columns": null,
       "grid_auto_flow": null,
       "grid_auto_rows": null,
       "grid_column": null,
       "grid_gap": null,
       "grid_row": null,
       "grid_template_areas": null,
       "grid_template_columns": null,
       "grid_template_rows": null,
       "height": null,
       "justify_content": null,
       "justify_items": null,
       "left": null,
       "margin": "20px 0px 10px 0px",
       "max_height": null,
       "max_width": null,
       "min_height": null,
       "min_width": null,
       "object_fit": null,
       "object_position": null,
       "order": null,
       "overflow": null,
       "overflow_x": null,
       "overflow_y": null,
       "padding": null,
       "right": null,
       "top": null,
       "visibility": null,
       "width": null
      }
     },
     "1566aa1e6fee472eaad5720d59abe141": {
      "model_module": "@jupyter-widgets/base",
      "model_module_version": "1.2.0",
      "model_name": "LayoutModel",
      "state": {
       "_model_module": "@jupyter-widgets/base",
       "_model_module_version": "1.2.0",
       "_model_name": "LayoutModel",
       "_view_count": null,
       "_view_module": "@jupyter-widgets/base",
       "_view_module_version": "1.2.0",
       "_view_name": "LayoutView",
       "align_content": null,
       "align_items": null,
       "align_self": null,
       "border": null,
       "bottom": null,
       "display": null,
       "flex": null,
       "flex_flow": null,
       "grid_area": "widget040",
       "grid_auto_columns": null,
       "grid_auto_flow": null,
       "grid_auto_rows": null,
       "grid_column": null,
       "grid_gap": null,
       "grid_row": null,
       "grid_template_areas": null,
       "grid_template_columns": null,
       "grid_template_rows": null,
       "height": null,
       "justify_content": null,
       "justify_items": null,
       "left": null,
       "margin": null,
       "max_height": null,
       "max_width": null,
       "min_height": null,
       "min_width": null,
       "object_fit": null,
       "object_position": null,
       "order": null,
       "overflow": null,
       "overflow_x": null,
       "overflow_y": null,
       "padding": null,
       "right": null,
       "top": null,
       "visibility": null,
       "width": null
      }
     },
     "1602d4bd44814a85af6a5a67ff271563": {
      "model_module": "@jupyter-widgets/base",
      "model_module_version": "1.2.0",
      "model_name": "LayoutModel",
      "state": {
       "_model_module": "@jupyter-widgets/base",
       "_model_module_version": "1.2.0",
       "_model_name": "LayoutModel",
       "_view_count": null,
       "_view_module": "@jupyter-widgets/base",
       "_view_module_version": "1.2.0",
       "_view_name": "LayoutView",
       "align_content": null,
       "align_items": null,
       "align_self": null,
       "border": null,
       "bottom": null,
       "display": null,
       "flex": null,
       "flex_flow": null,
       "grid_area": "widget036",
       "grid_auto_columns": null,
       "grid_auto_flow": null,
       "grid_auto_rows": null,
       "grid_column": null,
       "grid_gap": null,
       "grid_row": null,
       "grid_template_areas": null,
       "grid_template_columns": null,
       "grid_template_rows": null,
       "height": null,
       "justify_content": null,
       "justify_items": null,
       "left": null,
       "margin": null,
       "max_height": null,
       "max_width": null,
       "min_height": null,
       "min_width": null,
       "object_fit": null,
       "object_position": null,
       "order": null,
       "overflow": null,
       "overflow_x": null,
       "overflow_y": null,
       "padding": null,
       "right": null,
       "top": null,
       "visibility": null,
       "width": null
      }
     },
     "17d8ee7dccfa4d52ad826e26bc3af408": {
      "model_module": "@jupyter-widgets/controls",
      "model_module_version": "1.5.0",
      "model_name": "DropdownModel",
      "state": {
       "_dom_classes": [],
       "_model_module": "@jupyter-widgets/controls",
       "_model_module_version": "1.5.0",
       "_model_name": "DropdownModel",
       "_options_labels": [
        "None",
        "x0",
        "cos_monthly",
        "cos_hourly",
        "temperature_f",
        "wind_speed_mph",
        "wind_bearing_deg",
        "relative_humidity",
        "visibility_miles_max_10",
        "pressure_mb",
        "Value"
       ],
       "_view_count": null,
       "_view_module": "@jupyter-widgets/controls",
       "_view_module_version": "1.5.0",
       "_view_name": "DropdownView",
       "description": "Size:",
       "description_tooltip": null,
       "disabled": false,
       "index": 0,
       "layout": "IPY_MODEL_7b2412d144bb48c19d376c9dec612dc2",
       "style": "IPY_MODEL_1a68dc5d70a6463ba82d8c1025c062a7"
      }
     },
     "18526f29402f4f49b41186bd2bfecc00": {
      "model_module": "@jupyter-widgets/controls",
      "model_module_version": "1.5.0",
      "model_name": "HTMLModel",
      "state": {
       "_dom_classes": [],
       "_model_module": "@jupyter-widgets/controls",
       "_model_module_version": "1.5.0",
       "_model_name": "HTMLModel",
       "_view_count": null,
       "_view_module": "@jupyter-widgets/controls",
       "_view_module_version": "1.5.0",
       "_view_name": "HTMLView",
       "description": "",
       "description_tooltip": null,
       "layout": "IPY_MODEL_ab1764eb240b413abf8fe0574cc3db33",
       "placeholder": "​",
       "style": "IPY_MODEL_ef9d292b7b2d494980f7a27c5938522f",
       "value": "<p style=\"margin-bottom:-10px;color:black\">100%</p><p style=\"margin-bottom:-10px;color:black\">-0.0000</p>"
      }
     },
     "18675fb6193340dfb5dbc3b2739e9959": {
      "model_module": "@jupyter-widgets/base",
      "model_module_version": "1.2.0",
      "model_name": "LayoutModel",
      "state": {
       "_model_module": "@jupyter-widgets/base",
       "_model_module_version": "1.2.0",
       "_model_name": "LayoutModel",
       "_view_count": null,
       "_view_module": "@jupyter-widgets/base",
       "_view_module_version": "1.2.0",
       "_view_name": "LayoutView",
       "align_content": null,
       "align_items": null,
       "align_self": null,
       "border": "2px solid rgb(50,62,236)",
       "bottom": null,
       "display": null,
       "flex": null,
       "flex_flow": null,
       "grid_area": null,
       "grid_auto_columns": null,
       "grid_auto_flow": null,
       "grid_auto_rows": null,
       "grid_column": null,
       "grid_gap": null,
       "grid_row": null,
       "grid_template_areas": null,
       "grid_template_columns": null,
       "grid_template_rows": null,
       "height": null,
       "justify_content": null,
       "justify_items": null,
       "left": null,
       "margin": "5px 5px 5px 5px",
       "max_height": "400px",
       "max_width": "calc(50.0% - 8px)",
       "min_height": "400px",
       "min_width": "calc(50.0% - 8px)",
       "object_fit": null,
       "object_position": null,
       "order": null,
       "overflow": null,
       "overflow_x": null,
       "overflow_y": null,
       "padding": "5px 5px 5px 5px",
       "right": null,
       "top": null,
       "visibility": null,
       "width": null
      }
     },
     "186f7eb01e8247bd81311f7040f600aa": {
      "model_module": "@jupyter-widgets/controls",
      "model_module_version": "1.5.0",
      "model_name": "DescriptionStyleModel",
      "state": {
       "_model_module": "@jupyter-widgets/controls",
       "_model_module_version": "1.5.0",
       "_model_name": "DescriptionStyleModel",
       "_view_count": null,
       "_view_module": "@jupyter-widgets/base",
       "_view_module_version": "1.2.0",
       "_view_name": "StyleView",
       "description_width": ""
      }
     },
     "18c249504ad049a1a21afed73e830081": {
      "model_module": "@jupyter-widgets/controls",
      "model_module_version": "1.5.0",
      "model_name": "HTMLModel",
      "state": {
       "_dom_classes": [],
       "_model_module": "@jupyter-widgets/controls",
       "_model_module_version": "1.5.0",
       "_model_name": "HTMLModel",
       "_view_count": null,
       "_view_module": "@jupyter-widgets/controls",
       "_view_module_version": "1.5.0",
       "_view_name": "HTMLView",
       "description": "",
       "description_tooltip": null,
       "layout": "IPY_MODEL_5d9a3e6d8ce24d658ebdb8e271715974",
       "placeholder": "​",
       "style": "IPY_MODEL_bd0fb2685acc4d64a21e7c752083d816",
       "value": "<svg xmlns=\"http://www.w3.org/2000/svg\" width=\"12\" height=\"12\" viewBox=\"0 0 24 24\" fill=\"red\"><path d=\"M12 21l-12-18h24z\"/></svg>"
      }
     },
     "1972c51b6bcc4ab89b8e848be0580bee": {
      "model_module": "@jupyter-widgets/base",
      "model_module_version": "1.2.0",
      "model_name": "LayoutModel",
      "state": {
       "_model_module": "@jupyter-widgets/base",
       "_model_module_version": "1.2.0",
       "_model_name": "LayoutModel",
       "_view_count": null,
       "_view_module": "@jupyter-widgets/base",
       "_view_module_version": "1.2.0",
       "_view_name": "LayoutView",
       "align_content": null,
       "align_items": null,
       "align_self": null,
       "border": null,
       "bottom": null,
       "display": null,
       "flex": null,
       "flex_flow": null,
       "grid_area": "widget039",
       "grid_auto_columns": null,
       "grid_auto_flow": null,
       "grid_auto_rows": null,
       "grid_column": null,
       "grid_gap": null,
       "grid_row": null,
       "grid_template_areas": null,
       "grid_template_columns": null,
       "grid_template_rows": null,
       "height": null,
       "justify_content": null,
       "justify_items": null,
       "left": null,
       "margin": null,
       "max_height": null,
       "max_width": null,
       "min_height": null,
       "min_width": null,
       "object_fit": null,
       "object_position": null,
       "order": null,
       "overflow": null,
       "overflow_x": null,
       "overflow_y": null,
       "padding": null,
       "right": null,
       "top": null,
       "visibility": null,
       "width": null
      }
     },
     "1a68dc5d70a6463ba82d8c1025c062a7": {
      "model_module": "@jupyter-widgets/controls",
      "model_module_version": "1.5.0",
      "model_name": "DescriptionStyleModel",
      "state": {
       "_model_module": "@jupyter-widgets/controls",
       "_model_module_version": "1.5.0",
       "_model_name": "DescriptionStyleModel",
       "_view_count": null,
       "_view_module": "@jupyter-widgets/base",
       "_view_module_version": "1.2.0",
       "_view_name": "StyleView",
       "description_width": "40px"
      }
     },
     "1b3e1e8d42b04cfe96955591599a5e09": {
      "model_module": "@jupyter-widgets/controls",
      "model_module_version": "1.5.0",
      "model_name": "DropdownModel",
      "state": {
       "_dom_classes": [],
       "_model_module": "@jupyter-widgets/controls",
       "_model_module_version": "1.5.0",
       "_model_name": "DropdownModel",
       "_options_labels": [
        "x0",
        "cos_monthly",
        "cos_hourly",
        "temperature_f",
        "wind_speed_mph",
        "wind_bearing_deg",
        "relative_humidity",
        "visibility_miles_max_10",
        "pressure_mb",
        "Value"
       ],
       "_view_count": null,
       "_view_module": "@jupyter-widgets/controls",
       "_view_module_version": "1.5.0",
       "_view_name": "DropdownView",
       "description": "y:",
       "description_tooltip": null,
       "disabled": false,
       "index": 4,
       "layout": "IPY_MODEL_c55d93ab0565468d8cc0f4c986fbec94",
       "style": "IPY_MODEL_a03098f5804b4f898909d252b3c9c243"
      }
     },
     "1ca67db1ea814cb4bc9bd8123db99b30": {
      "model_module": "@jupyter-widgets/controls",
      "model_module_version": "1.5.0",
      "model_name": "HTMLModel",
      "state": {
       "_dom_classes": [],
       "_model_module": "@jupyter-widgets/controls",
       "_model_module_version": "1.5.0",
       "_model_name": "HTMLModel",
       "_view_count": null,
       "_view_module": "@jupyter-widgets/controls",
       "_view_module_version": "1.5.0",
       "_view_name": "HTMLView",
       "description": "",
       "description_tooltip": null,
       "layout": "IPY_MODEL_afab934ebcf4497c93c434c81ad2e1d7",
       "placeholder": "​",
       "style": "IPY_MODEL_2245343e7fbd47c58f04bcb4bb524d28",
       "value": "<p style=\"margin-bottom:-10px;color:black\">100%</p><p style=\"margin-bottom:-10px;color:black\">0.0000</p>"
      }
     },
     "1d5f4f54b7994fa8b2a50dde4da38aea": {
      "model_module": "@jupyter-widgets/controls",
      "model_module_version": "1.5.0",
      "model_name": "DescriptionStyleModel",
      "state": {
       "_model_module": "@jupyter-widgets/controls",
       "_model_module_version": "1.5.0",
       "_model_name": "DescriptionStyleModel",
       "_view_count": null,
       "_view_module": "@jupyter-widgets/base",
       "_view_module_version": "1.2.0",
       "_view_name": "StyleView",
       "description_width": ""
      }
     },
     "1db3f5c5e2944af58c4393a262918d28": {
      "model_module": "@jupyter-widgets/controls",
      "model_module_version": "1.5.0",
      "model_name": "DescriptionStyleModel",
      "state": {
       "_model_module": "@jupyter-widgets/controls",
       "_model_module_version": "1.5.0",
       "_model_name": "DescriptionStyleModel",
       "_view_count": null,
       "_view_module": "@jupyter-widgets/base",
       "_view_module_version": "1.2.0",
       "_view_name": "StyleView",
       "description_width": "40px"
      }
     },
     "1e1b3c442e6b4b85a44c1343d3776359": {
      "model_module": "@jupyter-widgets/controls",
      "model_module_version": "1.5.0",
      "model_name": "DescriptionStyleModel",
      "state": {
       "_model_module": "@jupyter-widgets/controls",
       "_model_module_version": "1.5.0",
       "_model_name": "DescriptionStyleModel",
       "_view_count": null,
       "_view_module": "@jupyter-widgets/base",
       "_view_module_version": "1.2.0",
       "_view_name": "StyleView",
       "description_width": ""
      }
     },
     "1ff1672605d34d11ae7e2e24f5477a06": {
      "model_module": "@jupyter-widgets/base",
      "model_module_version": "1.2.0",
      "model_name": "LayoutModel",
      "state": {
       "_model_module": "@jupyter-widgets/base",
       "_model_module_version": "1.2.0",
       "_model_name": "LayoutModel",
       "_view_count": null,
       "_view_module": "@jupyter-widgets/base",
       "_view_module_version": "1.2.0",
       "_view_name": "LayoutView",
       "align_content": null,
       "align_items": null,
       "align_self": null,
       "border": null,
       "bottom": null,
       "display": null,
       "flex": null,
       "flex_flow": null,
       "grid_area": "widget038",
       "grid_auto_columns": null,
       "grid_auto_flow": null,
       "grid_auto_rows": null,
       "grid_column": null,
       "grid_gap": null,
       "grid_row": null,
       "grid_template_areas": null,
       "grid_template_columns": null,
       "grid_template_rows": null,
       "height": null,
       "justify_content": null,
       "justify_items": null,
       "left": null,
       "margin": null,
       "max_height": null,
       "max_width": null,
       "min_height": null,
       "min_width": null,
       "object_fit": null,
       "object_position": null,
       "order": null,
       "overflow": null,
       "overflow_x": null,
       "overflow_y": null,
       "padding": null,
       "right": null,
       "top": null,
       "visibility": null,
       "width": null
      }
     },
     "2245343e7fbd47c58f04bcb4bb524d28": {
      "model_module": "@jupyter-widgets/controls",
      "model_module_version": "1.5.0",
      "model_name": "DescriptionStyleModel",
      "state": {
       "_model_module": "@jupyter-widgets/controls",
       "_model_module_version": "1.5.0",
       "_model_name": "DescriptionStyleModel",
       "_view_count": null,
       "_view_module": "@jupyter-widgets/base",
       "_view_module_version": "1.2.0",
       "_view_name": "StyleView",
       "description_width": ""
      }
     },
     "22c5cea33cdc4017a87427d631a63c7d": {
      "model_module": "@jupyter-widgets/controls",
      "model_module_version": "1.5.0",
      "model_name": "VBoxModel",
      "state": {
       "_dom_classes": [],
       "_model_module": "@jupyter-widgets/controls",
       "_model_module_version": "1.5.0",
       "_model_name": "VBoxModel",
       "_view_count": null,
       "_view_module": "@jupyter-widgets/controls",
       "_view_module_version": "1.5.0",
       "_view_name": "VBoxView",
       "box_style": "",
       "children": [
        "IPY_MODEL_c3dc92a183e34604809b74867c34b488",
        "IPY_MODEL_0e9ca48d09b04e399a94b0e956e73f38",
        "IPY_MODEL_b5cd448526254dc9a21bbe98f4305321",
        "IPY_MODEL_d3388d5513d445ad8bcb3d17fa3bd4d5"
       ],
       "layout": "IPY_MODEL_13a3fc0cc0424e1c9447d947f6e99c38"
      }
     },
     "241a8bfe5e5b4b3d87a85cced49e9287": {
      "model_module": "@jupyter-widgets/controls",
      "model_module_version": "1.5.0",
      "model_name": "DescriptionStyleModel",
      "state": {
       "_model_module": "@jupyter-widgets/controls",
       "_model_module_version": "1.5.0",
       "_model_name": "DescriptionStyleModel",
       "_view_count": null,
       "_view_module": "@jupyter-widgets/base",
       "_view_module_version": "1.2.0",
       "_view_name": "StyleView",
       "description_width": ""
      }
     },
     "2734d5b0a2f341a79df8cdd67c61468b": {
      "model_module": "@jupyter-widgets/controls",
      "model_module_version": "1.5.0",
      "model_name": "HTMLModel",
      "state": {
       "_dom_classes": [],
       "_model_module": "@jupyter-widgets/controls",
       "_model_module_version": "1.5.0",
       "_model_name": "HTMLModel",
       "_view_count": null,
       "_view_module": "@jupyter-widgets/controls",
       "_view_module_version": "1.5.0",
       "_view_name": "HTMLView",
       "description": "",
       "description_tooltip": null,
       "layout": "IPY_MODEL_685d37836ec84af4a6173db3411508c0",
       "placeholder": "​",
       "style": "IPY_MODEL_c0d08436d9f84d74a1fceafc2cfad956",
       "value": "<p style=\"margin-bottom:-10px;color:black\">100%</p><p style=\"margin-bottom:-10px;color:black\">2675.0000</p>"
      }
     },
     "2a4764e393a446f4ba7dc20079799f87": {
      "model_module": "@jupyter-widgets/controls",
      "model_module_version": "1.5.0",
      "model_name": "DescriptionStyleModel",
      "state": {
       "_model_module": "@jupyter-widgets/controls",
       "_model_module_version": "1.5.0",
       "_model_name": "DescriptionStyleModel",
       "_view_count": null,
       "_view_module": "@jupyter-widgets/base",
       "_view_module_version": "1.2.0",
       "_view_name": "StyleView",
       "description_width": ""
      }
     },
     "2ad0c8fda5c54cee8abd38918c642eec": {
      "model_module": "@jupyter-widgets/controls",
      "model_module_version": "1.5.0",
      "model_name": "DescriptionStyleModel",
      "state": {
       "_model_module": "@jupyter-widgets/controls",
       "_model_module_version": "1.5.0",
       "_model_name": "DescriptionStyleModel",
       "_view_count": null,
       "_view_module": "@jupyter-widgets/base",
       "_view_module_version": "1.2.0",
       "_view_name": "StyleView",
       "description_width": ""
      }
     },
     "2b7be45832e9458e9805b3506005af72": {
      "model_module": "@jupyter-widgets/controls",
      "model_module_version": "1.5.0",
      "model_name": "HTMLModel",
      "state": {
       "_dom_classes": [],
       "_model_module": "@jupyter-widgets/controls",
       "_model_module_version": "1.5.0",
       "_model_name": "HTMLModel",
       "_view_count": null,
       "_view_module": "@jupyter-widgets/controls",
       "_view_module_version": "1.5.0",
       "_view_name": "HTMLView",
       "description": "",
       "description_tooltip": null,
       "layout": "IPY_MODEL_2ca391b0ca644b6da69417403facf214",
       "placeholder": "​",
       "style": "IPY_MODEL_57046adeed1d49329b54fd093a50c052",
       "value": "<b>Value</b>"
      }
     },
     "2ca391b0ca644b6da69417403facf214": {
      "model_module": "@jupyter-widgets/base",
      "model_module_version": "1.2.0",
      "model_name": "LayoutModel",
      "state": {
       "_model_module": "@jupyter-widgets/base",
       "_model_module_version": "1.2.0",
       "_model_name": "LayoutModel",
       "_view_count": null,
       "_view_module": "@jupyter-widgets/base",
       "_view_module_version": "1.2.0",
       "_view_name": "LayoutView",
       "align_content": null,
       "align_items": null,
       "align_self": null,
       "border": null,
       "bottom": null,
       "display": null,
       "flex": null,
       "flex_flow": null,
       "grid_area": "widget041",
       "grid_auto_columns": null,
       "grid_auto_flow": null,
       "grid_auto_rows": null,
       "grid_column": null,
       "grid_gap": null,
       "grid_row": null,
       "grid_template_areas": null,
       "grid_template_columns": null,
       "grid_template_rows": null,
       "height": null,
       "justify_content": null,
       "justify_items": null,
       "left": null,
       "margin": null,
       "max_height": null,
       "max_width": null,
       "min_height": null,
       "min_width": null,
       "object_fit": null,
       "object_position": null,
       "order": null,
       "overflow": null,
       "overflow_x": null,
       "overflow_y": null,
       "padding": null,
       "right": null,
       "top": null,
       "visibility": null,
       "width": null
      }
     },
     "2e55dc9da165443db16e248dccffd0af": {
      "model_module": "@jupyter-widgets/controls",
      "model_module_version": "1.5.0",
      "model_name": "HTMLModel",
      "state": {
       "_dom_classes": [],
       "_model_module": "@jupyter-widgets/controls",
       "_model_module_version": "1.5.0",
       "_model_name": "HTMLModel",
       "_view_count": null,
       "_view_module": "@jupyter-widgets/controls",
       "_view_module_version": "1.5.0",
       "_view_name": "HTMLView",
       "description": "",
       "description_tooltip": null,
       "layout": "IPY_MODEL_1972c51b6bcc4ab89b8e848be0580bee",
       "placeholder": "​",
       "style": "IPY_MODEL_186f7eb01e8247bd81311f7040f600aa",
       "value": "<p style=\"margin-bottom:-10px;color:black\">100%</p><p style=\"margin-bottom:-10px;color:black\">-0.0000</p>"
      }
     },
     "300620aa5b1d4423b7fdb9ca30614df4": {
      "model_module": "@jupyter-widgets/controls",
      "model_module_version": "1.5.0",
      "model_name": "HTMLModel",
      "state": {
       "_dom_classes": [],
       "_model_module": "@jupyter-widgets/controls",
       "_model_module_version": "1.5.0",
       "_model_name": "HTMLModel",
       "_view_count": null,
       "_view_module": "@jupyter-widgets/controls",
       "_view_module_version": "1.5.0",
       "_view_name": "HTMLView",
       "description": "",
       "description_tooltip": null,
       "layout": "IPY_MODEL_4e46b2a80beb42b6a23241f67ca2ef53",
       "placeholder": "​",
       "style": "IPY_MODEL_57783e30b1654bcfbe6fb61d7d1bac5f",
       "value": "<svg xmlns=\"http://www.w3.org/2000/svg\" width=\"12\" height=\"12\" viewBox=\"0 0 24 24\" fill=\"red\"><path d=\"M12 21l-12-18h24z\"/></svg>"
      }
     },
     "32be29dda5de4cd9ae1c6b33b19fa177": {
      "model_module": "@jupyter-widgets/base",
      "model_module_version": "1.2.0",
      "model_name": "LayoutModel",
      "state": {
       "_model_module": "@jupyter-widgets/base",
       "_model_module_version": "1.2.0",
       "_model_name": "LayoutModel",
       "_view_count": null,
       "_view_module": "@jupyter-widgets/base",
       "_view_module_version": "1.2.0",
       "_view_name": "LayoutView",
       "align_content": null,
       "align_items": null,
       "align_self": null,
       "border": null,
       "bottom": null,
       "display": null,
       "flex": null,
       "flex_flow": null,
       "grid_area": null,
       "grid_auto_columns": null,
       "grid_auto_flow": null,
       "grid_auto_rows": null,
       "grid_column": null,
       "grid_gap": null,
       "grid_row": null,
       "grid_template_areas": null,
       "grid_template_columns": null,
       "grid_template_rows": null,
       "height": null,
       "justify_content": null,
       "justify_items": null,
       "left": null,
       "margin": null,
       "max_height": null,
       "max_width": null,
       "min_height": null,
       "min_width": null,
       "object_fit": null,
       "object_position": null,
       "order": null,
       "overflow": null,
       "overflow_x": null,
       "overflow_y": null,
       "padding": null,
       "right": null,
       "top": null,
       "visibility": null,
       "width": null
      }
     },
     "334075fea7534ab89dd1fb91eba98ad2": {
      "model_module": "@jupyter-widgets/controls",
      "model_module_version": "1.5.0",
      "model_name": "HTMLModel",
      "state": {
       "_dom_classes": [],
       "_model_module": "@jupyter-widgets/controls",
       "_model_module_version": "1.5.0",
       "_model_name": "HTMLModel",
       "_view_count": null,
       "_view_module": "@jupyter-widgets/controls",
       "_view_module_version": "1.5.0",
       "_view_name": "HTMLView",
       "description": "",
       "description_tooltip": null,
       "layout": "IPY_MODEL_cc9833ec9e914023988eddcf3b258f74",
       "placeholder": "​",
       "style": "IPY_MODEL_0c7971434c8b426bafa7cce2d30cc008",
       "value": "<b>relative_humidity</b>"
      }
     },
     "3937e9e1b893477e9f43c54e85d775d7": {
      "model_module": "@jupyter-widgets/base",
      "model_module_version": "1.2.0",
      "model_name": "LayoutModel",
      "state": {
       "_model_module": "@jupyter-widgets/base",
       "_model_module_version": "1.2.0",
       "_model_name": "LayoutModel",
       "_view_count": null,
       "_view_module": "@jupyter-widgets/base",
       "_view_module_version": "1.2.0",
       "_view_name": "LayoutView",
       "align_content": null,
       "align_items": null,
       "align_self": null,
       "border": null,
       "bottom": null,
       "display": null,
       "flex": null,
       "flex_flow": null,
       "grid_area": "widget021",
       "grid_auto_columns": null,
       "grid_auto_flow": null,
       "grid_auto_rows": null,
       "grid_column": null,
       "grid_gap": null,
       "grid_row": null,
       "grid_template_areas": null,
       "grid_template_columns": null,
       "grid_template_rows": null,
       "height": null,
       "justify_content": null,
       "justify_items": null,
       "left": null,
       "margin": null,
       "max_height": null,
       "max_width": null,
       "min_height": null,
       "min_width": null,
       "object_fit": null,
       "object_position": null,
       "order": null,
       "overflow": null,
       "overflow_x": null,
       "overflow_y": null,
       "padding": null,
       "right": null,
       "top": null,
       "visibility": null,
       "width": null
      }
     },
     "39a8a53ad96e4ce49a427bf3f433e70f": {
      "model_module": "@jupyter-widgets/controls",
      "model_module_version": "1.5.0",
      "model_name": "VBoxModel",
      "state": {
       "_dom_classes": [],
       "_model_module": "@jupyter-widgets/controls",
       "_model_module_version": "1.5.0",
       "_model_name": "VBoxModel",
       "_view_count": null,
       "_view_module": "@jupyter-widgets/controls",
       "_view_module_version": "1.5.0",
       "_view_name": "VBoxView",
       "box_style": "",
       "children": [
        "IPY_MODEL_73d2f20271d44629bf7d4d7ccb66ac4d",
        "IPY_MODEL_423fae713bbd439bb8e9d99b43e907db"
       ],
       "layout": "IPY_MODEL_18675fb6193340dfb5dbc3b2739e9959"
      }
     },
     "3a96f4fad3e542479912e97e1c62a235": {
      "model_module": "@jupyter-widgets/controls",
      "model_module_version": "1.5.0",
      "model_name": "HTMLModel",
      "state": {
       "_dom_classes": [],
       "_model_module": "@jupyter-widgets/controls",
       "_model_module_version": "1.5.0",
       "_model_name": "HTMLModel",
       "_view_count": null,
       "_view_module": "@jupyter-widgets/controls",
       "_view_module_version": "1.5.0",
       "_view_name": "HTMLView",
       "description": "",
       "description_tooltip": null,
       "layout": "IPY_MODEL_1ff1672605d34d11ae7e2e24f5477a06",
       "placeholder": "​",
       "style": "IPY_MODEL_241a8bfe5e5b4b3d87a85cced49e9287",
       "value": "<p style=\"margin-bottom:-10px;color:black\">100%</p><p style=\"margin-bottom:-10px;color:black\">-0.0000</p>"
      }
     },
     "3c57aa3931cc456396921c3d739ed172": {
      "model_module": "@jupyter-widgets/controls",
      "model_module_version": "1.5.0",
      "model_name": "DropdownModel",
      "state": {
       "_dom_classes": [],
       "_model_module": "@jupyter-widgets/controls",
       "_model_module_version": "1.5.0",
       "_model_name": "DropdownModel",
       "_options_labels": [
        "x0",
        "cos_monthly",
        "cos_hourly",
        "temperature_f",
        "wind_speed_mph",
        "wind_bearing_deg",
        "relative_humidity",
        "visibility_miles_max_10",
        "pressure_mb",
        "Value"
       ],
       "_view_count": null,
       "_view_module": "@jupyter-widgets/controls",
       "_view_module_version": "1.5.0",
       "_view_name": "DropdownView",
       "description": "Column:",
       "description_tooltip": null,
       "disabled": false,
       "index": 2,
       "layout": "IPY_MODEL_d126c740a1ea4c229398590b7557caff",
       "style": "IPY_MODEL_3eedef83816b4eddaf709a897f3e24c7"
      }
     },
     "3d283ce40bb048388da8e90a3a032592": {
      "model_module": "@jupyter-widgets/controls",
      "model_module_version": "1.5.0",
      "model_name": "VBoxModel",
      "state": {
       "_dom_classes": [],
       "_model_module": "@jupyter-widgets/controls",
       "_model_module_version": "1.5.0",
       "_model_name": "VBoxModel",
       "_view_count": null,
       "_view_module": "@jupyter-widgets/controls",
       "_view_module_version": "1.5.0",
       "_view_name": "VBoxView",
       "box_style": "",
       "children": [
        "IPY_MODEL_f9b8ae4137fc42f995fac1ac78e1d26e",
        "IPY_MODEL_c73cff8942e94cdfa54378b91fa08a04"
       ],
       "layout": "IPY_MODEL_1053999c193740bdad57b0254e6d6be1"
      }
     },
     "3e566e1b721a45b6ba649f1baed63647": {
      "model_module": "@jupyter-widgets/controls",
      "model_module_version": "1.5.0",
      "model_name": "DropdownModel",
      "state": {
       "_dom_classes": [],
       "_model_module": "@jupyter-widgets/controls",
       "_model_module_version": "1.5.0",
       "_model_name": "DropdownModel",
       "_options_labels": [
        "None",
        "x0",
        "cos_monthly",
        "cos_hourly",
        "temperature_f",
        "wind_speed_mph",
        "wind_bearing_deg",
        "relative_humidity",
        "visibility_miles_max_10",
        "pressure_mb",
        "Value"
       ],
       "_view_count": null,
       "_view_module": "@jupyter-widgets/controls",
       "_view_module_version": "1.5.0",
       "_view_name": "DropdownView",
       "description": "Size:",
       "description_tooltip": null,
       "disabled": false,
       "index": 0,
       "layout": "IPY_MODEL_5d348caa88444c1cb06da32118ed2679",
       "style": "IPY_MODEL_1db3f5c5e2944af58c4393a262918d28"
      }
     },
     "3ea0cbc3c3344eee9ea90c8e5e9b4359": {
      "model_module": "@jupyter-widgets/base",
      "model_module_version": "1.2.0",
      "model_name": "LayoutModel",
      "state": {
       "_model_module": "@jupyter-widgets/base",
       "_model_module_version": "1.2.0",
       "_model_name": "LayoutModel",
       "_view_count": null,
       "_view_module": "@jupyter-widgets/base",
       "_view_module_version": "1.2.0",
       "_view_name": "LayoutView",
       "align_content": null,
       "align_items": null,
       "align_self": null,
       "border": null,
       "bottom": null,
       "display": null,
       "flex": null,
       "flex_flow": null,
       "grid_area": "widget033",
       "grid_auto_columns": null,
       "grid_auto_flow": null,
       "grid_auto_rows": null,
       "grid_column": null,
       "grid_gap": null,
       "grid_row": null,
       "grid_template_areas": null,
       "grid_template_columns": null,
       "grid_template_rows": null,
       "height": null,
       "justify_content": null,
       "justify_items": null,
       "left": null,
       "margin": null,
       "max_height": null,
       "max_width": null,
       "min_height": null,
       "min_width": null,
       "object_fit": null,
       "object_position": null,
       "order": null,
       "overflow": null,
       "overflow_x": null,
       "overflow_y": null,
       "padding": null,
       "right": null,
       "top": null,
       "visibility": null,
       "width": null
      }
     },
     "3eedef83816b4eddaf709a897f3e24c7": {
      "model_module": "@jupyter-widgets/controls",
      "model_module_version": "1.5.0",
      "model_name": "DescriptionStyleModel",
      "state": {
       "_model_module": "@jupyter-widgets/controls",
       "_model_module_version": "1.5.0",
       "_model_name": "DescriptionStyleModel",
       "_view_count": null,
       "_view_module": "@jupyter-widgets/base",
       "_view_module_version": "1.2.0",
       "_view_name": "StyleView",
       "description_width": ""
      }
     },
     "3f94c5be4d1e4b46a5678d6e2dc6cd22": {
      "model_module": "@jupyter-widgets/controls",
      "model_module_version": "1.5.0",
      "model_name": "DescriptionStyleModel",
      "state": {
       "_model_module": "@jupyter-widgets/controls",
       "_model_module_version": "1.5.0",
       "_model_name": "DescriptionStyleModel",
       "_view_count": null,
       "_view_module": "@jupyter-widgets/base",
       "_view_module_version": "1.2.0",
       "_view_name": "StyleView",
       "description_width": ""
      }
     },
     "40ba05e4c96247e8987ecc3f4240fa53": {
      "model_module": "@jupyter-widgets/controls",
      "model_module_version": "1.5.0",
      "model_name": "DescriptionStyleModel",
      "state": {
       "_model_module": "@jupyter-widgets/controls",
       "_model_module_version": "1.5.0",
       "_model_name": "DescriptionStyleModel",
       "_view_count": null,
       "_view_module": "@jupyter-widgets/base",
       "_view_module_version": "1.2.0",
       "_view_name": "StyleView",
       "description_width": ""
      }
     },
     "423fae713bbd439bb8e9d99b43e907db": {
      "buffers": [
       {
        "data": "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",
        "encoding": "base64",
        "path": [
         "_data",
         0,
         "x",
         "buffer"
        ]
       },
       {
        "data": "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",
        "encoding": "base64",
        "path": [
         "_data",
         0,
         "y",
         "buffer"
        ]
       }
      ],
      "model_module": "plotlywidget",
      "model_module_version": "^4.14.3",
      "model_name": "FigureModel",
      "state": {
       "_config": {
        "plotlyServerURL": "https://plot.ly"
       },
       "_data": [
        {
         "marker": {
          "color": "rgb(138,140,147)"
         },
         "mode": "markers",
         "opacity": 0.75,
         "selected": {
          "marker": {
           "color": "rgb(50,62,236)"
          }
         },
         "showlegend": false,
         "type": "scatter",
         "uid": "7b43d6eb-a6af-4ba5-9c20-0cd71acbb412",
         "unselected": {
          "marker": {
           "opacity": 0.375
          }
         },
         "x": {
          "dtype": "float64",
          "shape": [
           2675
          ]
         },
         "y": {
          "dtype": "float64",
          "shape": [
           2675
          ]
         }
        }
       ],
       "_dom_classes": [],
       "_js2py_layoutDelta": {},
       "_js2py_pointsCallback": {},
       "_js2py_relayout": {},
       "_js2py_restyle": {},
       "_js2py_traceDeltas": {},
       "_js2py_update": {},
       "_last_layout_edit_id": 1,
       "_last_trace_edit_id": 1,
       "_layout": {
        "dragmode": "lasso",
        "margin": {
         "b": 7,
         "l": 7,
         "pad": 5,
         "r": 7,
         "t": 7
        }
       },
       "_model_module": "plotlywidget",
       "_model_module_version": "^4.14.3",
       "_model_name": "FigureModel",
       "_py2js_addTraces": {},
       "_py2js_animate": {},
       "_py2js_deleteTraces": {},
       "_py2js_moveTraces": {},
       "_py2js_relayout": null,
       "_py2js_removeLayoutProps": {},
       "_py2js_removeTraceProps": {},
       "_py2js_restyle": null,
       "_py2js_update": {},
       "_view_count": 0,
       "_view_module": "plotlywidget",
       "_view_module_version": "^4.14.3",
       "_view_name": "FigureView"
      }
     },
     "43e24631600a4789bfea1a99c798156b": {
      "model_module": "@jupyter-widgets/base",
      "model_module_version": "1.2.0",
      "model_name": "LayoutModel",
      "state": {
       "_model_module": "@jupyter-widgets/base",
       "_model_module_version": "1.2.0",
       "_model_name": "LayoutModel",
       "_view_count": null,
       "_view_module": "@jupyter-widgets/base",
       "_view_module_version": "1.2.0",
       "_view_name": "LayoutView",
       "align_content": null,
       "align_items": null,
       "align_self": null,
       "border": null,
       "bottom": null,
       "display": null,
       "flex": null,
       "flex_flow": null,
       "grid_area": "widget004",
       "grid_auto_columns": null,
       "grid_auto_flow": null,
       "grid_auto_rows": null,
       "grid_column": null,
       "grid_gap": null,
       "grid_row": null,
       "grid_template_areas": null,
       "grid_template_columns": null,
       "grid_template_rows": null,
       "height": null,
       "justify_content": null,
       "justify_items": null,
       "left": null,
       "margin": null,
       "max_height": null,
       "max_width": null,
       "min_height": null,
       "min_width": null,
       "object_fit": null,
       "object_position": null,
       "order": null,
       "overflow": null,
       "overflow_x": null,
       "overflow_y": null,
       "padding": null,
       "right": null,
       "top": null,
       "visibility": null,
       "width": null
      }
     },
     "44ee14834cf5437380c35a07f9db852b": {
      "model_module": "@jupyter-widgets/controls",
      "model_module_version": "1.5.0",
      "model_name": "HTMLModel",
      "state": {
       "_dom_classes": [],
       "_model_module": "@jupyter-widgets/controls",
       "_model_module_version": "1.5.0",
       "_model_name": "HTMLModel",
       "_view_count": null,
       "_view_module": "@jupyter-widgets/controls",
       "_view_module_version": "1.5.0",
       "_view_name": "HTMLView",
       "description": "",
       "description_tooltip": null,
       "layout": "IPY_MODEL_9a0d3feb7b23436691a959c66f55c5d1",
       "placeholder": "​",
       "style": "IPY_MODEL_cfbc047bfffb45f1a06fc588d3e5e37f",
       "value": "<p style=\"margin-bottom:-10px;color:black\">100%</p><p style=\"margin-bottom:-10px;color:black\">-0.0000</p>"
      }
     },
     "4754ced30ab74370bdb841d76811ca80": {
      "model_module": "@jupyter-widgets/controls",
      "model_module_version": "1.5.0",
      "model_name": "DescriptionStyleModel",
      "state": {
       "_model_module": "@jupyter-widgets/controls",
       "_model_module_version": "1.5.0",
       "_model_name": "DescriptionStyleModel",
       "_view_count": null,
       "_view_module": "@jupyter-widgets/base",
       "_view_module_version": "1.2.0",
       "_view_name": "StyleView",
       "description_width": ""
      }
     },
     "48ccf3d2a3de47459d9f5eca1397b26b": {
      "model_module": "@jupyter-widgets/controls",
      "model_module_version": "1.5.0",
      "model_name": "DescriptionStyleModel",
      "state": {
       "_model_module": "@jupyter-widgets/controls",
       "_model_module_version": "1.5.0",
       "_model_name": "DescriptionStyleModel",
       "_view_count": null,
       "_view_module": "@jupyter-widgets/base",
       "_view_module_version": "1.2.0",
       "_view_name": "StyleView",
       "description_width": ""
      }
     },
     "4bbdf7cb6f08456cb6029041567703e2": {
      "model_module": "@jupyter-widgets/base",
      "model_module_version": "1.2.0",
      "model_name": "LayoutModel",
      "state": {
       "_model_module": "@jupyter-widgets/base",
       "_model_module_version": "1.2.0",
       "_model_name": "LayoutModel",
       "_view_count": null,
       "_view_module": "@jupyter-widgets/base",
       "_view_module_version": "1.2.0",
       "_view_name": "LayoutView",
       "align_content": null,
       "align_items": null,
       "align_self": null,
       "border": null,
       "bottom": null,
       "display": null,
       "flex": null,
       "flex_flow": null,
       "grid_area": null,
       "grid_auto_columns": null,
       "grid_auto_flow": null,
       "grid_auto_rows": null,
       "grid_column": null,
       "grid_gap": null,
       "grid_row": null,
       "grid_template_areas": null,
       "grid_template_columns": null,
       "grid_template_rows": null,
       "height": null,
       "justify_content": null,
       "justify_items": null,
       "left": null,
       "margin": null,
       "max_height": null,
       "max_width": null,
       "min_height": null,
       "min_width": null,
       "object_fit": null,
       "object_position": null,
       "order": null,
       "overflow": null,
       "overflow_x": null,
       "overflow_y": null,
       "padding": null,
       "right": null,
       "top": null,
       "visibility": null,
       "width": null
      }
     },
     "4bcafc6332f4424aab1578aa1dd31532": {
      "buffers": [
       {
        "data": "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",
        "encoding": "base64",
        "path": [
         "_data",
         0,
         "x",
         "buffer"
        ]
       },
       {
        "data": "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",
        "encoding": "base64",
        "path": [
         "_data",
         0,
         "y",
         "buffer"
        ]
       }
      ],
      "model_module": "plotlywidget",
      "model_module_version": "^4.14.3",
      "model_name": "FigureModel",
      "state": {
       "_config": {
        "plotlyServerURL": "https://plot.ly"
       },
       "_data": [
        {
         "marker": {
          "color": "rgb(138,140,147)"
         },
         "mode": "markers",
         "opacity": 0.75,
         "selected": {
          "marker": {
           "color": "rgb(50,62,236)"
          }
         },
         "showlegend": false,
         "type": "scatter",
         "uid": "16a372d9-28e3-4507-8b19-519400bc35ea",
         "unselected": {
          "marker": {
           "opacity": 0.375
          }
         },
         "x": {
          "dtype": "float64",
          "shape": [
           2675
          ]
         },
         "y": {
          "dtype": "float64",
          "shape": [
           2675
          ]
         }
        }
       ],
       "_dom_classes": [],
       "_js2py_layoutDelta": {},
       "_js2py_pointsCallback": {},
       "_js2py_relayout": {},
       "_js2py_restyle": {},
       "_js2py_traceDeltas": {},
       "_js2py_update": {},
       "_last_layout_edit_id": 1,
       "_last_trace_edit_id": 1,
       "_layout": {
        "dragmode": "lasso",
        "margin": {
         "b": 7,
         "l": 7,
         "pad": 5,
         "r": 7,
         "t": 7
        }
       },
       "_model_module": "plotlywidget",
       "_model_module_version": "^4.14.3",
       "_model_name": "FigureModel",
       "_py2js_addTraces": {},
       "_py2js_animate": {},
       "_py2js_deleteTraces": {},
       "_py2js_moveTraces": {},
       "_py2js_relayout": null,
       "_py2js_removeLayoutProps": {},
       "_py2js_removeTraceProps": {},
       "_py2js_restyle": null,
       "_py2js_update": {},
       "_view_count": 0,
       "_view_module": "plotlywidget",
       "_view_module_version": "^4.14.3",
       "_view_name": "FigureView"
      }
     },
     "4d084be9cb154668ae50ff3e290d1f63": {
      "model_module": "@jupyter-widgets/controls",
      "model_module_version": "1.5.0",
      "model_name": "DescriptionStyleModel",
      "state": {
       "_model_module": "@jupyter-widgets/controls",
       "_model_module_version": "1.5.0",
       "_model_name": "DescriptionStyleModel",
       "_view_count": null,
       "_view_module": "@jupyter-widgets/base",
       "_view_module_version": "1.2.0",
       "_view_name": "StyleView",
       "description_width": ""
      }
     },
     "4d1774354e1d473d90a91ee2e7aa28c5": {
      "model_module": "@jupyter-widgets/controls",
      "model_module_version": "1.5.0",
      "model_name": "DescriptionStyleModel",
      "state": {
       "_model_module": "@jupyter-widgets/controls",
       "_model_module_version": "1.5.0",
       "_model_name": "DescriptionStyleModel",
       "_view_count": null,
       "_view_module": "@jupyter-widgets/base",
       "_view_module_version": "1.2.0",
       "_view_name": "StyleView",
       "description_width": ""
      }
     },
     "4d87fb40d9724a4594cbf526c3ad0147": {
      "model_module": "@jupyter-widgets/controls",
      "model_module_version": "1.5.0",
      "model_name": "DescriptionStyleModel",
      "state": {
       "_model_module": "@jupyter-widgets/controls",
       "_model_module_version": "1.5.0",
       "_model_name": "DescriptionStyleModel",
       "_view_count": null,
       "_view_module": "@jupyter-widgets/base",
       "_view_module_version": "1.2.0",
       "_view_name": "StyleView",
       "description_width": ""
      }
     },
     "4deff34e006e44eba355e8cca4225bc1": {
      "model_module": "@jupyter-widgets/controls",
      "model_module_version": "1.5.0",
      "model_name": "DescriptionStyleModel",
      "state": {
       "_model_module": "@jupyter-widgets/controls",
       "_model_module_version": "1.5.0",
       "_model_name": "DescriptionStyleModel",
       "_view_count": null,
       "_view_module": "@jupyter-widgets/base",
       "_view_module_version": "1.2.0",
       "_view_name": "StyleView",
       "description_width": "20px"
      }
     },
     "4e46b2a80beb42b6a23241f67ca2ef53": {
      "model_module": "@jupyter-widgets/base",
      "model_module_version": "1.2.0",
      "model_name": "LayoutModel",
      "state": {
       "_model_module": "@jupyter-widgets/base",
       "_model_module_version": "1.2.0",
       "_model_name": "LayoutModel",
       "_view_count": null,
       "_view_module": "@jupyter-widgets/base",
       "_view_module_version": "1.2.0",
       "_view_name": "LayoutView",
       "align_content": null,
       "align_items": null,
       "align_self": null,
       "border": null,
       "bottom": null,
       "display": null,
       "flex": null,
       "flex_flow": null,
       "grid_area": "widget008",
       "grid_auto_columns": null,
       "grid_auto_flow": null,
       "grid_auto_rows": null,
       "grid_column": null,
       "grid_gap": null,
       "grid_row": null,
       "grid_template_areas": null,
       "grid_template_columns": null,
       "grid_template_rows": null,
       "height": null,
       "justify_content": null,
       "justify_items": null,
       "left": null,
       "margin": null,
       "max_height": null,
       "max_width": null,
       "min_height": null,
       "min_width": null,
       "object_fit": null,
       "object_position": null,
       "order": null,
       "overflow": null,
       "overflow_x": null,
       "overflow_y": null,
       "padding": null,
       "right": null,
       "top": null,
       "visibility": null,
       "width": null
      }
     },
     "4f81d61faee0497d96fe9caaaae12bba": {
      "model_module": "@jupyter-widgets/base",
      "model_module_version": "1.2.0",
      "model_name": "LayoutModel",
      "state": {
       "_model_module": "@jupyter-widgets/base",
       "_model_module_version": "1.2.0",
       "_model_name": "LayoutModel",
       "_view_count": null,
       "_view_module": "@jupyter-widgets/base",
       "_view_module_version": "1.2.0",
       "_view_name": "LayoutView",
       "align_content": null,
       "align_items": null,
       "align_self": null,
       "border": null,
       "bottom": null,
       "display": null,
       "flex": null,
       "flex_flow": null,
       "grid_area": "widget031",
       "grid_auto_columns": null,
       "grid_auto_flow": null,
       "grid_auto_rows": null,
       "grid_column": null,
       "grid_gap": null,
       "grid_row": null,
       "grid_template_areas": null,
       "grid_template_columns": null,
       "grid_template_rows": null,
       "height": null,
       "justify_content": null,
       "justify_items": null,
       "left": null,
       "margin": null,
       "max_height": null,
       "max_width": null,
       "min_height": null,
       "min_width": null,
       "object_fit": null,
       "object_position": null,
       "order": null,
       "overflow": null,
       "overflow_x": null,
       "overflow_y": null,
       "padding": null,
       "right": null,
       "top": null,
       "visibility": null,
       "width": null
      }
     },
     "4fbfc0817831417a828e70783acf9088": {
      "model_module": "@jupyter-widgets/base",
      "model_module_version": "1.2.0",
      "model_name": "LayoutModel",
      "state": {
       "_model_module": "@jupyter-widgets/base",
       "_model_module_version": "1.2.0",
       "_model_name": "LayoutModel",
       "_view_count": null,
       "_view_module": "@jupyter-widgets/base",
       "_view_module_version": "1.2.0",
       "_view_name": "LayoutView",
       "align_content": null,
       "align_items": null,
       "align_self": null,
       "border": null,
       "bottom": null,
       "display": null,
       "flex": null,
       "flex_flow": null,
       "grid_area": "widget005",
       "grid_auto_columns": null,
       "grid_auto_flow": null,
       "grid_auto_rows": null,
       "grid_column": null,
       "grid_gap": null,
       "grid_row": null,
       "grid_template_areas": null,
       "grid_template_columns": null,
       "grid_template_rows": null,
       "height": null,
       "justify_content": null,
       "justify_items": null,
       "left": null,
       "margin": null,
       "max_height": null,
       "max_width": null,
       "min_height": null,
       "min_width": null,
       "object_fit": null,
       "object_position": null,
       "order": null,
       "overflow": null,
       "overflow_x": null,
       "overflow_y": null,
       "padding": null,
       "right": null,
       "top": null,
       "visibility": null,
       "width": null
      }
     },
     "5470173bde8542bfa45dcc3304b792dc": {
      "model_module": "@jupyter-widgets/controls",
      "model_module_version": "1.5.0",
      "model_name": "DescriptionStyleModel",
      "state": {
       "_model_module": "@jupyter-widgets/controls",
       "_model_module_version": "1.5.0",
       "_model_name": "DescriptionStyleModel",
       "_view_count": null,
       "_view_module": "@jupyter-widgets/base",
       "_view_module_version": "1.2.0",
       "_view_name": "StyleView",
       "description_width": ""
      }
     },
     "563bc1b0a78f4583a40b24700ed1dc63": {
      "model_module": "@jupyter-widgets/controls",
      "model_module_version": "1.5.0",
      "model_name": "DescriptionStyleModel",
      "state": {
       "_model_module": "@jupyter-widgets/controls",
       "_model_module_version": "1.5.0",
       "_model_name": "DescriptionStyleModel",
       "_view_count": null,
       "_view_module": "@jupyter-widgets/base",
       "_view_module_version": "1.2.0",
       "_view_name": "StyleView",
       "description_width": "20px"
      }
     },
     "57046adeed1d49329b54fd093a50c052": {
      "model_module": "@jupyter-widgets/controls",
      "model_module_version": "1.5.0",
      "model_name": "DescriptionStyleModel",
      "state": {
       "_model_module": "@jupyter-widgets/controls",
       "_model_module_version": "1.5.0",
       "_model_name": "DescriptionStyleModel",
       "_view_count": null,
       "_view_module": "@jupyter-widgets/base",
       "_view_module_version": "1.2.0",
       "_view_name": "StyleView",
       "description_width": ""
      }
     },
     "57783e30b1654bcfbe6fb61d7d1bac5f": {
      "model_module": "@jupyter-widgets/controls",
      "model_module_version": "1.5.0",
      "model_name": "DescriptionStyleModel",
      "state": {
       "_model_module": "@jupyter-widgets/controls",
       "_model_module_version": "1.5.0",
       "_model_name": "DescriptionStyleModel",
       "_view_count": null,
       "_view_module": "@jupyter-widgets/base",
       "_view_module_version": "1.2.0",
       "_view_name": "StyleView",
       "description_width": ""
      }
     },
     "59a075b639a14a57bed1bd1218576ff8": {
      "model_module": "@jupyter-widgets/controls",
      "model_module_version": "1.5.0",
      "model_name": "DropdownModel",
      "state": {
       "_dom_classes": [],
       "_model_module": "@jupyter-widgets/controls",
       "_model_module_version": "1.5.0",
       "_model_name": "DropdownModel",
       "_options_labels": [
        "Mean",
        "Minimum",
        "1st Quartile",
        "Median",
        "3rd Quartile",
        "Maximum"
       ],
       "_view_count": null,
       "_view_module": "@jupyter-widgets/controls",
       "_view_module_version": "1.5.0",
       "_view_name": "DropdownView",
       "description": "Metric:",
       "description_tooltip": null,
       "disabled": false,
       "index": 0,
       "layout": "IPY_MODEL_4bbdf7cb6f08456cb6029041567703e2",
       "style": "IPY_MODEL_00eff7b3b01e485badebd3fb23ee1c40"
      }
     },
     "5b50d970e3ec42a2b25b66ffe78cbc3e": {
      "model_module": "@jupyter-widgets/controls",
      "model_module_version": "1.5.0",
      "model_name": "HTMLModel",
      "state": {
       "_dom_classes": [],
       "_model_module": "@jupyter-widgets/controls",
       "_model_module_version": "1.5.0",
       "_model_name": "HTMLModel",
       "_view_count": null,
       "_view_module": "@jupyter-widgets/controls",
       "_view_module_version": "1.5.0",
       "_view_name": "HTMLView",
       "description": "",
       "description_tooltip": null,
       "layout": "IPY_MODEL_0693f2e2735b41f790454e578e518898",
       "placeholder": "​",
       "style": "IPY_MODEL_9b744d1981b64a4fb7a70f5a10bb86e9",
       "value": "<b>wind_bearing_deg</b>"
      }
     },
     "5d348caa88444c1cb06da32118ed2679": {
      "model_module": "@jupyter-widgets/base",
      "model_module_version": "1.2.0",
      "model_name": "LayoutModel",
      "state": {
       "_model_module": "@jupyter-widgets/base",
       "_model_module_version": "1.2.0",
       "_model_name": "LayoutModel",
       "_view_count": null,
       "_view_module": "@jupyter-widgets/base",
       "_view_module_version": "1.2.0",
       "_view_name": "LayoutView",
       "align_content": null,
       "align_items": null,
       "align_self": null,
       "border": null,
       "bottom": null,
       "display": null,
       "flex": null,
       "flex_flow": null,
       "grid_area": null,
       "grid_auto_columns": null,
       "grid_auto_flow": null,
       "grid_auto_rows": null,
       "grid_column": null,
       "grid_gap": null,
       "grid_row": null,
       "grid_template_areas": null,
       "grid_template_columns": null,
       "grid_template_rows": null,
       "height": null,
       "justify_content": null,
       "justify_items": null,
       "left": null,
       "margin": null,
       "max_height": null,
       "max_width": null,
       "min_height": null,
       "min_width": null,
       "object_fit": null,
       "object_position": null,
       "order": null,
       "overflow": null,
       "overflow_x": null,
       "overflow_y": null,
       "padding": null,
       "right": null,
       "top": null,
       "visibility": null,
       "width": null
      }
     },
     "5d9a3e6d8ce24d658ebdb8e271715974": {
      "model_module": "@jupyter-widgets/base",
      "model_module_version": "1.2.0",
      "model_name": "LayoutModel",
      "state": {
       "_model_module": "@jupyter-widgets/base",
       "_model_module_version": "1.2.0",
       "_model_name": "LayoutModel",
       "_view_count": null,
       "_view_module": "@jupyter-widgets/base",
       "_view_module_version": "1.2.0",
       "_view_name": "LayoutView",
       "align_content": null,
       "align_items": null,
       "align_self": null,
       "border": null,
       "bottom": null,
       "display": null,
       "flex": null,
       "flex_flow": null,
       "grid_area": "widget028",
       "grid_auto_columns": null,
       "grid_auto_flow": null,
       "grid_auto_rows": null,
       "grid_column": null,
       "grid_gap": null,
       "grid_row": null,
       "grid_template_areas": null,
       "grid_template_columns": null,
       "grid_template_rows": null,
       "height": null,
       "justify_content": null,
       "justify_items": null,
       "left": null,
       "margin": null,
       "max_height": null,
       "max_width": null,
       "min_height": null,
       "min_width": null,
       "object_fit": null,
       "object_position": null,
       "order": null,
       "overflow": null,
       "overflow_x": null,
       "overflow_y": null,
       "padding": null,
       "right": null,
       "top": null,
       "visibility": null,
       "width": null
      }
     },
     "6018549f137e473691d866140fda2211": {
      "model_module": "@jupyter-widgets/controls",
      "model_module_version": "1.5.0",
      "model_name": "HTMLModel",
      "state": {
       "_dom_classes": [],
       "_model_module": "@jupyter-widgets/controls",
       "_model_module_version": "1.5.0",
       "_model_name": "HTMLModel",
       "_view_count": null,
       "_view_module": "@jupyter-widgets/controls",
       "_view_module_version": "1.5.0",
       "_view_name": "HTMLView",
       "description": "",
       "description_tooltip": null,
       "layout": "IPY_MODEL_3937e9e1b893477e9f43c54e85d775d7",
       "placeholder": "​",
       "style": "IPY_MODEL_4d1774354e1d473d90a91ee2e7aa28c5",
       "value": "<b>wind_speed_mph</b>"
      }
     },
     "61fb0957c3024d3db760a18a2e8150e6": {
      "model_module": "@jupyter-widgets/controls",
      "model_module_version": "1.5.0",
      "model_name": "HTMLModel",
      "state": {
       "_dom_classes": [],
       "_model_module": "@jupyter-widgets/controls",
       "_model_module_version": "1.5.0",
       "_model_name": "HTMLModel",
       "_view_count": null,
       "_view_module": "@jupyter-widgets/controls",
       "_view_module_version": "1.5.0",
       "_view_name": "HTMLView",
       "description": "",
       "description_tooltip": null,
       "layout": "IPY_MODEL_c989ce145dca49feb4cdb42fdbcc3c29",
       "placeholder": "​",
       "style": "IPY_MODEL_ae2e203f4748486090c960d3e1d860f8",
       "value": "<svg xmlns=\"http://www.w3.org/2000/svg\" width=\"12\" height=\"12\" viewBox=\"0 0 24 24\" fill=\"red\"><path d=\"M12 21l-12-18h24z\"/></svg>"
      }
     },
     "667fb536db4d45089db14f9d6350ba61": {
      "model_module": "@jupyter-widgets/base",
      "model_module_version": "1.2.0",
      "model_name": "LayoutModel",
      "state": {
       "_model_module": "@jupyter-widgets/base",
       "_model_module_version": "1.2.0",
       "_model_name": "LayoutModel",
       "_view_count": null,
       "_view_module": "@jupyter-widgets/base",
       "_view_module_version": "1.2.0",
       "_view_name": "LayoutView",
       "align_content": null,
       "align_items": null,
       "align_self": null,
       "border": null,
       "bottom": null,
       "display": null,
       "flex": null,
       "flex_flow": null,
       "grid_area": "widget012",
       "grid_auto_columns": null,
       "grid_auto_flow": null,
       "grid_auto_rows": null,
       "grid_column": null,
       "grid_gap": null,
       "grid_row": null,
       "grid_template_areas": null,
       "grid_template_columns": null,
       "grid_template_rows": null,
       "height": null,
       "justify_content": null,
       "justify_items": null,
       "left": null,
       "margin": null,
       "max_height": null,
       "max_width": null,
       "min_height": null,
       "min_width": null,
       "object_fit": null,
       "object_position": null,
       "order": null,
       "overflow": null,
       "overflow_x": null,
       "overflow_y": null,
       "padding": null,
       "right": null,
       "top": null,
       "visibility": null,
       "width": null
      }
     },
     "67464b349ca94aea9020699c0ee12462": {
      "model_module": "@jupyter-widgets/base",
      "model_module_version": "1.2.0",
      "model_name": "LayoutModel",
      "state": {
       "_model_module": "@jupyter-widgets/base",
       "_model_module_version": "1.2.0",
       "_model_name": "LayoutModel",
       "_view_count": null,
       "_view_module": "@jupyter-widgets/base",
       "_view_module_version": "1.2.0",
       "_view_name": "LayoutView",
       "align_content": null,
       "align_items": null,
       "align_self": null,
       "border": null,
       "bottom": null,
       "display": null,
       "flex": null,
       "flex_flow": null,
       "grid_area": "widget019",
       "grid_auto_columns": null,
       "grid_auto_flow": null,
       "grid_auto_rows": null,
       "grid_column": null,
       "grid_gap": null,
       "grid_row": null,
       "grid_template_areas": null,
       "grid_template_columns": null,
       "grid_template_rows": null,
       "height": null,
       "justify_content": null,
       "justify_items": null,
       "left": null,
       "margin": null,
       "max_height": null,
       "max_width": null,
       "min_height": null,
       "min_width": null,
       "object_fit": null,
       "object_position": null,
       "order": null,
       "overflow": null,
       "overflow_x": null,
       "overflow_y": null,
       "padding": null,
       "right": null,
       "top": null,
       "visibility": null,
       "width": null
      }
     },
     "685d37836ec84af4a6173db3411508c0": {
      "model_module": "@jupyter-widgets/base",
      "model_module_version": "1.2.0",
      "model_name": "LayoutModel",
      "state": {
       "_model_module": "@jupyter-widgets/base",
       "_model_module_version": "1.2.0",
       "_model_name": "LayoutModel",
       "_view_count": null,
       "_view_module": "@jupyter-widgets/base",
       "_view_module_version": "1.2.0",
       "_view_name": "LayoutView",
       "align_content": null,
       "align_items": null,
       "align_self": null,
       "border": null,
       "bottom": null,
       "display": null,
       "flex": null,
       "flex_flow": null,
       "grid_area": "widget003",
       "grid_auto_columns": null,
       "grid_auto_flow": null,
       "grid_auto_rows": null,
       "grid_column": null,
       "grid_gap": null,
       "grid_row": null,
       "grid_template_areas": null,
       "grid_template_columns": null,
       "grid_template_rows": null,
       "height": null,
       "justify_content": null,
       "justify_items": null,
       "left": null,
       "margin": null,
       "max_height": null,
       "max_width": null,
       "min_height": null,
       "min_width": null,
       "object_fit": null,
       "object_position": null,
       "order": null,
       "overflow": null,
       "overflow_x": null,
       "overflow_y": null,
       "padding": null,
       "right": null,
       "top": null,
       "visibility": null,
       "width": null
      }
     },
     "68e27720aa2b4cd384190651c12923cb": {
      "model_module": "@jupyter-widgets/controls",
      "model_module_version": "1.5.0",
      "model_name": "CheckboxModel",
      "state": {
       "_dom_classes": [],
       "_model_module": "@jupyter-widgets/controls",
       "_model_module_version": "1.5.0",
       "_model_name": "CheckboxModel",
       "_view_count": null,
       "_view_module": "@jupyter-widgets/controls",
       "_view_module_version": "1.5.0",
       "_view_name": "CheckboxView",
       "description": "Normalize",
       "description_tooltip": null,
       "disabled": false,
       "indent": false,
       "layout": "IPY_MODEL_aa507e4411fc4ec79cdc8a15d7329488",
       "style": "IPY_MODEL_09ae8691811f40b5be2854feabdf30b2",
       "value": false
      }
     },
     "69406af93b7040488799ddb7cd8c01e5": {
      "model_module": "@jupyter-widgets/controls",
      "model_module_version": "1.5.0",
      "model_name": "DescriptionStyleModel",
      "state": {
       "_model_module": "@jupyter-widgets/controls",
       "_model_module_version": "1.5.0",
       "_model_name": "DescriptionStyleModel",
       "_view_count": null,
       "_view_module": "@jupyter-widgets/base",
       "_view_module_version": "1.2.0",
       "_view_name": "StyleView",
       "description_width": ""
      }
     },
     "6acd28eafe1a4a31afcb2d71ef0fda21": {
      "model_module": "@jupyter-widgets/controls",
      "model_module_version": "1.5.0",
      "model_name": "DescriptionStyleModel",
      "state": {
       "_model_module": "@jupyter-widgets/controls",
       "_model_module_version": "1.5.0",
       "_model_name": "DescriptionStyleModel",
       "_view_count": null,
       "_view_module": "@jupyter-widgets/base",
       "_view_module_version": "1.2.0",
       "_view_name": "StyleView",
       "description_width": ""
      }
     },
     "6ae462fb46734dacb0533ea34f4b292f": {
      "model_module": "@jupyter-widgets/controls",
      "model_module_version": "1.5.0",
      "model_name": "DescriptionStyleModel",
      "state": {
       "_model_module": "@jupyter-widgets/controls",
       "_model_module_version": "1.5.0",
       "_model_name": "DescriptionStyleModel",
       "_view_count": null,
       "_view_module": "@jupyter-widgets/base",
       "_view_module_version": "1.2.0",
       "_view_name": "StyleView",
       "description_width": ""
      }
     },
     "72894ea7dae94b84b9d4b8620859fe17": {
      "model_module": "@jupyter-widgets/base",
      "model_module_version": "1.2.0",
      "model_name": "LayoutModel",
      "state": {
       "_model_module": "@jupyter-widgets/base",
       "_model_module_version": "1.2.0",
       "_model_name": "LayoutModel",
       "_view_count": null,
       "_view_module": "@jupyter-widgets/base",
       "_view_module_version": "1.2.0",
       "_view_name": "LayoutView",
       "align_content": null,
       "align_items": null,
       "align_self": null,
       "border": null,
       "bottom": null,
       "display": null,
       "flex": null,
       "flex_flow": null,
       "grid_area": "widget032",
       "grid_auto_columns": null,
       "grid_auto_flow": null,
       "grid_auto_rows": null,
       "grid_column": null,
       "grid_gap": null,
       "grid_row": null,
       "grid_template_areas": null,
       "grid_template_columns": null,
       "grid_template_rows": null,
       "height": null,
       "justify_content": null,
       "justify_items": null,
       "left": null,
       "margin": null,
       "max_height": null,
       "max_width": null,
       "min_height": null,
       "min_width": null,
       "object_fit": null,
       "object_position": null,
       "order": null,
       "overflow": null,
       "overflow_x": null,
       "overflow_y": null,
       "padding": null,
       "right": null,
       "top": null,
       "visibility": null,
       "width": null
      }
     },
     "739e508ef30744d88b3878b0818cc590": {
      "model_module": "@jupyter-widgets/controls",
      "model_module_version": "1.5.0",
      "model_name": "DescriptionStyleModel",
      "state": {
       "_model_module": "@jupyter-widgets/controls",
       "_model_module_version": "1.5.0",
       "_model_name": "DescriptionStyleModel",
       "_view_count": null,
       "_view_module": "@jupyter-widgets/base",
       "_view_module_version": "1.2.0",
       "_view_name": "StyleView",
       "description_width": ""
      }
     },
     "73a12c8a2a854b2f9c03bb78cbf33cdc": {
      "model_module": "@jupyter-widgets/controls",
      "model_module_version": "1.5.0",
      "model_name": "VBoxModel",
      "state": {
       "_dom_classes": [],
       "_model_module": "@jupyter-widgets/controls",
       "_model_module_version": "1.5.0",
       "_model_name": "VBoxModel",
       "_view_count": null,
       "_view_module": "@jupyter-widgets/controls",
       "_view_module_version": "1.5.0",
       "_view_name": "VBoxView",
       "box_style": "",
       "children": [
        "IPY_MODEL_59a075b639a14a57bed1bd1218576ff8",
        "IPY_MODEL_fee01d7a92f249bfa1fc8ba52efc13af"
       ],
       "layout": "IPY_MODEL_0d711f6c67ab4e3bb4e711b75d9008e8"
      }
     },
     "73d2f20271d44629bf7d4d7ccb66ac4d": {
      "model_module": "@jupyter-widgets/controls",
      "model_module_version": "1.5.0",
      "model_name": "HBoxModel",
      "state": {
       "_dom_classes": [],
       "_model_module": "@jupyter-widgets/controls",
       "_model_module_version": "1.5.0",
       "_model_name": "HBoxModel",
       "_view_count": null,
       "_view_module": "@jupyter-widgets/controls",
       "_view_module_version": "1.5.0",
       "_view_name": "HBoxView",
       "box_style": "",
       "children": [
        "IPY_MODEL_fc0559952f8b4430b6bec4c9efaa78b8",
        "IPY_MODEL_1b3e1e8d42b04cfe96955591599a5e09",
        "IPY_MODEL_17d8ee7dccfa4d52ad826e26bc3af408"
       ],
       "layout": "IPY_MODEL_e6094344cd7e4b31a7a3b49cec7bb84e"
      }
     },
     "770d76dce0fd45eabe1335d2b963e907": {
      "model_module": "@jupyter-widgets/base",
      "model_module_version": "1.2.0",
      "model_name": "LayoutModel",
      "state": {
       "_model_module": "@jupyter-widgets/base",
       "_model_module_version": "1.2.0",
       "_model_name": "LayoutModel",
       "_view_count": null,
       "_view_module": "@jupyter-widgets/base",
       "_view_module_version": "1.2.0",
       "_view_name": "LayoutView",
       "align_content": null,
       "align_items": null,
       "align_self": null,
       "border": null,
       "bottom": null,
       "display": null,
       "flex": null,
       "flex_flow": null,
       "grid_area": "widget020",
       "grid_auto_columns": null,
       "grid_auto_flow": null,
       "grid_auto_rows": null,
       "grid_column": null,
       "grid_gap": null,
       "grid_row": null,
       "grid_template_areas": null,
       "grid_template_columns": null,
       "grid_template_rows": null,
       "height": null,
       "justify_content": null,
       "justify_items": null,
       "left": null,
       "margin": null,
       "max_height": null,
       "max_width": null,
       "min_height": null,
       "min_width": null,
       "object_fit": null,
       "object_position": null,
       "order": null,
       "overflow": null,
       "overflow_x": null,
       "overflow_y": null,
       "padding": null,
       "right": null,
       "top": null,
       "visibility": null,
       "width": null
      }
     },
     "783dec5bc4664d0c8ab710788009705c": {
      "model_module": "@jupyter-widgets/base",
      "model_module_version": "1.2.0",
      "model_name": "LayoutModel",
      "state": {
       "_model_module": "@jupyter-widgets/base",
       "_model_module_version": "1.2.0",
       "_model_name": "LayoutModel",
       "_view_count": null,
       "_view_module": "@jupyter-widgets/base",
       "_view_module_version": "1.2.0",
       "_view_name": "LayoutView",
       "align_content": null,
       "align_items": null,
       "align_self": null,
       "border": null,
       "bottom": null,
       "display": null,
       "flex": null,
       "flex_flow": null,
       "grid_area": "widget009",
       "grid_auto_columns": null,
       "grid_auto_flow": null,
       "grid_auto_rows": null,
       "grid_column": null,
       "grid_gap": null,
       "grid_row": null,
       "grid_template_areas": null,
       "grid_template_columns": null,
       "grid_template_rows": null,
       "height": null,
       "justify_content": null,
       "justify_items": null,
       "left": null,
       "margin": null,
       "max_height": null,
       "max_width": null,
       "min_height": null,
       "min_width": null,
       "object_fit": null,
       "object_position": null,
       "order": null,
       "overflow": null,
       "overflow_x": null,
       "overflow_y": null,
       "padding": null,
       "right": null,
       "top": null,
       "visibility": null,
       "width": null
      }
     },
     "799fea1c38f744069a9c5eb6cd33953c": {
      "model_module": "@jupyter-widgets/controls",
      "model_module_version": "1.5.0",
      "model_name": "HTMLModel",
      "state": {
       "_dom_classes": [],
       "_model_module": "@jupyter-widgets/controls",
       "_model_module_version": "1.5.0",
       "_model_name": "HTMLModel",
       "_view_count": null,
       "_view_module": "@jupyter-widgets/controls",
       "_view_module_version": "1.5.0",
       "_view_name": "HTMLView",
       "description": "",
       "description_tooltip": null,
       "layout": "IPY_MODEL_1602d4bd44814a85af6a5a67ff271563",
       "placeholder": "​",
       "style": "IPY_MODEL_40ba05e4c96247e8987ecc3f4240fa53",
       "value": "<svg xmlns=\"http://www.w3.org/2000/svg\" width=\"12\" height=\"12\" viewBox=\"0 0 24 24\" fill=\"red\"><path d=\"M12 21l-12-18h24z\"/></svg>"
      }
     },
     "7adc8fcd718f49f59a0c620ad034e15b": {
      "model_module": "@jupyter-widgets/base",
      "model_module_version": "1.2.0",
      "model_name": "LayoutModel",
      "state": {
       "_model_module": "@jupyter-widgets/base",
       "_model_module_version": "1.2.0",
       "_model_name": "LayoutModel",
       "_view_count": null,
       "_view_module": "@jupyter-widgets/base",
       "_view_module_version": "1.2.0",
       "_view_name": "LayoutView",
       "align_content": null,
       "align_items": null,
       "align_self": null,
       "border": null,
       "bottom": null,
       "display": null,
       "flex": null,
       "flex_flow": null,
       "grid_area": null,
       "grid_auto_columns": null,
       "grid_auto_flow": null,
       "grid_auto_rows": null,
       "grid_column": null,
       "grid_gap": null,
       "grid_row": null,
       "grid_template_areas": null,
       "grid_template_columns": null,
       "grid_template_rows": null,
       "height": null,
       "justify_content": null,
       "justify_items": null,
       "left": null,
       "margin": null,
       "max_height": null,
       "max_width": null,
       "min_height": null,
       "min_width": null,
       "object_fit": null,
       "object_position": null,
       "order": null,
       "overflow": null,
       "overflow_x": null,
       "overflow_y": null,
       "padding": null,
       "right": null,
       "top": null,
       "visibility": null,
       "width": null
      }
     },
     "7b2412d144bb48c19d376c9dec612dc2": {
      "model_module": "@jupyter-widgets/base",
      "model_module_version": "1.2.0",
      "model_name": "LayoutModel",
      "state": {
       "_model_module": "@jupyter-widgets/base",
       "_model_module_version": "1.2.0",
       "_model_name": "LayoutModel",
       "_view_count": null,
       "_view_module": "@jupyter-widgets/base",
       "_view_module_version": "1.2.0",
       "_view_name": "LayoutView",
       "align_content": null,
       "align_items": null,
       "align_self": null,
       "border": null,
       "bottom": null,
       "display": null,
       "flex": null,
       "flex_flow": null,
       "grid_area": null,
       "grid_auto_columns": null,
       "grid_auto_flow": null,
       "grid_auto_rows": null,
       "grid_column": null,
       "grid_gap": null,
       "grid_row": null,
       "grid_template_areas": null,
       "grid_template_columns": null,
       "grid_template_rows": null,
       "height": null,
       "justify_content": null,
       "justify_items": null,
       "left": null,
       "margin": null,
       "max_height": null,
       "max_width": null,
       "min_height": null,
       "min_width": null,
       "object_fit": null,
       "object_position": null,
       "order": null,
       "overflow": null,
       "overflow_x": null,
       "overflow_y": null,
       "padding": null,
       "right": null,
       "top": null,
       "visibility": null,
       "width": null
      }
     },
     "7e29c1fbab7f486fb527c9c5c153fc5a": {
      "model_module": "@jupyter-widgets/controls",
      "model_module_version": "1.5.0",
      "model_name": "DescriptionStyleModel",
      "state": {
       "_model_module": "@jupyter-widgets/controls",
       "_model_module_version": "1.5.0",
       "_model_name": "DescriptionStyleModel",
       "_view_count": null,
       "_view_module": "@jupyter-widgets/base",
       "_view_module_version": "1.2.0",
       "_view_name": "StyleView",
       "description_width": ""
      }
     },
     "862d0b31db0a4930bfe31cc4aec46ef1": {
      "model_module": "@jupyter-widgets/controls",
      "model_module_version": "1.5.0",
      "model_name": "DescriptionStyleModel",
      "state": {
       "_model_module": "@jupyter-widgets/controls",
       "_model_module_version": "1.5.0",
       "_model_name": "DescriptionStyleModel",
       "_view_count": null,
       "_view_module": "@jupyter-widgets/base",
       "_view_module_version": "1.2.0",
       "_view_name": "StyleView",
       "description_width": ""
      }
     },
     "879c36786c554256b0791678535a3ffd": {
      "model_module": "@jupyter-widgets/base",
      "model_module_version": "1.2.0",
      "model_name": "LayoutModel",
      "state": {
       "_model_module": "@jupyter-widgets/base",
       "_model_module_version": "1.2.0",
       "_model_name": "LayoutModel",
       "_view_count": null,
       "_view_module": "@jupyter-widgets/base",
       "_view_module_version": "1.2.0",
       "_view_name": "LayoutView",
       "align_content": null,
       "align_items": null,
       "align_self": null,
       "border": null,
       "bottom": null,
       "display": null,
       "flex": null,
       "flex_flow": null,
       "grid_area": "widget034",
       "grid_auto_columns": null,
       "grid_auto_flow": null,
       "grid_auto_rows": null,
       "grid_column": null,
       "grid_gap": null,
       "grid_row": null,
       "grid_template_areas": null,
       "grid_template_columns": null,
       "grid_template_rows": null,
       "height": null,
       "justify_content": null,
       "justify_items": null,
       "left": null,
       "margin": null,
       "max_height": null,
       "max_width": null,
       "min_height": null,
       "min_width": null,
       "object_fit": null,
       "object_position": null,
       "order": null,
       "overflow": null,
       "overflow_x": null,
       "overflow_y": null,
       "padding": null,
       "right": null,
       "top": null,
       "visibility": null,
       "width": null
      }
     },
     "8a0d99b9b1074c33a4cd118db96ee76d": {
      "model_module": "@jupyter-widgets/base",
      "model_module_version": "1.2.0",
      "model_name": "LayoutModel",
      "state": {
       "_model_module": "@jupyter-widgets/base",
       "_model_module_version": "1.2.0",
       "_model_name": "LayoutModel",
       "_view_count": null,
       "_view_module": "@jupyter-widgets/base",
       "_view_module_version": "1.2.0",
       "_view_name": "LayoutView",
       "align_content": null,
       "align_items": null,
       "align_self": null,
       "border": null,
       "bottom": null,
       "display": null,
       "flex": null,
       "flex_flow": null,
       "grid_area": "widget017",
       "grid_auto_columns": null,
       "grid_auto_flow": null,
       "grid_auto_rows": null,
       "grid_column": null,
       "grid_gap": null,
       "grid_row": null,
       "grid_template_areas": null,
       "grid_template_columns": null,
       "grid_template_rows": null,
       "height": null,
       "justify_content": null,
       "justify_items": null,
       "left": null,
       "margin": null,
       "max_height": null,
       "max_width": null,
       "min_height": null,
       "min_width": null,
       "object_fit": null,
       "object_position": null,
       "order": null,
       "overflow": null,
       "overflow_x": null,
       "overflow_y": null,
       "padding": null,
       "right": null,
       "top": null,
       "visibility": null,
       "width": null
      }
     },
     "8a98da5f49a847eaa92734eafb8949dc": {
      "model_module": "@jupyter-widgets/controls",
      "model_module_version": "1.5.0",
      "model_name": "HTMLModel",
      "state": {
       "_dom_classes": [],
       "_model_module": "@jupyter-widgets/controls",
       "_model_module_version": "1.5.0",
       "_model_name": "HTMLModel",
       "_view_count": null,
       "_view_module": "@jupyter-widgets/controls",
       "_view_module_version": "1.5.0",
       "_view_name": "HTMLView",
       "description": "",
       "description_tooltip": null,
       "layout": "IPY_MODEL_fe8beb2804544faf8955f15266cb4e19",
       "placeholder": "​",
       "style": "IPY_MODEL_8df439de192c4e4b821ac309f7dbc632",
       "value": "<b>Count</b>"
      }
     },
     "8cb33a572ebc4b69b1b1c06bdf346591": {
      "model_module": "@jupyter-widgets/controls",
      "model_module_version": "1.5.0",
      "model_name": "HTMLModel",
      "state": {
       "_dom_classes": [],
       "_model_module": "@jupyter-widgets/controls",
       "_model_module_version": "1.5.0",
       "_model_name": "HTMLModel",
       "_view_count": null,
       "_view_module": "@jupyter-widgets/controls",
       "_view_module_version": "1.5.0",
       "_view_name": "HTMLView",
       "description": "",
       "description_tooltip": null,
       "layout": "IPY_MODEL_783dec5bc4664d0c8ab710788009705c",
       "placeholder": "​",
       "style": "IPY_MODEL_5470173bde8542bfa45dcc3304b792dc",
       "value": "<b>cos_monthly</b>"
      }
     },
     "8df439de192c4e4b821ac309f7dbc632": {
      "model_module": "@jupyter-widgets/controls",
      "model_module_version": "1.5.0",
      "model_name": "DescriptionStyleModel",
      "state": {
       "_model_module": "@jupyter-widgets/controls",
       "_model_module_version": "1.5.0",
       "_model_name": "DescriptionStyleModel",
       "_view_count": null,
       "_view_module": "@jupyter-widgets/base",
       "_view_module_version": "1.2.0",
       "_view_name": "StyleView",
       "description_width": ""
      }
     },
     "8ebba4b2e6114f79897b9ddb6c283c57": {
      "model_module": "@jupyter-widgets/controls",
      "model_module_version": "1.5.0",
      "model_name": "HTMLModel",
      "state": {
       "_dom_classes": [],
       "_model_module": "@jupyter-widgets/controls",
       "_model_module_version": "1.5.0",
       "_model_name": "HTMLModel",
       "_view_count": null,
       "_view_module": "@jupyter-widgets/controls",
       "_view_module_version": "1.5.0",
       "_view_name": "HTMLView",
       "description": "",
       "description_tooltip": null,
       "layout": "IPY_MODEL_3ea0cbc3c3344eee9ea90c8e5e9b4359",
       "placeholder": "​",
       "style": "IPY_MODEL_085c98f08286459b94f778d5b21ced30",
       "value": "<b>visibility_miles_max_10</b>"
      }
     },
     "8edd5ed14be34fb9aaf9946b6d36cae9": {
      "model_module": "@jupyter-widgets/controls",
      "model_module_version": "1.5.0",
      "model_name": "HTMLModel",
      "state": {
       "_dom_classes": [],
       "_model_module": "@jupyter-widgets/controls",
       "_model_module_version": "1.5.0",
       "_model_name": "HTMLModel",
       "_view_count": null,
       "_view_module": "@jupyter-widgets/controls",
       "_view_module_version": "1.5.0",
       "_view_name": "HTMLView",
       "description": "",
       "description_tooltip": null,
       "layout": "IPY_MODEL_e34e50c55e3940c69209762b9cd50532",
       "placeholder": "​",
       "style": "IPY_MODEL_739e508ef30744d88b3878b0818cc590",
       "value": "<p style=\"margin-bottom:-10px;color:black\">100%</p><p style=\"margin-bottom:-10px;color:black\">0.0000</p>"
      }
     },
     "8f4e7c910374470ab17741429bea4e8e": {
      "model_module": "@jupyter-widgets/base",
      "model_module_version": "1.2.0",
      "model_name": "LayoutModel",
      "state": {
       "_model_module": "@jupyter-widgets/base",
       "_model_module_version": "1.2.0",
       "_model_name": "LayoutModel",
       "_view_count": null,
       "_view_module": "@jupyter-widgets/base",
       "_view_module_version": "1.2.0",
       "_view_name": "LayoutView",
       "align_content": null,
       "align_items": null,
       "align_self": null,
       "border": null,
       "bottom": null,
       "display": null,
       "flex": null,
       "flex_flow": null,
       "grid_area": "widget037",
       "grid_auto_columns": null,
       "grid_auto_flow": null,
       "grid_auto_rows": null,
       "grid_column": null,
       "grid_gap": null,
       "grid_row": null,
       "grid_template_areas": null,
       "grid_template_columns": null,
       "grid_template_rows": null,
       "height": null,
       "justify_content": null,
       "justify_items": null,
       "left": null,
       "margin": null,
       "max_height": null,
       "max_width": null,
       "min_height": null,
       "min_width": null,
       "object_fit": null,
       "object_position": null,
       "order": null,
       "overflow": null,
       "overflow_x": null,
       "overflow_y": null,
       "padding": null,
       "right": null,
       "top": null,
       "visibility": null,
       "width": null
      }
     },
     "907e2bac4a264e28851a4455b8627eda": {
      "model_module": "@jupyter-widgets/controls",
      "model_module_version": "1.5.0",
      "model_name": "DescriptionStyleModel",
      "state": {
       "_model_module": "@jupyter-widgets/controls",
       "_model_module_version": "1.5.0",
       "_model_name": "DescriptionStyleModel",
       "_view_count": null,
       "_view_module": "@jupyter-widgets/base",
       "_view_module_version": "1.2.0",
       "_view_name": "StyleView",
       "description_width": ""
      }
     },
     "9300b34b0de14851bfc0893c4828961f": {
      "model_module": "@jupyter-widgets/controls",
      "model_module_version": "1.5.0",
      "model_name": "HTMLModel",
      "state": {
       "_dom_classes": [],
       "_model_module": "@jupyter-widgets/controls",
       "_model_module_version": "1.5.0",
       "_model_name": "HTMLModel",
       "_view_count": null,
       "_view_module": "@jupyter-widgets/controls",
       "_view_module_version": "1.5.0",
       "_view_name": "HTMLView",
       "description": "",
       "description_tooltip": null,
       "layout": "IPY_MODEL_c9166ca419f943b89f12b13915c81efc",
       "placeholder": "​",
       "style": "IPY_MODEL_1d5f4f54b7994fa8b2a50dde4da38aea",
       "value": "<p style=\"margin-bottom:-10px;color:black\">100%</p><p style=\"margin-bottom:-10px;color:black\">0.0000</p>"
      }
     },
     "940a1d8cc57c445e8fb373ac98f2d768": {
      "model_module": "@jupyter-widgets/controls",
      "model_module_version": "1.5.0",
      "model_name": "HTMLModel",
      "state": {
       "_dom_classes": [],
       "_model_module": "@jupyter-widgets/controls",
       "_model_module_version": "1.5.0",
       "_model_name": "HTMLModel",
       "_view_count": null,
       "_view_module": "@jupyter-widgets/controls",
       "_view_module_version": "1.5.0",
       "_view_name": "HTMLView",
       "description": "",
       "description_tooltip": null,
       "layout": "IPY_MODEL_b3adcdaba3164087afa6f0855eada69c",
       "placeholder": "​",
       "style": "IPY_MODEL_2ad0c8fda5c54cee8abd38918c642eec",
       "value": "<p style=\"margin-bottom:-10px;color:black\">100%</p><p style=\"margin-bottom:-10px;color:black\">1.0000</p>"
      }
     },
     "95d6ba42304a426bac3963041827816c": {
      "model_module": "@jupyter-widgets/controls",
      "model_module_version": "1.5.0",
      "model_name": "HTMLModel",
      "state": {
       "_dom_classes": [],
       "_model_module": "@jupyter-widgets/controls",
       "_model_module_version": "1.5.0",
       "_model_name": "HTMLModel",
       "_view_count": null,
       "_view_module": "@jupyter-widgets/controls",
       "_view_module_version": "1.5.0",
       "_view_name": "HTMLView",
       "description": "",
       "description_tooltip": null,
       "layout": "IPY_MODEL_09f23bc3584d467fa4aa69219790e235",
       "placeholder": "​",
       "style": "IPY_MODEL_08531af2ca014bbab1cb66d70049a52c",
       "value": "<b>cos_hourly</b>"
      }
     },
     "95eed7e864a249f8bb5f1333c19f567e": {
      "model_module": "@jupyter-widgets/base",
      "model_module_version": "1.2.0",
      "model_name": "LayoutModel",
      "state": {
       "_model_module": "@jupyter-widgets/base",
       "_model_module_version": "1.2.0",
       "_model_name": "LayoutModel",
       "_view_count": null,
       "_view_module": "@jupyter-widgets/base",
       "_view_module_version": "1.2.0",
       "_view_name": "LayoutView",
       "align_content": null,
       "align_items": null,
       "align_self": null,
       "border": null,
       "bottom": null,
       "display": null,
       "flex": null,
       "flex_flow": null,
       "grid_area": "widget016",
       "grid_auto_columns": null,
       "grid_auto_flow": null,
       "grid_auto_rows": null,
       "grid_column": null,
       "grid_gap": null,
       "grid_row": null,
       "grid_template_areas": null,
       "grid_template_columns": null,
       "grid_template_rows": null,
       "height": null,
       "justify_content": null,
       "justify_items": null,
       "left": null,
       "margin": null,
       "max_height": null,
       "max_width": null,
       "min_height": null,
       "min_width": null,
       "object_fit": null,
       "object_position": null,
       "order": null,
       "overflow": null,
       "overflow_x": null,
       "overflow_y": null,
       "padding": null,
       "right": null,
       "top": null,
       "visibility": null,
       "width": null
      }
     },
     "9a0d3feb7b23436691a959c66f55c5d1": {
      "model_module": "@jupyter-widgets/base",
      "model_module_version": "1.2.0",
      "model_name": "LayoutModel",
      "state": {
       "_model_module": "@jupyter-widgets/base",
       "_model_module_version": "1.2.0",
       "_model_name": "LayoutModel",
       "_view_count": null,
       "_view_module": "@jupyter-widgets/base",
       "_view_module_version": "1.2.0",
       "_view_name": "LayoutView",
       "align_content": null,
       "align_items": null,
       "align_self": null,
       "border": null,
       "bottom": null,
       "display": null,
       "flex": null,
       "flex_flow": null,
       "grid_area": "widget022",
       "grid_auto_columns": null,
       "grid_auto_flow": null,
       "grid_auto_rows": null,
       "grid_column": null,
       "grid_gap": null,
       "grid_row": null,
       "grid_template_areas": null,
       "grid_template_columns": null,
       "grid_template_rows": null,
       "height": null,
       "justify_content": null,
       "justify_items": null,
       "left": null,
       "margin": null,
       "max_height": null,
       "max_width": null,
       "min_height": null,
       "min_width": null,
       "object_fit": null,
       "object_position": null,
       "order": null,
       "overflow": null,
       "overflow_x": null,
       "overflow_y": null,
       "padding": null,
       "right": null,
       "top": null,
       "visibility": null,
       "width": null
      }
     },
     "9b744d1981b64a4fb7a70f5a10bb86e9": {
      "model_module": "@jupyter-widgets/controls",
      "model_module_version": "1.5.0",
      "model_name": "DescriptionStyleModel",
      "state": {
       "_model_module": "@jupyter-widgets/controls",
       "_model_module_version": "1.5.0",
       "_model_name": "DescriptionStyleModel",
       "_view_count": null,
       "_view_module": "@jupyter-widgets/base",
       "_view_module_version": "1.2.0",
       "_view_name": "StyleView",
       "description_width": ""
      }
     },
     "9ba6b4c8109b44d39de687bcef4c135a": {
      "model_module": "@jupyter-widgets/controls",
      "model_module_version": "1.5.0",
      "model_name": "HTMLModel",
      "state": {
       "_dom_classes": [],
       "_model_module": "@jupyter-widgets/controls",
       "_model_module_version": "1.5.0",
       "_model_name": "HTMLModel",
       "_view_count": null,
       "_view_module": "@jupyter-widgets/controls",
       "_view_module_version": "1.5.0",
       "_view_name": "HTMLView",
       "description": "",
       "description_tooltip": null,
       "layout": "IPY_MODEL_be5d11cac0024defb83a270fc3974d20",
       "placeholder": "​",
       "style": "IPY_MODEL_6acd28eafe1a4a31afcb2d71ef0fda21",
       "value": "<p style=\"margin-bottom:-10px;color:black\">100%</p><p style=\"margin-bottom:-10px;color:black\">0.0060</p>"
      }
     },
     "9c7604bde7cb409d937f0fd22ce52d73": {
      "model_module": "@jupyter-widgets/controls",
      "model_module_version": "1.5.0",
      "model_name": "DescriptionStyleModel",
      "state": {
       "_model_module": "@jupyter-widgets/controls",
       "_model_module_version": "1.5.0",
       "_model_name": "DescriptionStyleModel",
       "_view_count": null,
       "_view_module": "@jupyter-widgets/base",
       "_view_module_version": "1.2.0",
       "_view_name": "StyleView",
       "description_width": ""
      }
     },
     "9ccbfed061da474dbd3c126397fbc46d": {
      "model_module": "@jupyter-widgets/controls",
      "model_module_version": "1.5.0",
      "model_name": "DropdownModel",
      "state": {
       "_dom_classes": [],
       "_model_module": "@jupyter-widgets/controls",
       "_model_module_version": "1.5.0",
       "_model_name": "DropdownModel",
       "_options_labels": [
        "x0",
        "cos_monthly",
        "cos_hourly",
        "temperature_f",
        "wind_speed_mph",
        "wind_bearing_deg",
        "relative_humidity",
        "visibility_miles_max_10",
        "pressure_mb",
        "Value"
       ],
       "_view_count": null,
       "_view_module": "@jupyter-widgets/controls",
       "_view_module_version": "1.5.0",
       "_view_name": "DropdownView",
       "description": "y:",
       "description_tooltip": null,
       "disabled": false,
       "index": 1,
       "layout": "IPY_MODEL_7adc8fcd718f49f59a0c620ad034e15b",
       "style": "IPY_MODEL_563bc1b0a78f4583a40b24700ed1dc63"
      }
     },
     "9ebf788a791a4dba9f0b54690ee836d8": {
      "model_module": "@jupyter-widgets/base",
      "model_module_version": "1.2.0",
      "model_name": "LayoutModel",
      "state": {
       "_model_module": "@jupyter-widgets/base",
       "_model_module_version": "1.2.0",
       "_model_name": "LayoutModel",
       "_view_count": null,
       "_view_module": "@jupyter-widgets/base",
       "_view_module_version": "1.2.0",
       "_view_name": "LayoutView",
       "align_content": null,
       "align_items": null,
       "align_self": null,
       "border": null,
       "bottom": null,
       "display": null,
       "flex": null,
       "flex_flow": null,
       "grid_area": "widget007",
       "grid_auto_columns": null,
       "grid_auto_flow": null,
       "grid_auto_rows": null,
       "grid_column": null,
       "grid_gap": null,
       "grid_row": null,
       "grid_template_areas": null,
       "grid_template_columns": null,
       "grid_template_rows": null,
       "height": null,
       "justify_content": null,
       "justify_items": null,
       "left": null,
       "margin": null,
       "max_height": null,
       "max_width": null,
       "min_height": null,
       "min_width": null,
       "object_fit": null,
       "object_position": null,
       "order": null,
       "overflow": null,
       "overflow_x": null,
       "overflow_y": null,
       "padding": null,
       "right": null,
       "top": null,
       "visibility": null,
       "width": null
      }
     },
     "9ff63b474c164680905cf5b1311e9a41": {
      "model_module": "@jupyter-widgets/controls",
      "model_module_version": "1.5.0",
      "model_name": "DescriptionStyleModel",
      "state": {
       "_model_module": "@jupyter-widgets/controls",
       "_model_module_version": "1.5.0",
       "_model_name": "DescriptionStyleModel",
       "_view_count": null,
       "_view_module": "@jupyter-widgets/base",
       "_view_module_version": "1.2.0",
       "_view_name": "StyleView",
       "description_width": ""
      }
     },
     "a0032b5edab14f32b808ce670d0f0a98": {
      "model_module": "@jupyter-widgets/base",
      "model_module_version": "1.2.0",
      "model_name": "LayoutModel",
      "state": {
       "_model_module": "@jupyter-widgets/base",
       "_model_module_version": "1.2.0",
       "_model_name": "LayoutModel",
       "_view_count": null,
       "_view_module": "@jupyter-widgets/base",
       "_view_module_version": "1.2.0",
       "_view_name": "LayoutView",
       "align_content": null,
       "align_items": null,
       "align_self": null,
       "border": null,
       "bottom": null,
       "display": null,
       "flex": null,
       "flex_flow": null,
       "grid_area": null,
       "grid_auto_columns": null,
       "grid_auto_flow": null,
       "grid_auto_rows": null,
       "grid_column": null,
       "grid_gap": null,
       "grid_row": null,
       "grid_template_areas": null,
       "grid_template_columns": null,
       "grid_template_rows": null,
       "height": null,
       "justify_content": null,
       "justify_items": null,
       "left": null,
       "margin": null,
       "max_height": null,
       "max_width": null,
       "min_height": null,
       "min_width": null,
       "object_fit": null,
       "object_position": null,
       "order": null,
       "overflow": null,
       "overflow_x": null,
       "overflow_y": null,
       "padding": null,
       "right": null,
       "top": null,
       "visibility": null,
       "width": null
      }
     },
     "a03098f5804b4f898909d252b3c9c243": {
      "model_module": "@jupyter-widgets/controls",
      "model_module_version": "1.5.0",
      "model_name": "DescriptionStyleModel",
      "state": {
       "_model_module": "@jupyter-widgets/controls",
       "_model_module_version": "1.5.0",
       "_model_name": "DescriptionStyleModel",
       "_view_count": null,
       "_view_module": "@jupyter-widgets/base",
       "_view_module_version": "1.2.0",
       "_view_name": "StyleView",
       "description_width": "20px"
      }
     },
     "a28fc31eb2fe4ff3ac7b1976a3db9f6e": {
      "model_module": "@jupyter-widgets/base",
      "model_module_version": "1.2.0",
      "model_name": "LayoutModel",
      "state": {
       "_model_module": "@jupyter-widgets/base",
       "_model_module_version": "1.2.0",
       "_model_name": "LayoutModel",
       "_view_count": null,
       "_view_module": "@jupyter-widgets/base",
       "_view_module_version": "1.2.0",
       "_view_name": "LayoutView",
       "align_content": null,
       "align_items": null,
       "align_self": null,
       "border": null,
       "bottom": null,
       "display": null,
       "flex": null,
       "flex_flow": null,
       "grid_area": "widget011",
       "grid_auto_columns": null,
       "grid_auto_flow": null,
       "grid_auto_rows": null,
       "grid_column": null,
       "grid_gap": null,
       "grid_row": null,
       "grid_template_areas": null,
       "grid_template_columns": null,
       "grid_template_rows": null,
       "height": null,
       "justify_content": null,
       "justify_items": null,
       "left": null,
       "margin": null,
       "max_height": null,
       "max_width": null,
       "min_height": null,
       "min_width": null,
       "object_fit": null,
       "object_position": null,
       "order": null,
       "overflow": null,
       "overflow_x": null,
       "overflow_y": null,
       "padding": null,
       "right": null,
       "top": null,
       "visibility": null,
       "width": null
      }
     },
     "a47cb013e93244dcbdcbeedff68c19d3": {
      "model_module": "@jupyter-widgets/base",
      "model_module_version": "1.2.0",
      "model_name": "LayoutModel",
      "state": {
       "_model_module": "@jupyter-widgets/base",
       "_model_module_version": "1.2.0",
       "_model_name": "LayoutModel",
       "_view_count": null,
       "_view_module": "@jupyter-widgets/base",
       "_view_module_version": "1.2.0",
       "_view_name": "LayoutView",
       "align_content": null,
       "align_items": null,
       "align_self": null,
       "border": null,
       "bottom": null,
       "display": null,
       "flex": null,
       "flex_flow": null,
       "grid_area": "widget043",
       "grid_auto_columns": null,
       "grid_auto_flow": null,
       "grid_auto_rows": null,
       "grid_column": null,
       "grid_gap": null,
       "grid_row": null,
       "grid_template_areas": null,
       "grid_template_columns": null,
       "grid_template_rows": null,
       "height": null,
       "justify_content": null,
       "justify_items": null,
       "left": null,
       "margin": null,
       "max_height": null,
       "max_width": null,
       "min_height": null,
       "min_width": null,
       "object_fit": null,
       "object_position": null,
       "order": null,
       "overflow": null,
       "overflow_x": null,
       "overflow_y": null,
       "padding": null,
       "right": null,
       "top": null,
       "visibility": null,
       "width": null
      }
     },
     "a55b1bb4286f4da6a83bf00e0de7e6df": {
      "model_module": "@jupyter-widgets/controls",
      "model_module_version": "1.5.0",
      "model_name": "DescriptionStyleModel",
      "state": {
       "_model_module": "@jupyter-widgets/controls",
       "_model_module_version": "1.5.0",
       "_model_name": "DescriptionStyleModel",
       "_view_count": null,
       "_view_module": "@jupyter-widgets/base",
       "_view_module_version": "1.2.0",
       "_view_name": "StyleView",
       "description_width": ""
      }
     },
     "a6cbce61ea1446f7a72816bf739fa91d": {
      "model_module": "@jupyter-widgets/controls",
      "model_module_version": "1.5.0",
      "model_name": "HTMLModel",
      "state": {
       "_dom_classes": [],
       "_model_module": "@jupyter-widgets/controls",
       "_model_module_version": "1.5.0",
       "_model_name": "HTMLModel",
       "_view_count": null,
       "_view_module": "@jupyter-widgets/controls",
       "_view_module_version": "1.5.0",
       "_view_name": "HTMLView",
       "description": "",
       "description_tooltip": null,
       "layout": "IPY_MODEL_8f4e7c910374470ab17741429bea4e8e",
       "placeholder": "​",
       "style": "IPY_MODEL_6ae462fb46734dacb0533ea34f4b292f",
       "value": "<b>pressure_mb</b>"
      }
     },
     "aa507e4411fc4ec79cdc8a15d7329488": {
      "model_module": "@jupyter-widgets/base",
      "model_module_version": "1.2.0",
      "model_name": "LayoutModel",
      "state": {
       "_model_module": "@jupyter-widgets/base",
       "_model_module_version": "1.2.0",
       "_model_name": "LayoutModel",
       "_view_count": null,
       "_view_module": "@jupyter-widgets/base",
       "_view_module_version": "1.2.0",
       "_view_name": "LayoutView",
       "align_content": null,
       "align_items": null,
       "align_self": null,
       "border": null,
       "bottom": null,
       "display": null,
       "flex": null,
       "flex_flow": null,
       "grid_area": null,
       "grid_auto_columns": null,
       "grid_auto_flow": null,
       "grid_auto_rows": null,
       "grid_column": null,
       "grid_gap": null,
       "grid_row": null,
       "grid_template_areas": null,
       "grid_template_columns": null,
       "grid_template_rows": null,
       "height": null,
       "justify_content": null,
       "justify_items": null,
       "left": null,
       "margin": null,
       "max_height": null,
       "max_width": null,
       "min_height": null,
       "min_width": null,
       "object_fit": null,
       "object_position": null,
       "order": null,
       "overflow": null,
       "overflow_x": null,
       "overflow_y": null,
       "padding": null,
       "right": null,
       "top": null,
       "visibility": null,
       "width": null
      }
     },
     "ab1764eb240b413abf8fe0574cc3db33": {
      "model_module": "@jupyter-widgets/base",
      "model_module_version": "1.2.0",
      "model_name": "LayoutModel",
      "state": {
       "_model_module": "@jupyter-widgets/base",
       "_model_module_version": "1.2.0",
       "_model_name": "LayoutModel",
       "_view_count": null,
       "_view_module": "@jupyter-widgets/base",
       "_view_module_version": "1.2.0",
       "_view_name": "LayoutView",
       "align_content": null,
       "align_items": null,
       "align_self": null,
       "border": null,
       "bottom": null,
       "display": null,
       "flex": null,
       "flex_flow": null,
       "grid_area": "widget042",
       "grid_auto_columns": null,
       "grid_auto_flow": null,
       "grid_auto_rows": null,
       "grid_column": null,
       "grid_gap": null,
       "grid_row": null,
       "grid_template_areas": null,
       "grid_template_columns": null,
       "grid_template_rows": null,
       "height": null,
       "justify_content": null,
       "justify_items": null,
       "left": null,
       "margin": null,
       "max_height": null,
       "max_width": null,
       "min_height": null,
       "min_width": null,
       "object_fit": null,
       "object_position": null,
       "order": null,
       "overflow": null,
       "overflow_x": null,
       "overflow_y": null,
       "padding": null,
       "right": null,
       "top": null,
       "visibility": null,
       "width": null
      }
     },
     "ada7f07b823e4920a56131b99a21d1eb": {
      "model_module": "@jupyter-widgets/controls",
      "model_module_version": "1.5.0",
      "model_name": "HTMLModel",
      "state": {
       "_dom_classes": [],
       "_model_module": "@jupyter-widgets/controls",
       "_model_module_version": "1.5.0",
       "_model_name": "HTMLModel",
       "_view_count": null,
       "_view_module": "@jupyter-widgets/controls",
       "_view_module_version": "1.5.0",
       "_view_name": "HTMLView",
       "description": "",
       "description_tooltip": null,
       "layout": "IPY_MODEL_f89007f583104f54b2ee918a7e21e193",
       "placeholder": "​",
       "style": "IPY_MODEL_1e1b3c442e6b4b85a44c1343d3776359",
       "value": "<p style=\"margin-bottom:-10px;color:black\">100%</p><p style=\"margin-bottom:-10px;color:black\">2675.0000</p>"
      }
     },
     "ae2e203f4748486090c960d3e1d860f8": {
      "model_module": "@jupyter-widgets/controls",
      "model_module_version": "1.5.0",
      "model_name": "DescriptionStyleModel",
      "state": {
       "_model_module": "@jupyter-widgets/controls",
       "_model_module_version": "1.5.0",
       "_model_name": "DescriptionStyleModel",
       "_view_count": null,
       "_view_module": "@jupyter-widgets/base",
       "_view_module_version": "1.2.0",
       "_view_name": "StyleView",
       "description_width": ""
      }
     },
     "ae3707dd1a3045e0ade75c83166e086c": {
      "model_module": "@jupyter-widgets/controls",
      "model_module_version": "1.5.0",
      "model_name": "HTMLModel",
      "state": {
       "_dom_classes": [],
       "_model_module": "@jupyter-widgets/controls",
       "_model_module_version": "1.5.0",
       "_model_name": "HTMLModel",
       "_view_count": null,
       "_view_module": "@jupyter-widgets/controls",
       "_view_module_version": "1.5.0",
       "_view_name": "HTMLView",
       "description": "",
       "description_tooltip": null,
       "layout": "IPY_MODEL_72894ea7dae94b84b9d4b8620859fe17",
       "placeholder": "​",
       "style": "IPY_MODEL_48ccf3d2a3de47459d9f5eca1397b26b",
       "value": "<svg xmlns=\"http://www.w3.org/2000/svg\" width=\"12\" height=\"12\" viewBox=\"0 0 24 24\" fill=\"red\"><path d=\"M12 21l-12-18h24z\"/></svg>"
      }
     },
     "afab934ebcf4497c93c434c81ad2e1d7": {
      "model_module": "@jupyter-widgets/base",
      "model_module_version": "1.2.0",
      "model_name": "LayoutModel",
      "state": {
       "_model_module": "@jupyter-widgets/base",
       "_model_module_version": "1.2.0",
       "_model_name": "LayoutModel",
       "_view_count": null,
       "_view_module": "@jupyter-widgets/base",
       "_view_module_version": "1.2.0",
       "_view_name": "LayoutView",
       "align_content": null,
       "align_items": null,
       "align_self": null,
       "border": null,
       "bottom": null,
       "display": null,
       "flex": null,
       "flex_flow": null,
       "grid_area": "widget027",
       "grid_auto_columns": null,
       "grid_auto_flow": null,
       "grid_auto_rows": null,
       "grid_column": null,
       "grid_gap": null,
       "grid_row": null,
       "grid_template_areas": null,
       "grid_template_columns": null,
       "grid_template_rows": null,
       "height": null,
       "justify_content": null,
       "justify_items": null,
       "left": null,
       "margin": null,
       "max_height": null,
       "max_width": null,
       "min_height": null,
       "min_width": null,
       "object_fit": null,
       "object_position": null,
       "order": null,
       "overflow": null,
       "overflow_x": null,
       "overflow_y": null,
       "padding": null,
       "right": null,
       "top": null,
       "visibility": null,
       "width": null
      }
     },
     "affd927ce18e4ba4a978b5f4fec2500a": {
      "model_module": "@jupyter-widgets/controls",
      "model_module_version": "1.5.0",
      "model_name": "HTMLModel",
      "state": {
       "_dom_classes": [],
       "_model_module": "@jupyter-widgets/controls",
       "_model_module_version": "1.5.0",
       "_model_name": "HTMLModel",
       "_view_count": null,
       "_view_module": "@jupyter-widgets/controls",
       "_view_module_version": "1.5.0",
       "_view_name": "HTMLView",
       "description": "",
       "description_tooltip": null,
       "layout": "IPY_MODEL_1566aa1e6fee472eaad5720d59abe141",
       "placeholder": "​",
       "style": "IPY_MODEL_4754ced30ab74370bdb841d76811ca80",
       "value": "<svg xmlns=\"http://www.w3.org/2000/svg\" width=\"12\" height=\"12\" viewBox=\"0 0 24 24\" fill=\"red\"><path d=\"M12 21l-12-18h24z\"/></svg>"
      }
     },
     "b12d18780b36468cafa29a676629c5f4": {
      "model_module": "@jupyter-widgets/controls",
      "model_module_version": "1.5.0",
      "model_name": "HTMLModel",
      "state": {
       "_dom_classes": [],
       "_model_module": "@jupyter-widgets/controls",
       "_model_module_version": "1.5.0",
       "_model_name": "HTMLModel",
       "_view_count": null,
       "_view_module": "@jupyter-widgets/controls",
       "_view_module_version": "1.5.0",
       "_view_name": "HTMLView",
       "description": "",
       "description_tooltip": null,
       "layout": "IPY_MODEL_a47cb013e93244dcbdcbeedff68c19d3",
       "placeholder": "​",
       "style": "IPY_MODEL_7e29c1fbab7f486fb527c9c5c153fc5a",
       "value": "<p style=\"margin-bottom:-10px;color:black\">100%</p><p style=\"margin-bottom:-10px;color:black\">-0.0000</p>"
      }
     },
     "b3adcdaba3164087afa6f0855eada69c": {
      "model_module": "@jupyter-widgets/base",
      "model_module_version": "1.2.0",
      "model_name": "LayoutModel",
      "state": {
       "_model_module": "@jupyter-widgets/base",
       "_model_module_version": "1.2.0",
       "_model_name": "LayoutModel",
       "_view_count": null,
       "_view_module": "@jupyter-widgets/base",
       "_view_module_version": "1.2.0",
       "_view_name": "LayoutView",
       "align_content": null,
       "align_items": null,
       "align_self": null,
       "border": null,
       "bottom": null,
       "display": null,
       "flex": null,
       "flex_flow": null,
       "grid_area": "widget006",
       "grid_auto_columns": null,
       "grid_auto_flow": null,
       "grid_auto_rows": null,
       "grid_column": null,
       "grid_gap": null,
       "grid_row": null,
       "grid_template_areas": null,
       "grid_template_columns": null,
       "grid_template_rows": null,
       "height": null,
       "justify_content": null,
       "justify_items": null,
       "left": null,
       "margin": null,
       "max_height": null,
       "max_width": null,
       "min_height": null,
       "min_width": null,
       "object_fit": null,
       "object_position": null,
       "order": null,
       "overflow": null,
       "overflow_x": null,
       "overflow_y": null,
       "padding": null,
       "right": null,
       "top": null,
       "visibility": null,
       "width": null
      }
     },
     "b5cd448526254dc9a21bbe98f4305321": {
      "model_module": "@jupyter-widgets/controls",
      "model_module_version": "1.5.0",
      "model_name": "HBoxModel",
      "state": {
       "_dom_classes": [],
       "_model_module": "@jupyter-widgets/controls",
       "_model_module_version": "1.5.0",
       "_model_name": "HBoxModel",
       "_view_count": null,
       "_view_module": "@jupyter-widgets/controls",
       "_view_module_version": "1.5.0",
       "_view_name": "HBoxView",
       "box_style": "",
       "children": [
        "IPY_MODEL_3d283ce40bb048388da8e90a3a032592",
        "IPY_MODEL_39a8a53ad96e4ce49a427bf3f433e70f"
       ],
       "layout": "IPY_MODEL_a0032b5edab14f32b808ce670d0f0a98"
      }
     },
     "b5eff71cf9e34a8eaaaf94fba1d70454": {
      "model_module": "@jupyter-widgets/base",
      "model_module_version": "1.2.0",
      "model_name": "LayoutModel",
      "state": {
       "_model_module": "@jupyter-widgets/base",
       "_model_module_version": "1.2.0",
       "_model_name": "LayoutModel",
       "_view_count": null,
       "_view_module": "@jupyter-widgets/base",
       "_view_module_version": "1.2.0",
       "_view_name": "LayoutView",
       "align_content": null,
       "align_items": null,
       "align_self": null,
       "border": null,
       "bottom": null,
       "display": null,
       "flex": null,
       "flex_flow": null,
       "grid_area": "widget030",
       "grid_auto_columns": null,
       "grid_auto_flow": null,
       "grid_auto_rows": null,
       "grid_column": null,
       "grid_gap": null,
       "grid_row": null,
       "grid_template_areas": null,
       "grid_template_columns": null,
       "grid_template_rows": null,
       "height": null,
       "justify_content": null,
       "justify_items": null,
       "left": null,
       "margin": null,
       "max_height": null,
       "max_width": null,
       "min_height": null,
       "min_width": null,
       "object_fit": null,
       "object_position": null,
       "order": null,
       "overflow": null,
       "overflow_x": null,
       "overflow_y": null,
       "padding": null,
       "right": null,
       "top": null,
       "visibility": null,
       "width": null
      }
     },
     "b9f218c15fa740f8ac5b33b97260203b": {
      "model_module": "@jupyter-widgets/controls",
      "model_module_version": "1.5.0",
      "model_name": "HTMLModel",
      "state": {
       "_dom_classes": [],
       "_model_module": "@jupyter-widgets/controls",
       "_model_module_version": "1.5.0",
       "_model_name": "HTMLModel",
       "_view_count": null,
       "_view_module": "@jupyter-widgets/controls",
       "_view_module_version": "1.5.0",
       "_view_name": "HTMLView",
       "description": "",
       "description_tooltip": null,
       "layout": "IPY_MODEL_e6b37274991249909470d21333056fb6",
       "placeholder": "​",
       "style": "IPY_MODEL_2a4764e393a446f4ba7dc20079799f87",
       "value": "<p style=\"margin-bottom:-10px;color:black\">100%</p><p style=\"margin-bottom:-10px;color:black\">-0.0110</p>"
      }
     },
     "ba587bbbd14649ffbd41bc77bb43372a": {
      "model_module": "@jupyter-widgets/base",
      "model_module_version": "1.2.0",
      "model_name": "LayoutModel",
      "state": {
       "_model_module": "@jupyter-widgets/base",
       "_model_module_version": "1.2.0",
       "_model_name": "LayoutModel",
       "_view_count": null,
       "_view_module": "@jupyter-widgets/base",
       "_view_module_version": "1.2.0",
       "_view_name": "LayoutView",
       "align_content": null,
       "align_items": null,
       "align_self": null,
       "border": null,
       "bottom": null,
       "display": null,
       "flex": null,
       "flex_flow": null,
       "grid_area": "widget023",
       "grid_auto_columns": null,
       "grid_auto_flow": null,
       "grid_auto_rows": null,
       "grid_column": null,
       "grid_gap": null,
       "grid_row": null,
       "grid_template_areas": null,
       "grid_template_columns": null,
       "grid_template_rows": null,
       "height": null,
       "justify_content": null,
       "justify_items": null,
       "left": null,
       "margin": null,
       "max_height": null,
       "max_width": null,
       "min_height": null,
       "min_width": null,
       "object_fit": null,
       "object_position": null,
       "order": null,
       "overflow": null,
       "overflow_x": null,
       "overflow_y": null,
       "padding": null,
       "right": null,
       "top": null,
       "visibility": null,
       "width": null
      }
     },
     "bb0e6ba9a657435290f70b2ec8f8fae1": {
      "model_module": "@jupyter-widgets/base",
      "model_module_version": "1.2.0",
      "model_name": "LayoutModel",
      "state": {
       "_model_module": "@jupyter-widgets/base",
       "_model_module_version": "1.2.0",
       "_model_name": "LayoutModel",
       "_view_count": null,
       "_view_module": "@jupyter-widgets/base",
       "_view_module_version": "1.2.0",
       "_view_name": "LayoutView",
       "align_content": null,
       "align_items": null,
       "align_self": null,
       "border": null,
       "bottom": null,
       "display": null,
       "flex": null,
       "flex_flow": null,
       "grid_area": null,
       "grid_auto_columns": null,
       "grid_auto_flow": null,
       "grid_auto_rows": null,
       "grid_column": null,
       "grid_gap": null,
       "grid_row": null,
       "grid_template_areas": null,
       "grid_template_columns": null,
       "grid_template_rows": null,
       "height": null,
       "justify_content": null,
       "justify_items": null,
       "left": null,
       "margin": null,
       "max_height": null,
       "max_width": "100%",
       "min_height": null,
       "min_width": null,
       "object_fit": null,
       "object_position": null,
       "order": null,
       "overflow": null,
       "overflow_x": null,
       "overflow_y": null,
       "padding": null,
       "right": null,
       "top": null,
       "visibility": null,
       "width": null
      }
     },
     "bbf80760a9e34640b0be47336778e9fa": {
      "model_module": "@jupyter-widgets/controls",
      "model_module_version": "1.5.0",
      "model_name": "HTMLModel",
      "state": {
       "_dom_classes": [],
       "_model_module": "@jupyter-widgets/controls",
       "_model_module_version": "1.5.0",
       "_model_name": "HTMLModel",
       "_view_count": null,
       "_view_module": "@jupyter-widgets/controls",
       "_view_module_version": "1.5.0",
       "_view_name": "HTMLView",
       "description": "",
       "description_tooltip": null,
       "layout": "IPY_MODEL_cdedff7e7c4b4b23998c6053de805380",
       "placeholder": "​",
       "style": "IPY_MODEL_e2a84eb3ba6a4756b34c29f3094f9aa8",
       "value": "<p style=\"margin-bottom:-10px;color:black\">100%</p><p style=\"margin-bottom:-10px;color:black\">0.0060</p>"
      }
     },
     "bd0fb2685acc4d64a21e7c752083d816": {
      "model_module": "@jupyter-widgets/controls",
      "model_module_version": "1.5.0",
      "model_name": "DescriptionStyleModel",
      "state": {
       "_model_module": "@jupyter-widgets/controls",
       "_model_module_version": "1.5.0",
       "_model_name": "DescriptionStyleModel",
       "_view_count": null,
       "_view_module": "@jupyter-widgets/base",
       "_view_module_version": "1.2.0",
       "_view_name": "StyleView",
       "description_width": ""
      }
     },
     "be01722b41304c81977c3ee477555a2f": {
      "model_module": "@jupyter-widgets/base",
      "model_module_version": "1.2.0",
      "model_name": "LayoutModel",
      "state": {
       "_model_module": "@jupyter-widgets/base",
       "_model_module_version": "1.2.0",
       "_model_name": "LayoutModel",
       "_view_count": null,
       "_view_module": "@jupyter-widgets/base",
       "_view_module_version": "1.2.0",
       "_view_name": "LayoutView",
       "align_content": null,
       "align_items": null,
       "align_self": null,
       "border": null,
       "bottom": null,
       "display": null,
       "flex": null,
       "flex_flow": null,
       "grid_area": null,
       "grid_auto_columns": null,
       "grid_auto_flow": null,
       "grid_auto_rows": null,
       "grid_column": null,
       "grid_gap": null,
       "grid_row": null,
       "grid_template_areas": null,
       "grid_template_columns": null,
       "grid_template_rows": null,
       "height": null,
       "justify_content": null,
       "justify_items": null,
       "left": null,
       "margin": null,
       "max_height": null,
       "max_width": null,
       "min_height": null,
       "min_width": null,
       "object_fit": null,
       "object_position": null,
       "order": null,
       "overflow": null,
       "overflow_x": null,
       "overflow_y": null,
       "padding": null,
       "right": null,
       "top": null,
       "visibility": null,
       "width": null
      }
     },
     "be5d11cac0024defb83a270fc3974d20": {
      "model_module": "@jupyter-widgets/base",
      "model_module_version": "1.2.0",
      "model_name": "LayoutModel",
      "state": {
       "_model_module": "@jupyter-widgets/base",
       "_model_module_version": "1.2.0",
       "_model_name": "LayoutModel",
       "_view_count": null,
       "_view_module": "@jupyter-widgets/base",
       "_view_module_version": "1.2.0",
       "_view_name": "LayoutView",
       "align_content": null,
       "align_items": null,
       "align_self": null,
       "border": null,
       "bottom": null,
       "display": null,
       "flex": null,
       "flex_flow": null,
       "grid_area": "widget015",
       "grid_auto_columns": null,
       "grid_auto_flow": null,
       "grid_auto_rows": null,
       "grid_column": null,
       "grid_gap": null,
       "grid_row": null,
       "grid_template_areas": null,
       "grid_template_columns": null,
       "grid_template_rows": null,
       "height": null,
       "justify_content": null,
       "justify_items": null,
       "left": null,
       "margin": null,
       "max_height": null,
       "max_width": null,
       "min_height": null,
       "min_width": null,
       "object_fit": null,
       "object_position": null,
       "order": null,
       "overflow": null,
       "overflow_x": null,
       "overflow_y": null,
       "padding": null,
       "right": null,
       "top": null,
       "visibility": null,
       "width": null
      }
     },
     "c0d08436d9f84d74a1fceafc2cfad956": {
      "model_module": "@jupyter-widgets/controls",
      "model_module_version": "1.5.0",
      "model_name": "DescriptionStyleModel",
      "state": {
       "_model_module": "@jupyter-widgets/controls",
       "_model_module_version": "1.5.0",
       "_model_name": "DescriptionStyleModel",
       "_view_count": null,
       "_view_module": "@jupyter-widgets/base",
       "_view_module_version": "1.2.0",
       "_view_name": "StyleView",
       "description_width": ""
      }
     },
     "c3bdee121d214a0d89e0c9c48a44e319": {
      "model_module": "@jupyter-widgets/base",
      "model_module_version": "1.2.0",
      "model_name": "LayoutModel",
      "state": {
       "_model_module": "@jupyter-widgets/base",
       "_model_module_version": "1.2.0",
       "_model_name": "LayoutModel",
       "_view_count": null,
       "_view_module": "@jupyter-widgets/base",
       "_view_module_version": "1.2.0",
       "_view_name": "LayoutView",
       "align_content": null,
       "align_items": null,
       "align_self": null,
       "border": null,
       "bottom": null,
       "display": null,
       "flex": null,
       "flex_flow": null,
       "grid_area": null,
       "grid_auto_columns": null,
       "grid_auto_flow": null,
       "grid_auto_rows": null,
       "grid_column": null,
       "grid_gap": null,
       "grid_row": null,
       "grid_template_areas": null,
       "grid_template_columns": null,
       "grid_template_rows": null,
       "height": null,
       "justify_content": null,
       "justify_items": null,
       "left": null,
       "margin": null,
       "max_height": null,
       "max_width": null,
       "min_height": null,
       "min_width": null,
       "object_fit": null,
       "object_position": null,
       "order": null,
       "overflow": null,
       "overflow_x": null,
       "overflow_y": null,
       "padding": null,
       "right": null,
       "top": null,
       "visibility": null,
       "width": null
      }
     },
     "c3dc92a183e34604809b74867c34b488": {
      "model_module": "@jupyter-widgets/controls",
      "model_module_version": "1.5.0",
      "model_name": "ToggleButtonsModel",
      "state": {
       "_dom_classes": [
        "layout-32add517c25341978b5fd2763e48c01d"
       ],
       "_model_module": "@jupyter-widgets/controls",
       "_model_module_version": "1.5.0",
       "_model_name": "ToggleButtonsModel",
       "_options_labels": [
        "Standard",
        "Additive",
        "Subtractive"
       ],
       "_view_count": null,
       "_view_module": "@jupyter-widgets/controls",
       "_view_module_version": "1.5.0",
       "_view_name": "ToggleButtonsView",
       "button_style": "",
       "description": "Selection Type:",
       "description_tooltip": null,
       "disabled": false,
       "icons": [],
       "index": 0,
       "layout": "IPY_MODEL_c48381bfd3d648caaccedb157ada1a71",
       "style": "IPY_MODEL_febbcce82dbe4490adf8919fe8367083",
       "tooltips": [
        "Replaces selection",
        "Adds selected points to selection",
        "Removes selected points from selection"
       ]
      }
     },
     "c40e6544d449427aa7dc3782a0980d60": {
      "model_module": "@jupyter-widgets/controls",
      "model_module_version": "1.5.0",
      "model_name": "DropdownModel",
      "state": {
       "_dom_classes": [],
       "_model_module": "@jupyter-widgets/controls",
       "_model_module_version": "1.5.0",
       "_model_name": "DropdownModel",
       "_options_labels": [
        "x0",
        "cos_monthly",
        "cos_hourly",
        "temperature_f",
        "wind_speed_mph",
        "wind_bearing_deg",
        "relative_humidity",
        "visibility_miles_max_10",
        "pressure_mb",
        "Value"
       ],
       "_view_count": null,
       "_view_module": "@jupyter-widgets/controls",
       "_view_module_version": "1.5.0",
       "_view_name": "DropdownView",
       "description": "x:",
       "description_tooltip": null,
       "disabled": false,
       "index": 0,
       "layout": "IPY_MODEL_c3bdee121d214a0d89e0c9c48a44e319",
       "style": "IPY_MODEL_feb37bded8624b90965232bedcaed6ac"
      }
     },
     "c48381bfd3d648caaccedb157ada1a71": {
      "model_module": "@jupyter-widgets/base",
      "model_module_version": "1.2.0",
      "model_name": "LayoutModel",
      "state": {
       "_model_module": "@jupyter-widgets/base",
       "_model_module_version": "1.2.0",
       "_model_name": "LayoutModel",
       "_view_count": null,
       "_view_module": "@jupyter-widgets/base",
       "_view_module_version": "1.2.0",
       "_view_name": "LayoutView",
       "align_content": null,
       "align_items": null,
       "align_self": null,
       "border": null,
       "bottom": null,
       "display": null,
       "flex": null,
       "flex_flow": null,
       "grid_area": null,
       "grid_auto_columns": null,
       "grid_auto_flow": null,
       "grid_auto_rows": null,
       "grid_column": null,
       "grid_gap": null,
       "grid_row": null,
       "grid_template_areas": null,
       "grid_template_columns": null,
       "grid_template_rows": null,
       "height": null,
       "justify_content": null,
       "justify_items": null,
       "left": null,
       "margin": null,
       "max_height": null,
       "max_width": null,
       "min_height": null,
       "min_width": null,
       "object_fit": null,
       "object_position": null,
       "order": null,
       "overflow": null,
       "overflow_x": null,
       "overflow_y": null,
       "padding": null,
       "right": null,
       "top": null,
       "visibility": null,
       "width": null
      }
     },
     "c55d93ab0565468d8cc0f4c986fbec94": {
      "model_module": "@jupyter-widgets/base",
      "model_module_version": "1.2.0",
      "model_name": "LayoutModel",
      "state": {
       "_model_module": "@jupyter-widgets/base",
       "_model_module_version": "1.2.0",
       "_model_name": "LayoutModel",
       "_view_count": null,
       "_view_module": "@jupyter-widgets/base",
       "_view_module_version": "1.2.0",
       "_view_name": "LayoutView",
       "align_content": null,
       "align_items": null,
       "align_self": null,
       "border": null,
       "bottom": null,
       "display": null,
       "flex": null,
       "flex_flow": null,
       "grid_area": null,
       "grid_auto_columns": null,
       "grid_auto_flow": null,
       "grid_auto_rows": null,
       "grid_column": null,
       "grid_gap": null,
       "grid_row": null,
       "grid_template_areas": null,
       "grid_template_columns": null,
       "grid_template_rows": null,
       "height": null,
       "justify_content": null,
       "justify_items": null,
       "left": null,
       "margin": null,
       "max_height": null,
       "max_width": null,
       "min_height": null,
       "min_width": null,
       "object_fit": null,
       "object_position": null,
       "order": null,
       "overflow": null,
       "overflow_x": null,
       "overflow_y": null,
       "padding": null,
       "right": null,
       "top": null,
       "visibility": null,
       "width": null
      }
     },
     "c5b9f8d56ac14ffea8ca13af16058c7a": {
      "model_module": "@jupyter-widgets/controls",
      "model_module_version": "1.5.0",
      "model_name": "HTMLModel",
      "state": {
       "_dom_classes": [],
       "_model_module": "@jupyter-widgets/controls",
       "_model_module_version": "1.5.0",
       "_model_name": "HTMLModel",
       "_view_count": null,
       "_view_module": "@jupyter-widgets/controls",
       "_view_module_version": "1.5.0",
       "_view_name": "HTMLView",
       "description": "",
       "description_tooltip": null,
       "layout": "IPY_MODEL_8a0d99b9b1074c33a4cd118db96ee76d",
       "placeholder": "​",
       "style": "IPY_MODEL_a55b1bb4286f4da6a83bf00e0de7e6df",
       "value": "<b>temperature_f</b>"
      }
     },
     "c6ad275c48924285bf6590eaaac43a5b": {
      "model_module": "@jupyter-widgets/base",
      "model_module_version": "1.2.0",
      "model_name": "LayoutModel",
      "state": {
       "_model_module": "@jupyter-widgets/base",
       "_model_module_version": "1.2.0",
       "_model_name": "LayoutModel",
       "_view_count": null,
       "_view_module": "@jupyter-widgets/base",
       "_view_module_version": "1.2.0",
       "_view_name": "LayoutView",
       "align_content": null,
       "align_items": null,
       "align_self": null,
       "border": null,
       "bottom": null,
       "display": null,
       "flex": null,
       "flex_flow": null,
       "grid_area": null,
       "grid_auto_columns": null,
       "grid_auto_flow": null,
       "grid_auto_rows": null,
       "grid_column": null,
       "grid_gap": null,
       "grid_row": null,
       "grid_template_areas": null,
       "grid_template_columns": null,
       "grid_template_rows": null,
       "height": null,
       "justify_content": null,
       "justify_items": null,
       "left": null,
       "margin": null,
       "max_height": null,
       "max_width": null,
       "min_height": null,
       "min_width": null,
       "object_fit": null,
       "object_position": null,
       "order": null,
       "overflow": null,
       "overflow_x": null,
       "overflow_y": null,
       "padding": null,
       "right": null,
       "top": null,
       "visibility": null,
       "width": null
      }
     },
     "c73cff8942e94cdfa54378b91fa08a04": {
      "buffers": [
       {
        "data": "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",
        "encoding": "base64",
        "path": [
         "_data",
         0,
         "x",
         "buffer"
        ]
       },
       {
        "data": "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",
        "encoding": "base64",
        "path": [
         "_data",
         1,
         "x",
         "buffer"
        ]
       }
      ],
      "model_module": "plotlywidget",
      "model_module_version": "^4.14.3",
      "model_name": "FigureModel",
      "state": {
       "_config": {
        "plotlyServerURL": "https://plot.ly"
       },
       "_data": [
        {
         "bingroup": "1",
         "histnorm": "",
         "hoverinfo": "skip",
         "marker": {
          "color": "rgb(138,140,147)"
         },
         "opacity": 0.75,
         "selected": {
          "marker": {
           "color": "rgb(138,140,147)"
          }
         },
         "type": "histogram",
         "uid": "f5431ebe-f1f5-4b8c-a06f-08b3ae26e96f",
         "unselected": {
          "marker": {
           "opacity": 0.4
          }
         },
         "x": {
          "dtype": "float64",
          "shape": [
           2675
          ]
         }
        },
        {
         "bingroup": "1",
         "histnorm": "",
         "hoverinfo": "skip",
         "marker": {
          "color": "rgb(50,62,236)"
         },
         "opacity": 1.0,
         "selected": {
          "marker": {
           "color": "rgb(50,62,236)"
          }
         },
         "type": "histogram",
         "uid": "c2d50ad3-38f5-469e-82ee-84176c568eb1",
         "unselected": {
          "marker": {
           "opacity": 1.0
          }
         },
         "x": {
          "dtype": "float64",
          "shape": [
           2675
          ]
         }
        }
       ],
       "_dom_classes": [],
       "_js2py_layoutDelta": {},
       "_js2py_pointsCallback": {},
       "_js2py_relayout": {},
       "_js2py_restyle": {},
       "_js2py_traceDeltas": {},
       "_js2py_update": {},
       "_last_layout_edit_id": 0,
       "_last_trace_edit_id": 0,
       "_layout": {
        "barmode": "overlay",
        "dragmode": "select",
        "margin": {
         "b": 5,
         "l": 5,
         "pad": 2,
         "r": 5,
         "t": 5
        },
        "showlegend": false,
        "template": {
         "data": {
          "bar": [
           {
            "error_x": {
             "color": "#2a3f5f"
            },
            "error_y": {
             "color": "#2a3f5f"
            },
            "marker": {
             "line": {
              "color": "white",
              "width": 0.5
             }
            },
            "type": "bar"
           }
          ],
          "barpolar": [
           {
            "marker": {
             "line": {
              "color": "white",
              "width": 0.5
             }
            },
            "type": "barpolar"
           }
          ],
          "carpet": [
           {
            "aaxis": {
             "endlinecolor": "#2a3f5f",
             "gridcolor": "#C8D4E3",
             "linecolor": "#C8D4E3",
             "minorgridcolor": "#C8D4E3",
             "startlinecolor": "#2a3f5f"
            },
            "baxis": {
             "endlinecolor": "#2a3f5f",
             "gridcolor": "#C8D4E3",
             "linecolor": "#C8D4E3",
             "minorgridcolor": "#C8D4E3",
             "startlinecolor": "#2a3f5f"
            },
            "type": "carpet"
           }
          ],
          "choropleth": [
           {
            "colorbar": {
             "outlinewidth": 0,
             "ticks": ""
            },
            "type": "choropleth"
           }
          ],
          "contour": [
           {
            "colorbar": {
             "outlinewidth": 0,
             "ticks": ""
            },
            "colorscale": [
             [
              0.0,
              "#0d0887"
             ],
             [
              0.1111111111111111,
              "#46039f"
             ],
             [
              0.2222222222222222,
              "#7201a8"
             ],
             [
              0.3333333333333333,
              "#9c179e"
             ],
             [
              0.4444444444444444,
              "#bd3786"
             ],
             [
              0.5555555555555556,
              "#d8576b"
             ],
             [
              0.6666666666666666,
              "#ed7953"
             ],
             [
              0.7777777777777778,
              "#fb9f3a"
             ],
             [
              0.8888888888888888,
              "#fdca26"
             ],
             [
              1.0,
              "#f0f921"
             ]
            ],
            "type": "contour"
           }
          ],
          "contourcarpet": [
           {
            "colorbar": {
             "outlinewidth": 0,
             "ticks": ""
            },
            "type": "contourcarpet"
           }
          ],
          "heatmap": [
           {
            "colorbar": {
             "outlinewidth": 0,
             "ticks": ""
            },
            "colorscale": [
             [
              0.0,
              "#0d0887"
             ],
             [
              0.1111111111111111,
              "#46039f"
             ],
             [
              0.2222222222222222,
              "#7201a8"
             ],
             [
              0.3333333333333333,
              "#9c179e"
             ],
             [
              0.4444444444444444,
              "#bd3786"
             ],
             [
              0.5555555555555556,
              "#d8576b"
             ],
             [
              0.6666666666666666,
              "#ed7953"
             ],
             [
              0.7777777777777778,
              "#fb9f3a"
             ],
             [
              0.8888888888888888,
              "#fdca26"
             ],
             [
              1.0,
              "#f0f921"
             ]
            ],
            "type": "heatmap"
           }
          ],
          "heatmapgl": [
           {
            "colorbar": {
             "outlinewidth": 0,
             "ticks": ""
            },
            "colorscale": [
             [
              0.0,
              "#0d0887"
             ],
             [
              0.1111111111111111,
              "#46039f"
             ],
             [
              0.2222222222222222,
              "#7201a8"
             ],
             [
              0.3333333333333333,
              "#9c179e"
             ],
             [
              0.4444444444444444,
              "#bd3786"
             ],
             [
              0.5555555555555556,
              "#d8576b"
             ],
             [
              0.6666666666666666,
              "#ed7953"
             ],
             [
              0.7777777777777778,
              "#fb9f3a"
             ],
             [
              0.8888888888888888,
              "#fdca26"
             ],
             [
              1.0,
              "#f0f921"
             ]
            ],
            "type": "heatmapgl"
           }
          ],
          "histogram": [
           {
            "marker": {
             "colorbar": {
              "outlinewidth": 0,
              "ticks": ""
             }
            },
            "type": "histogram"
           }
          ],
          "histogram2d": [
           {
            "colorbar": {
             "outlinewidth": 0,
             "ticks": ""
            },
            "colorscale": [
             [
              0.0,
              "#0d0887"
             ],
             [
              0.1111111111111111,
              "#46039f"
             ],
             [
              0.2222222222222222,
              "#7201a8"
             ],
             [
              0.3333333333333333,
              "#9c179e"
             ],
             [
              0.4444444444444444,
              "#bd3786"
             ],
             [
              0.5555555555555556,
              "#d8576b"
             ],
             [
              0.6666666666666666,
              "#ed7953"
             ],
             [
              0.7777777777777778,
              "#fb9f3a"
             ],
             [
              0.8888888888888888,
              "#fdca26"
             ],
             [
              1.0,
              "#f0f921"
             ]
            ],
            "type": "histogram2d"
           }
          ],
          "histogram2dcontour": [
           {
            "colorbar": {
             "outlinewidth": 0,
             "ticks": ""
            },
            "colorscale": [
             [
              0.0,
              "#0d0887"
             ],
             [
              0.1111111111111111,
              "#46039f"
             ],
             [
              0.2222222222222222,
              "#7201a8"
             ],
             [
              0.3333333333333333,
              "#9c179e"
             ],
             [
              0.4444444444444444,
              "#bd3786"
             ],
             [
              0.5555555555555556,
              "#d8576b"
             ],
             [
              0.6666666666666666,
              "#ed7953"
             ],
             [
              0.7777777777777778,
              "#fb9f3a"
             ],
             [
              0.8888888888888888,
              "#fdca26"
             ],
             [
              1.0,
              "#f0f921"
             ]
            ],
            "type": "histogram2dcontour"
           }
          ],
          "mesh3d": [
           {
            "colorbar": {
             "outlinewidth": 0,
             "ticks": ""
            },
            "type": "mesh3d"
           }
          ],
          "parcoords": [
           {
            "line": {
             "colorbar": {
              "outlinewidth": 0,
              "ticks": ""
             }
            },
            "type": "parcoords"
           }
          ],
          "pie": [
           {
            "automargin": true,
            "type": "pie"
           }
          ],
          "scatter": [
           {
            "marker": {
             "colorbar": {
              "outlinewidth": 0,
              "ticks": ""
             }
            },
            "type": "scatter"
           }
          ],
          "scatter3d": [
           {
            "line": {
             "colorbar": {
              "outlinewidth": 0,
              "ticks": ""
             }
            },
            "marker": {
             "colorbar": {
              "outlinewidth": 0,
              "ticks": ""
             }
            },
            "type": "scatter3d"
           }
          ],
          "scattercarpet": [
           {
            "marker": {
             "colorbar": {
              "outlinewidth": 0,
              "ticks": ""
             }
            },
            "type": "scattercarpet"
           }
          ],
          "scattergeo": [
           {
            "marker": {
             "colorbar": {
              "outlinewidth": 0,
              "ticks": ""
             }
            },
            "type": "scattergeo"
           }
          ],
          "scattergl": [
           {
            "marker": {
             "colorbar": {
              "outlinewidth": 0,
              "ticks": ""
             }
            },
            "type": "scattergl"
           }
          ],
          "scattermapbox": [
           {
            "marker": {
             "colorbar": {
              "outlinewidth": 0,
              "ticks": ""
             }
            },
            "type": "scattermapbox"
           }
          ],
          "scatterpolar": [
           {
            "marker": {
             "colorbar": {
              "outlinewidth": 0,
              "ticks": ""
             }
            },
            "type": "scatterpolar"
           }
          ],
          "scatterpolargl": [
           {
            "marker": {
             "colorbar": {
              "outlinewidth": 0,
              "ticks": ""
             }
            },
            "type": "scatterpolargl"
           }
          ],
          "scatterternary": [
           {
            "marker": {
             "colorbar": {
              "outlinewidth": 0,
              "ticks": ""
             }
            },
            "type": "scatterternary"
           }
          ],
          "surface": [
           {
            "colorbar": {
             "outlinewidth": 0,
             "ticks": ""
            },
            "colorscale": [
             [
              0.0,
              "#0d0887"
             ],
             [
              0.1111111111111111,
              "#46039f"
             ],
             [
              0.2222222222222222,
              "#7201a8"
             ],
             [
              0.3333333333333333,
              "#9c179e"
             ],
             [
              0.4444444444444444,
              "#bd3786"
             ],
             [
              0.5555555555555556,
              "#d8576b"
             ],
             [
              0.6666666666666666,
              "#ed7953"
             ],
             [
              0.7777777777777778,
              "#fb9f3a"
             ],
             [
              0.8888888888888888,
              "#fdca26"
             ],
             [
              1.0,
              "#f0f921"
             ]
            ],
            "type": "surface"
           }
          ],
          "table": [
           {
            "cells": {
             "fill": {
              "color": "#EBF0F8"
             },
             "line": {
              "color": "white"
             }
            },
            "header": {
             "fill": {
              "color": "#C8D4E3"
             },
             "line": {
              "color": "white"
             }
            },
            "type": "table"
           }
          ]
         },
         "layout": {
          "annotationdefaults": {
           "arrowcolor": "#2a3f5f",
           "arrowhead": 0,
           "arrowwidth": 1
          },
          "autotypenumbers": "strict",
          "coloraxis": {
           "colorbar": {
            "outlinewidth": 0,
            "ticks": ""
           }
          },
          "colorscale": {
           "diverging": [
            [
             0,
             "#8e0152"
            ],
            [
             0.1,
             "#c51b7d"
            ],
            [
             0.2,
             "#de77ae"
            ],
            [
             0.3,
             "#f1b6da"
            ],
            [
             0.4,
             "#fde0ef"
            ],
            [
             0.5,
             "#f7f7f7"
            ],
            [
             0.6,
             "#e6f5d0"
            ],
            [
             0.7,
             "#b8e186"
            ],
            [
             0.8,
             "#7fbc41"
            ],
            [
             0.9,
             "#4d9221"
            ],
            [
             1,
             "#276419"
            ]
           ],
           "sequential": [
            [
             0.0,
             "#0d0887"
            ],
            [
             0.1111111111111111,
             "#46039f"
            ],
            [
             0.2222222222222222,
             "#7201a8"
            ],
            [
             0.3333333333333333,
             "#9c179e"
            ],
            [
             0.4444444444444444,
             "#bd3786"
            ],
            [
             0.5555555555555556,
             "#d8576b"
            ],
            [
             0.6666666666666666,
             "#ed7953"
            ],
            [
             0.7777777777777778,
             "#fb9f3a"
            ],
            [
             0.8888888888888888,
             "#fdca26"
            ],
            [
             1.0,
             "#f0f921"
            ]
           ],
           "sequentialminus": [
            [
             0.0,
             "#0d0887"
            ],
            [
             0.1111111111111111,
             "#46039f"
            ],
            [
             0.2222222222222222,
             "#7201a8"
            ],
            [
             0.3333333333333333,
             "#9c179e"
            ],
            [
             0.4444444444444444,
             "#bd3786"
            ],
            [
             0.5555555555555556,
             "#d8576b"
            ],
            [
             0.6666666666666666,
             "#ed7953"
            ],
            [
             0.7777777777777778,
             "#fb9f3a"
            ],
            [
             0.8888888888888888,
             "#fdca26"
            ],
            [
             1.0,
             "#f0f921"
            ]
           ]
          },
          "colorway": [
           "#636efa",
           "#EF553B",
           "#00cc96",
           "#ab63fa",
           "#FFA15A",
           "#19d3f3",
           "#FF6692",
           "#B6E880",
           "#FF97FF",
           "#FECB52"
          ],
          "font": {
           "color": "#2a3f5f"
          },
          "geo": {
           "bgcolor": "white",
           "lakecolor": "white",
           "landcolor": "white",
           "showlakes": true,
           "showland": true,
           "subunitcolor": "#C8D4E3"
          },
          "hoverlabel": {
           "align": "left"
          },
          "hovermode": "closest",
          "mapbox": {
           "style": "light"
          },
          "paper_bgcolor": "white",
          "plot_bgcolor": "white",
          "polar": {
           "angularaxis": {
            "gridcolor": "#EBF0F8",
            "linecolor": "#EBF0F8",
            "ticks": ""
           },
           "bgcolor": "white",
           "radialaxis": {
            "gridcolor": "#EBF0F8",
            "linecolor": "#EBF0F8",
            "ticks": ""
           }
          },
          "scene": {
           "xaxis": {
            "backgroundcolor": "white",
            "gridcolor": "#DFE8F3",
            "gridwidth": 2,
            "linecolor": "#EBF0F8",
            "showbackground": true,
            "ticks": "",
            "zerolinecolor": "#EBF0F8"
           },
           "yaxis": {
            "backgroundcolor": "white",
            "gridcolor": "#DFE8F3",
            "gridwidth": 2,
            "linecolor": "#EBF0F8",
            "showbackground": true,
            "ticks": "",
            "zerolinecolor": "#EBF0F8"
           },
           "zaxis": {
            "backgroundcolor": "white",
            "gridcolor": "#DFE8F3",
            "gridwidth": 2,
            "linecolor": "#EBF0F8",
            "showbackground": true,
            "ticks": "",
            "zerolinecolor": "#EBF0F8"
           }
          },
          "shapedefaults": {
           "line": {
            "color": "#2a3f5f"
           }
          },
          "ternary": {
           "aaxis": {
            "gridcolor": "#DFE8F3",
            "linecolor": "#A2B1C6",
            "ticks": ""
           },
           "baxis": {
            "gridcolor": "#DFE8F3",
            "linecolor": "#A2B1C6",
            "ticks": ""
           },
           "bgcolor": "white",
           "caxis": {
            "gridcolor": "#DFE8F3",
            "linecolor": "#A2B1C6",
            "ticks": ""
           }
          },
          "title": {
           "x": 0.05
          },
          "xaxis": {
           "automargin": true,
           "gridcolor": "#EBF0F8",
           "linecolor": "#EBF0F8",
           "ticks": "",
           "title": {
            "standoff": 15
           },
           "zerolinecolor": "#EBF0F8",
           "zerolinewidth": 2
          },
          "yaxis": {
           "automargin": true,
           "gridcolor": "#EBF0F8",
           "linecolor": "#EBF0F8",
           "ticks": "",
           "title": {
            "standoff": 15
           },
           "zerolinecolor": "#EBF0F8",
           "zerolinewidth": 2
          }
         }
        }
       },
       "_model_module": "plotlywidget",
       "_model_module_version": "^4.14.3",
       "_model_name": "FigureModel",
       "_py2js_addTraces": {},
       "_py2js_animate": {},
       "_py2js_deleteTraces": {},
       "_py2js_moveTraces": {},
       "_py2js_relayout": {},
       "_py2js_removeLayoutProps": {},
       "_py2js_removeTraceProps": {},
       "_py2js_restyle": {},
       "_py2js_update": {},
       "_view_count": 0,
       "_view_module": "plotlywidget",
       "_view_module_version": "^4.14.3",
       "_view_name": "FigureView"
      }
     },
     "c9166ca419f943b89f12b13915c81efc": {
      "model_module": "@jupyter-widgets/base",
      "model_module_version": "1.2.0",
      "model_name": "LayoutModel",
      "state": {
       "_model_module": "@jupyter-widgets/base",
       "_model_module_version": "1.2.0",
       "_model_name": "LayoutModel",
       "_view_count": null,
       "_view_module": "@jupyter-widgets/base",
       "_view_module_version": "1.2.0",
       "_view_name": "LayoutView",
       "align_content": null,
       "align_items": null,
       "align_self": null,
       "border": null,
       "bottom": null,
       "display": null,
       "flex": null,
       "flex_flow": null,
       "grid_area": "widget018",
       "grid_auto_columns": null,
       "grid_auto_flow": null,
       "grid_auto_rows": null,
       "grid_column": null,
       "grid_gap": null,
       "grid_row": null,
       "grid_template_areas": null,
       "grid_template_columns": null,
       "grid_template_rows": null,
       "height": null,
       "justify_content": null,
       "justify_items": null,
       "left": null,
       "margin": null,
       "max_height": null,
       "max_width": null,
       "min_height": null,
       "min_width": null,
       "object_fit": null,
       "object_position": null,
       "order": null,
       "overflow": null,
       "overflow_x": null,
       "overflow_y": null,
       "padding": null,
       "right": null,
       "top": null,
       "visibility": null,
       "width": null
      }
     },
     "c989ce145dca49feb4cdb42fdbcc3c29": {
      "model_module": "@jupyter-widgets/base",
      "model_module_version": "1.2.0",
      "model_name": "LayoutModel",
      "state": {
       "_model_module": "@jupyter-widgets/base",
       "_model_module_version": "1.2.0",
       "_model_name": "LayoutModel",
       "_view_count": null,
       "_view_module": "@jupyter-widgets/base",
       "_view_module_version": "1.2.0",
       "_view_name": "LayoutView",
       "align_content": null,
       "align_items": null,
       "align_self": null,
       "border": null,
       "bottom": null,
       "display": null,
       "flex": null,
       "flex_flow": null,
       "grid_area": "widget044",
       "grid_auto_columns": null,
       "grid_auto_flow": null,
       "grid_auto_rows": null,
       "grid_column": null,
       "grid_gap": null,
       "grid_row": null,
       "grid_template_areas": null,
       "grid_template_columns": null,
       "grid_template_rows": null,
       "height": null,
       "justify_content": null,
       "justify_items": null,
       "left": null,
       "margin": null,
       "max_height": null,
       "max_width": null,
       "min_height": null,
       "min_width": null,
       "object_fit": null,
       "object_position": null,
       "order": null,
       "overflow": null,
       "overflow_x": null,
       "overflow_y": null,
       "padding": null,
       "right": null,
       "top": null,
       "visibility": null,
       "width": null
      }
     },
     "ca1f7e32ef3043819ee030cc6c1a9684": {
      "model_module": "@jupyter-widgets/base",
      "model_module_version": "1.2.0",
      "model_name": "LayoutModel",
      "state": {
       "_model_module": "@jupyter-widgets/base",
       "_model_module_version": "1.2.0",
       "_model_name": "LayoutModel",
       "_view_count": null,
       "_view_module": "@jupyter-widgets/base",
       "_view_module_version": "1.2.0",
       "_view_name": "LayoutView",
       "align_content": null,
       "align_items": null,
       "align_self": null,
       "border": "2px solid rgb(50,62,236)",
       "bottom": null,
       "display": null,
       "flex": null,
       "flex_flow": null,
       "grid_area": null,
       "grid_auto_columns": null,
       "grid_auto_flow": null,
       "grid_auto_rows": null,
       "grid_column": null,
       "grid_gap": null,
       "grid_row": null,
       "grid_template_areas": null,
       "grid_template_columns": null,
       "grid_template_rows": null,
       "height": null,
       "justify_content": null,
       "justify_items": null,
       "left": null,
       "margin": "5px 5px 5px 5px",
       "max_height": "400px",
       "max_width": "calc(50.0% - 8px)",
       "min_height": "400px",
       "min_width": "calc(50.0% - 8px)",
       "object_fit": null,
       "object_position": null,
       "order": null,
       "overflow": null,
       "overflow_x": null,
       "overflow_y": null,
       "padding": "5px 5px 5px 5px",
       "right": null,
       "top": null,
       "visibility": null,
       "width": null
      }
     },
     "caad5fd7e8ca4532a57c6504b2370c9f": {
      "model_module": "@jupyter-widgets/base",
      "model_module_version": "1.2.0",
      "model_name": "LayoutModel",
      "state": {
       "_model_module": "@jupyter-widgets/base",
       "_model_module_version": "1.2.0",
       "_model_name": "LayoutModel",
       "_view_count": null,
       "_view_module": "@jupyter-widgets/base",
       "_view_module_version": "1.2.0",
       "_view_name": "LayoutView",
       "align_content": null,
       "align_items": null,
       "align_self": null,
       "border": null,
       "bottom": null,
       "display": null,
       "flex": null,
       "flex_flow": null,
       "grid_area": "widget024",
       "grid_auto_columns": null,
       "grid_auto_flow": null,
       "grid_auto_rows": null,
       "grid_column": null,
       "grid_gap": null,
       "grid_row": null,
       "grid_template_areas": null,
       "grid_template_columns": null,
       "grid_template_rows": null,
       "height": null,
       "justify_content": null,
       "justify_items": null,
       "left": null,
       "margin": null,
       "max_height": null,
       "max_width": null,
       "min_height": null,
       "min_width": null,
       "object_fit": null,
       "object_position": null,
       "order": null,
       "overflow": null,
       "overflow_x": null,
       "overflow_y": null,
       "padding": null,
       "right": null,
       "top": null,
       "visibility": null,
       "width": null
      }
     },
     "cc9833ec9e914023988eddcf3b258f74": {
      "model_module": "@jupyter-widgets/base",
      "model_module_version": "1.2.0",
      "model_name": "LayoutModel",
      "state": {
       "_model_module": "@jupyter-widgets/base",
       "_model_module_version": "1.2.0",
       "_model_name": "LayoutModel",
       "_view_count": null,
       "_view_module": "@jupyter-widgets/base",
       "_view_module_version": "1.2.0",
       "_view_name": "LayoutView",
       "align_content": null,
       "align_items": null,
       "align_self": null,
       "border": null,
       "bottom": null,
       "display": null,
       "flex": null,
       "flex_flow": null,
       "grid_area": "widget029",
       "grid_auto_columns": null,
       "grid_auto_flow": null,
       "grid_auto_rows": null,
       "grid_column": null,
       "grid_gap": null,
       "grid_row": null,
       "grid_template_areas": null,
       "grid_template_columns": null,
       "grid_template_rows": null,
       "height": null,
       "justify_content": null,
       "justify_items": null,
       "left": null,
       "margin": null,
       "max_height": null,
       "max_width": null,
       "min_height": null,
       "min_width": null,
       "object_fit": null,
       "object_position": null,
       "order": null,
       "overflow": null,
       "overflow_x": null,
       "overflow_y": null,
       "padding": null,
       "right": null,
       "top": null,
       "visibility": null,
       "width": null
      }
     },
     "cdedff7e7c4b4b23998c6053de805380": {
      "model_module": "@jupyter-widgets/base",
      "model_module_version": "1.2.0",
      "model_name": "LayoutModel",
      "state": {
       "_model_module": "@jupyter-widgets/base",
       "_model_module_version": "1.2.0",
       "_model_name": "LayoutModel",
       "_view_count": null,
       "_view_module": "@jupyter-widgets/base",
       "_view_module_version": "1.2.0",
       "_view_name": "LayoutView",
       "align_content": null,
       "align_items": null,
       "align_self": null,
       "border": null,
       "bottom": null,
       "display": null,
       "flex": null,
       "flex_flow": null,
       "grid_area": "widget014",
       "grid_auto_columns": null,
       "grid_auto_flow": null,
       "grid_auto_rows": null,
       "grid_column": null,
       "grid_gap": null,
       "grid_row": null,
       "grid_template_areas": null,
       "grid_template_columns": null,
       "grid_template_rows": null,
       "height": null,
       "justify_content": null,
       "justify_items": null,
       "left": null,
       "margin": null,
       "max_height": null,
       "max_width": null,
       "min_height": null,
       "min_width": null,
       "object_fit": null,
       "object_position": null,
       "order": null,
       "overflow": null,
       "overflow_x": null,
       "overflow_y": null,
       "padding": null,
       "right": null,
       "top": null,
       "visibility": null,
       "width": null
      }
     },
     "cfbc047bfffb45f1a06fc588d3e5e37f": {
      "model_module": "@jupyter-widgets/controls",
      "model_module_version": "1.5.0",
      "model_name": "DescriptionStyleModel",
      "state": {
       "_model_module": "@jupyter-widgets/controls",
       "_model_module_version": "1.5.0",
       "_model_name": "DescriptionStyleModel",
       "_view_count": null,
       "_view_module": "@jupyter-widgets/base",
       "_view_module_version": "1.2.0",
       "_view_name": "StyleView",
       "description_width": ""
      }
     },
     "d126c740a1ea4c229398590b7557caff": {
      "model_module": "@jupyter-widgets/base",
      "model_module_version": "1.2.0",
      "model_name": "LayoutModel",
      "state": {
       "_model_module": "@jupyter-widgets/base",
       "_model_module_version": "1.2.0",
       "_model_name": "LayoutModel",
       "_view_count": null,
       "_view_module": "@jupyter-widgets/base",
       "_view_module_version": "1.2.0",
       "_view_name": "LayoutView",
       "align_content": null,
       "align_items": null,
       "align_self": null,
       "border": null,
       "bottom": null,
       "display": null,
       "flex": null,
       "flex_flow": null,
       "grid_area": null,
       "grid_auto_columns": null,
       "grid_auto_flow": null,
       "grid_auto_rows": null,
       "grid_column": null,
       "grid_gap": null,
       "grid_row": null,
       "grid_template_areas": null,
       "grid_template_columns": null,
       "grid_template_rows": null,
       "height": null,
       "justify_content": null,
       "justify_items": null,
       "left": null,
       "margin": null,
       "max_height": null,
       "max_width": null,
       "min_height": null,
       "min_width": null,
       "object_fit": null,
       "object_position": null,
       "order": null,
       "overflow": null,
       "overflow_x": null,
       "overflow_y": null,
       "padding": null,
       "right": null,
       "top": null,
       "visibility": null,
       "width": null
      }
     },
     "d17dda6678e0400db2edb766e3db7a87": {
      "model_module": "@jupyter-widgets/controls",
      "model_module_version": "1.5.0",
      "model_name": "DescriptionStyleModel",
      "state": {
       "_model_module": "@jupyter-widgets/controls",
       "_model_module_version": "1.5.0",
       "_model_name": "DescriptionStyleModel",
       "_view_count": null,
       "_view_module": "@jupyter-widgets/base",
       "_view_module_version": "1.2.0",
       "_view_name": "StyleView",
       "description_width": ""
      }
     },
     "d3388d5513d445ad8bcb3d17fa3bd4d5": {
      "model_module": "@jupyter-widgets/controls",
      "model_module_version": "1.5.0",
      "model_name": "HTMLModel",
      "state": {
       "_dom_classes": [],
       "_model_module": "@jupyter-widgets/controls",
       "_model_module_version": "1.5.0",
       "_model_name": "HTMLModel",
       "_view_count": null,
       "_view_module": "@jupyter-widgets/controls",
       "_view_module_version": "1.5.0",
       "_view_name": "HTMLView",
       "description": "",
       "description_tooltip": null,
       "layout": "IPY_MODEL_32be29dda5de4cd9ae1c6b33b19fa177",
       "placeholder": "​",
       "style": "IPY_MODEL_69406af93b7040488799ddb7cd8c01e5",
       "value": "<style>.jupyter-widgets { border-radius : 5px ; }.layout-32add517c25341978b5fd2763e48c01d * .jupyter-button.mod-active { background-color : rgb(50, 62, 236); color: rgb(255, 255, 255); }.jupyter.button, .widget-toggle-button {border-radius : 5px; }.widget-dropdown > select {border-radius : 5px; }.jupyter-widgets::-webkit-scrollbar-track { border-radius: 4px; background-color: #F5F5F5; -webkit-box-shadow: inset 0 0 6px rgba(0,0,0,0.15); }.jupyter-widgets::-webkit-scrollbar { width: 7px; background-color: #F5F5F5; }.jupyter-widgets::-webkit-scrollbar-thumb { border-radius: 4px; background-color: rgb(170, 170, 170); }</style>"
      }
     },
     "d3a2c73d5db1444baf5893490333f5d9": {
      "model_module": "@jupyter-widgets/base",
      "model_module_version": "1.2.0",
      "model_name": "LayoutModel",
      "state": {
       "_model_module": "@jupyter-widgets/base",
       "_model_module_version": "1.2.0",
       "_model_name": "LayoutModel",
       "_view_count": null,
       "_view_module": "@jupyter-widgets/base",
       "_view_module_version": "1.2.0",
       "_view_name": "LayoutView",
       "align_content": null,
       "align_items": null,
       "align_self": null,
       "border": null,
       "bottom": null,
       "display": null,
       "flex": null,
       "flex_flow": null,
       "grid_area": null,
       "grid_auto_columns": null,
       "grid_auto_flow": null,
       "grid_auto_rows": null,
       "grid_column": null,
       "grid_gap": null,
       "grid_row": null,
       "grid_template_areas": "\"widget001 widget002 widget003 widget004\"\n\"widget005 widget006 widget007 widget008\"\n\"widget009 widget010 widget011 widget012\"\n\"widget013 widget014 widget015 widget016\"\n\"widget017 widget018 widget019 widget020\"\n\"widget021 widget022 widget023 widget024\"\n\"widget025 widget026 widget027 widget028\"\n\"widget029 widget030 widget031 widget032\"\n\"widget033 widget034 widget035 widget036\"\n\"widget037 widget038 widget039 widget040\"\n\"widget041 widget042 widget043 widget044\"",
       "grid_template_columns": "repeat(4, 1fr)",
       "grid_template_rows": "repeat(11, 1fr)",
       "height": "calc(100% - 40px)",
       "justify_content": null,
       "justify_items": null,
       "left": null,
       "margin": null,
       "max_height": null,
       "max_width": null,
       "min_height": null,
       "min_width": null,
       "object_fit": null,
       "object_position": null,
       "order": null,
       "overflow": null,
       "overflow_x": null,
       "overflow_y": null,
       "padding": null,
       "right": null,
       "top": null,
       "visibility": null,
       "width": null
      }
     },
     "d4af17e8829645fbbc8fa01bf72da445": {
      "model_module": "@jupyter-widgets/controls",
      "model_module_version": "1.5.0",
      "model_name": "HTMLModel",
      "state": {
       "_dom_classes": [],
       "_model_module": "@jupyter-widgets/controls",
       "_model_module_version": "1.5.0",
       "_model_name": "HTMLModel",
       "_view_count": null,
       "_view_module": "@jupyter-widgets/controls",
       "_view_module_version": "1.5.0",
       "_view_name": "HTMLView",
       "description": "",
       "description_tooltip": null,
       "layout": "IPY_MODEL_ba587bbbd14649ffbd41bc77bb43372a",
       "placeholder": "​",
       "style": "IPY_MODEL_9c7604bde7cb409d937f0fd22ce52d73",
       "value": "<p style=\"margin-bottom:-10px;color:black\">100%</p><p style=\"margin-bottom:-10px;color:black\">-0.0000</p>"
      }
     },
     "d97dd73bd46540aa8f802ba41034b779": {
      "model_module": "@jupyter-widgets/base",
      "model_module_version": "1.2.0",
      "model_name": "LayoutModel",
      "state": {
       "_model_module": "@jupyter-widgets/base",
       "_model_module_version": "1.2.0",
       "_model_name": "LayoutModel",
       "_view_count": null,
       "_view_module": "@jupyter-widgets/base",
       "_view_module_version": "1.2.0",
       "_view_name": "LayoutView",
       "align_content": null,
       "align_items": null,
       "align_self": null,
       "border": null,
       "bottom": null,
       "display": null,
       "flex": null,
       "flex_flow": null,
       "grid_area": "widget035",
       "grid_auto_columns": null,
       "grid_auto_flow": null,
       "grid_auto_rows": null,
       "grid_column": null,
       "grid_gap": null,
       "grid_row": null,
       "grid_template_areas": null,
       "grid_template_columns": null,
       "grid_template_rows": null,
       "height": null,
       "justify_content": null,
       "justify_items": null,
       "left": null,
       "margin": null,
       "max_height": null,
       "max_width": null,
       "min_height": null,
       "min_width": null,
       "object_fit": null,
       "object_position": null,
       "order": null,
       "overflow": null,
       "overflow_x": null,
       "overflow_y": null,
       "padding": null,
       "right": null,
       "top": null,
       "visibility": null,
       "width": null
      }
     },
     "dbce41f9e85944bc9e1ccca2a41fb0ae": {
      "model_module": "@jupyter-widgets/controls",
      "model_module_version": "1.5.0",
      "model_name": "HBoxModel",
      "state": {
       "_dom_classes": [],
       "_model_module": "@jupyter-widgets/controls",
       "_model_module_version": "1.5.0",
       "_model_name": "HBoxModel",
       "_view_count": null,
       "_view_module": "@jupyter-widgets/controls",
       "_view_module_version": "1.5.0",
       "_view_name": "HBoxView",
       "box_style": "",
       "children": [
        "IPY_MODEL_c40e6544d449427aa7dc3782a0980d60",
        "IPY_MODEL_9ccbfed061da474dbd3c126397fbc46d",
        "IPY_MODEL_3e566e1b721a45b6ba649f1baed63647"
       ],
       "layout": "IPY_MODEL_bb0e6ba9a657435290f70b2ec8f8fae1"
      }
     },
     "dbdd109b43ef4e13808ded9e25a80397": {
      "model_module": "@jupyter-widgets/controls",
      "model_module_version": "1.5.0",
      "model_name": "HTMLModel",
      "state": {
       "_dom_classes": [],
       "_model_module": "@jupyter-widgets/controls",
       "_model_module_version": "1.5.0",
       "_model_name": "HTMLModel",
       "_view_count": null,
       "_view_module": "@jupyter-widgets/controls",
       "_view_module_version": "1.5.0",
       "_view_name": "HTMLView",
       "description": "",
       "description_tooltip": null,
       "layout": "IPY_MODEL_caad5fd7e8ca4532a57c6504b2370c9f",
       "placeholder": "​",
       "style": "IPY_MODEL_4d084be9cb154668ae50ff3e290d1f63",
       "value": "<svg xmlns=\"http://www.w3.org/2000/svg\" width=\"12\" height=\"12\" viewBox=\"0 0 24 24\" fill=\"red\"><path d=\"M12 21l-12-18h24z\"/></svg>"
      }
     },
     "dc43b8a3469b419684f933faa282c3cd": {
      "model_module": "@jupyter-widgets/base",
      "model_module_version": "1.2.0",
      "model_name": "LayoutModel",
      "state": {
       "_model_module": "@jupyter-widgets/base",
       "_model_module_version": "1.2.0",
       "_model_name": "LayoutModel",
       "_view_count": null,
       "_view_module": "@jupyter-widgets/base",
       "_view_module_version": "1.2.0",
       "_view_name": "LayoutView",
       "align_content": null,
       "align_items": null,
       "align_self": null,
       "border": null,
       "bottom": null,
       "display": null,
       "flex": null,
       "flex_flow": null,
       "grid_area": null,
       "grid_auto_columns": null,
       "grid_auto_flow": null,
       "grid_auto_rows": null,
       "grid_column": null,
       "grid_gap": null,
       "grid_row": null,
       "grid_template_areas": null,
       "grid_template_columns": null,
       "grid_template_rows": null,
       "height": null,
       "justify_content": null,
       "justify_items": null,
       "left": null,
       "margin": null,
       "max_height": null,
       "max_width": null,
       "min_height": null,
       "min_width": null,
       "object_fit": null,
       "object_position": null,
       "order": null,
       "overflow": null,
       "overflow_x": null,
       "overflow_y": null,
       "padding": null,
       "right": null,
       "top": null,
       "visibility": null,
       "width": null
      }
     },
     "dd2d82996068478b83af85efd717f9dd": {
      "model_module": "@jupyter-widgets/controls",
      "model_module_version": "1.5.0",
      "model_name": "DescriptionStyleModel",
      "state": {
       "_model_module": "@jupyter-widgets/controls",
       "_model_module_version": "1.5.0",
       "_model_name": "DescriptionStyleModel",
       "_view_count": null,
       "_view_module": "@jupyter-widgets/base",
       "_view_module_version": "1.2.0",
       "_view_name": "StyleView",
       "description_width": ""
      }
     },
     "df3eacce14fe4e489240e13a1d970af8": {
      "model_module": "@jupyter-widgets/controls",
      "model_module_version": "1.5.0",
      "model_name": "HTMLModel",
      "state": {
       "_dom_classes": [],
       "_model_module": "@jupyter-widgets/controls",
       "_model_module_version": "1.5.0",
       "_model_name": "HTMLModel",
       "_view_count": null,
       "_view_module": "@jupyter-widgets/controls",
       "_view_module_version": "1.5.0",
       "_view_name": "HTMLView",
       "description": "",
       "description_tooltip": null,
       "layout": "IPY_MODEL_667fb536db4d45089db14f9d6350ba61",
       "placeholder": "​",
       "style": "IPY_MODEL_862d0b31db0a4930bfe31cc4aec46ef1",
       "value": "<svg xmlns=\"http://www.w3.org/2000/svg\" width=\"12\" height=\"12\" viewBox=\"0 0 24 24\" fill=\"red\"><path d=\"M12 21l-12-18h24z\"/></svg>"
      }
     },
     "e19a07ed97534ba08a0222c51331c497": {
      "model_module": "@jupyter-widgets/controls",
      "model_module_version": "1.5.0",
      "model_name": "DescriptionStyleModel",
      "state": {
       "_model_module": "@jupyter-widgets/controls",
       "_model_module_version": "1.5.0",
       "_model_name": "DescriptionStyleModel",
       "_view_count": null,
       "_view_module": "@jupyter-widgets/base",
       "_view_module_version": "1.2.0",
       "_view_name": "StyleView",
       "description_width": ""
      }
     },
     "e2a84eb3ba6a4756b34c29f3094f9aa8": {
      "model_module": "@jupyter-widgets/controls",
      "model_module_version": "1.5.0",
      "model_name": "DescriptionStyleModel",
      "state": {
       "_model_module": "@jupyter-widgets/controls",
       "_model_module_version": "1.5.0",
       "_model_name": "DescriptionStyleModel",
       "_view_count": null,
       "_view_module": "@jupyter-widgets/base",
       "_view_module_version": "1.2.0",
       "_view_name": "StyleView",
       "description_width": ""
      }
     },
     "e34e50c55e3940c69209762b9cd50532": {
      "model_module": "@jupyter-widgets/base",
      "model_module_version": "1.2.0",
      "model_name": "LayoutModel",
      "state": {
       "_model_module": "@jupyter-widgets/base",
       "_model_module_version": "1.2.0",
       "_model_name": "LayoutModel",
       "_view_count": null,
       "_view_module": "@jupyter-widgets/base",
       "_view_module_version": "1.2.0",
       "_view_name": "LayoutView",
       "align_content": null,
       "align_items": null,
       "align_self": null,
       "border": null,
       "bottom": null,
       "display": null,
       "flex": null,
       "flex_flow": null,
       "grid_area": "widget026",
       "grid_auto_columns": null,
       "grid_auto_flow": null,
       "grid_auto_rows": null,
       "grid_column": null,
       "grid_gap": null,
       "grid_row": null,
       "grid_template_areas": null,
       "grid_template_columns": null,
       "grid_template_rows": null,
       "height": null,
       "justify_content": null,
       "justify_items": null,
       "left": null,
       "margin": null,
       "max_height": null,
       "max_width": null,
       "min_height": null,
       "min_width": null,
       "object_fit": null,
       "object_position": null,
       "order": null,
       "overflow": null,
       "overflow_x": null,
       "overflow_y": null,
       "padding": null,
       "right": null,
       "top": null,
       "visibility": null,
       "width": null
      }
     },
     "e6094344cd7e4b31a7a3b49cec7bb84e": {
      "model_module": "@jupyter-widgets/base",
      "model_module_version": "1.2.0",
      "model_name": "LayoutModel",
      "state": {
       "_model_module": "@jupyter-widgets/base",
       "_model_module_version": "1.2.0",
       "_model_name": "LayoutModel",
       "_view_count": null,
       "_view_module": "@jupyter-widgets/base",
       "_view_module_version": "1.2.0",
       "_view_name": "LayoutView",
       "align_content": null,
       "align_items": null,
       "align_self": null,
       "border": null,
       "bottom": null,
       "display": null,
       "flex": null,
       "flex_flow": null,
       "grid_area": null,
       "grid_auto_columns": null,
       "grid_auto_flow": null,
       "grid_auto_rows": null,
       "grid_column": null,
       "grid_gap": null,
       "grid_row": null,
       "grid_template_areas": null,
       "grid_template_columns": null,
       "grid_template_rows": null,
       "height": null,
       "justify_content": null,
       "justify_items": null,
       "left": null,
       "margin": null,
       "max_height": null,
       "max_width": "100%",
       "min_height": null,
       "min_width": null,
       "object_fit": null,
       "object_position": null,
       "order": null,
       "overflow": null,
       "overflow_x": null,
       "overflow_y": null,
       "padding": null,
       "right": null,
       "top": null,
       "visibility": null,
       "width": null
      }
     },
     "e6b37274991249909470d21333056fb6": {
      "model_module": "@jupyter-widgets/base",
      "model_module_version": "1.2.0",
      "model_name": "LayoutModel",
      "state": {
       "_model_module": "@jupyter-widgets/base",
       "_model_module_version": "1.2.0",
       "_model_name": "LayoutModel",
       "_view_count": null,
       "_view_module": "@jupyter-widgets/base",
       "_view_module_version": "1.2.0",
       "_view_name": "LayoutView",
       "align_content": null,
       "align_items": null,
       "align_self": null,
       "border": null,
       "bottom": null,
       "display": null,
       "flex": null,
       "flex_flow": null,
       "grid_area": "widget010",
       "grid_auto_columns": null,
       "grid_auto_flow": null,
       "grid_auto_rows": null,
       "grid_column": null,
       "grid_gap": null,
       "grid_row": null,
       "grid_template_areas": null,
       "grid_template_columns": null,
       "grid_template_rows": null,
       "height": null,
       "justify_content": null,
       "justify_items": null,
       "left": null,
       "margin": null,
       "max_height": null,
       "max_width": null,
       "min_height": null,
       "min_width": null,
       "object_fit": null,
       "object_position": null,
       "order": null,
       "overflow": null,
       "overflow_x": null,
       "overflow_y": null,
       "padding": null,
       "right": null,
       "top": null,
       "visibility": null,
       "width": null
      }
     },
     "eb398085d2e54926af6c3aa7c3fb188d": {
      "model_module": "@jupyter-widgets/controls",
      "model_module_version": "1.5.0",
      "model_name": "HTMLModel",
      "state": {
       "_dom_classes": [],
       "_model_module": "@jupyter-widgets/controls",
       "_model_module_version": "1.5.0",
       "_model_name": "HTMLModel",
       "_view_count": null,
       "_view_module": "@jupyter-widgets/controls",
       "_view_module_version": "1.5.0",
       "_view_name": "HTMLView",
       "description": "",
       "description_tooltip": null,
       "layout": "IPY_MODEL_4fbfc0817831417a828e70783acf9088",
       "placeholder": "​",
       "style": "IPY_MODEL_4d87fb40d9724a4594cbf526c3ad0147",
       "value": "<b>x0</b>"
      }
     },
     "eb83b2de08e24047b16653cc03078a37": {
      "model_module": "@jupyter-widgets/controls",
      "model_module_version": "1.5.0",
      "model_name": "HTMLModel",
      "state": {
       "_dom_classes": [],
       "_model_module": "@jupyter-widgets/controls",
       "_model_module_version": "1.5.0",
       "_model_name": "HTMLModel",
       "_view_count": null,
       "_view_module": "@jupyter-widgets/controls",
       "_view_module_version": "1.5.0",
       "_view_name": "HTMLView",
       "description": "",
       "description_tooltip": null,
       "layout": "IPY_MODEL_b5eff71cf9e34a8eaaaf94fba1d70454",
       "placeholder": "​",
       "style": "IPY_MODEL_f8dbff6c1d2a4672902f88906444ca6a",
       "value": "<p style=\"margin-bottom:-10px;color:black\">100%</p><p style=\"margin-bottom:-10px;color:black\">0.0000</p>"
      }
     },
     "ef24dd04005144a78cca322d65bdb7bf": {
      "model_module": "@jupyter-widgets/controls",
      "model_module_version": "1.5.0",
      "model_name": "HTMLModel",
      "state": {
       "_dom_classes": [],
       "_model_module": "@jupyter-widgets/controls",
       "_model_module_version": "1.5.0",
       "_model_name": "HTMLModel",
       "_view_count": null,
       "_view_module": "@jupyter-widgets/controls",
       "_view_module_version": "1.5.0",
       "_view_name": "HTMLView",
       "description": "",
       "description_tooltip": null,
       "layout": "IPY_MODEL_95eed7e864a249f8bb5f1333c19f567e",
       "placeholder": "​",
       "style": "IPY_MODEL_dd2d82996068478b83af85efd717f9dd",
       "value": "<svg xmlns=\"http://www.w3.org/2000/svg\" width=\"12\" height=\"12\" viewBox=\"0 0 24 24\" fill=\"red\"><path d=\"M12 21l-12-18h24z\"/></svg>"
      }
     },
     "ef9d292b7b2d494980f7a27c5938522f": {
      "model_module": "@jupyter-widgets/controls",
      "model_module_version": "1.5.0",
      "model_name": "DescriptionStyleModel",
      "state": {
       "_model_module": "@jupyter-widgets/controls",
       "_model_module_version": "1.5.0",
       "_model_name": "DescriptionStyleModel",
       "_view_count": null,
       "_view_module": "@jupyter-widgets/base",
       "_view_module_version": "1.2.0",
       "_view_name": "StyleView",
       "description_width": ""
      }
     },
     "f7a3b66c1ea944fd9ba5df5f8d328a3e": {
      "model_module": "@jupyter-widgets/controls",
      "model_module_version": "1.5.0",
      "model_name": "HTMLModel",
      "state": {
       "_dom_classes": [],
       "_model_module": "@jupyter-widgets/controls",
       "_model_module_version": "1.5.0",
       "_model_name": "HTMLModel",
       "_view_count": null,
       "_view_module": "@jupyter-widgets/controls",
       "_view_module_version": "1.5.0",
       "_view_name": "HTMLView",
       "description": "",
       "description_tooltip": null,
       "layout": "IPY_MODEL_67464b349ca94aea9020699c0ee12462",
       "placeholder": "​",
       "style": "IPY_MODEL_e19a07ed97534ba08a0222c51331c497",
       "value": "<p style=\"margin-bottom:-10px;color:black\">100%</p><p style=\"margin-bottom:-10px;color:black\">0.0000</p>"
      }
     },
     "f870f7cb5b2b4e15b2bbc2f1e44a76d7": {
      "model_module": "@jupyter-widgets/controls",
      "model_module_version": "1.5.0",
      "model_name": "HTMLModel",
      "state": {
       "_dom_classes": [],
       "_model_module": "@jupyter-widgets/controls",
       "_model_module_version": "1.5.0",
       "_model_name": "HTMLModel",
       "_view_count": null,
       "_view_module": "@jupyter-widgets/controls",
       "_view_module_version": "1.5.0",
       "_view_name": "HTMLView",
       "description": "",
       "description_tooltip": null,
       "layout": "IPY_MODEL_770d76dce0fd45eabe1335d2b963e907",
       "placeholder": "​",
       "style": "IPY_MODEL_ff9cda54c7a6481c8f557920c0fd21d8",
       "value": "<svg xmlns=\"http://www.w3.org/2000/svg\" width=\"12\" height=\"12\" viewBox=\"0 0 24 24\" fill=\"red\"><path d=\"M12 21l-12-18h24z\"/></svg>"
      }
     },
     "f89007f583104f54b2ee918a7e21e193": {
      "model_module": "@jupyter-widgets/base",
      "model_module_version": "1.2.0",
      "model_name": "LayoutModel",
      "state": {
       "_model_module": "@jupyter-widgets/base",
       "_model_module_version": "1.2.0",
       "_model_name": "LayoutModel",
       "_view_count": null,
       "_view_module": "@jupyter-widgets/base",
       "_view_module_version": "1.2.0",
       "_view_name": "LayoutView",
       "align_content": null,
       "align_items": null,
       "align_self": null,
       "border": null,
       "bottom": null,
       "display": null,
       "flex": null,
       "flex_flow": null,
       "grid_area": "widget002",
       "grid_auto_columns": null,
       "grid_auto_flow": null,
       "grid_auto_rows": null,
       "grid_column": null,
       "grid_gap": null,
       "grid_row": null,
       "grid_template_areas": null,
       "grid_template_columns": null,
       "grid_template_rows": null,
       "height": null,
       "justify_content": null,
       "justify_items": null,
       "left": null,
       "margin": null,
       "max_height": null,
       "max_width": null,
       "min_height": null,
       "min_width": null,
       "object_fit": null,
       "object_position": null,
       "order": null,
       "overflow": null,
       "overflow_x": null,
       "overflow_y": null,
       "padding": null,
       "right": null,
       "top": null,
       "visibility": null,
       "width": null
      }
     },
     "f8dbff6c1d2a4672902f88906444ca6a": {
      "model_module": "@jupyter-widgets/controls",
      "model_module_version": "1.5.0",
      "model_name": "DescriptionStyleModel",
      "state": {
       "_model_module": "@jupyter-widgets/controls",
       "_model_module_version": "1.5.0",
       "_model_name": "DescriptionStyleModel",
       "_view_count": null,
       "_view_module": "@jupyter-widgets/base",
       "_view_module_version": "1.2.0",
       "_view_name": "StyleView",
       "description_width": ""
      }
     },
     "f90eee2456014f28a87ad8b0e4eea7d5": {
      "model_module": "@jupyter-widgets/controls",
      "model_module_version": "1.5.0",
      "model_name": "HTMLModel",
      "state": {
       "_dom_classes": [],
       "_model_module": "@jupyter-widgets/controls",
       "_model_module_version": "1.5.0",
       "_model_name": "HTMLModel",
       "_view_count": null,
       "_view_module": "@jupyter-widgets/controls",
       "_view_module_version": "1.5.0",
       "_view_name": "HTMLView",
       "description": "",
       "description_tooltip": null,
       "layout": "IPY_MODEL_9ebf788a791a4dba9f0b54690ee836d8",
       "placeholder": "​",
       "style": "IPY_MODEL_907e2bac4a264e28851a4455b8627eda",
       "value": "<p style=\"margin-bottom:-10px;color:black\">100%</p><p style=\"margin-bottom:-10px;color:black\">1.0000</p>"
      }
     },
     "f9b8ae4137fc42f995fac1ac78e1d26e": {
      "model_module": "@jupyter-widgets/controls",
      "model_module_version": "1.5.0",
      "model_name": "HBoxModel",
      "state": {
       "_dom_classes": [],
       "_model_module": "@jupyter-widgets/controls",
       "_model_module_version": "1.5.0",
       "_model_name": "HBoxModel",
       "_view_count": null,
       "_view_module": "@jupyter-widgets/controls",
       "_view_module_version": "1.5.0",
       "_view_name": "HBoxView",
       "box_style": "",
       "children": [
        "IPY_MODEL_3c57aa3931cc456396921c3d739ed172",
        "IPY_MODEL_68e27720aa2b4cd384190651c12923cb"
       ],
       "layout": "IPY_MODEL_be01722b41304c81977c3ee477555a2f"
      }
     },
     "fac10e0ffb09431a90aefe12386dbd90": {
      "model_module": "@jupyter-widgets/controls",
      "model_module_version": "1.5.0",
      "model_name": "HTMLModel",
      "state": {
       "_dom_classes": [],
       "_model_module": "@jupyter-widgets/controls",
       "_model_module_version": "1.5.0",
       "_model_name": "HTMLModel",
       "_view_count": null,
       "_view_module": "@jupyter-widgets/controls",
       "_view_module_version": "1.5.0",
       "_view_name": "HTMLView",
       "description": "",
       "description_tooltip": null,
       "layout": "IPY_MODEL_d97dd73bd46540aa8f802ba41034b779",
       "placeholder": "​",
       "style": "IPY_MODEL_01a7bd2db01840abbde1bf0b172731e4",
       "value": "<p style=\"margin-bottom:-10px;color:black\">100%</p><p style=\"margin-bottom:-10px;color:black\">-0.0000</p>"
      }
     },
     "fc0559952f8b4430b6bec4c9efaa78b8": {
      "model_module": "@jupyter-widgets/controls",
      "model_module_version": "1.5.0",
      "model_name": "DropdownModel",
      "state": {
       "_dom_classes": [],
       "_model_module": "@jupyter-widgets/controls",
       "_model_module_version": "1.5.0",
       "_model_name": "DropdownModel",
       "_options_labels": [
        "x0",
        "cos_monthly",
        "cos_hourly",
        "temperature_f",
        "wind_speed_mph",
        "wind_bearing_deg",
        "relative_humidity",
        "visibility_miles_max_10",
        "pressure_mb",
        "Value"
       ],
       "_view_count": null,
       "_view_module": "@jupyter-widgets/controls",
       "_view_module_version": "1.5.0",
       "_view_name": "DropdownView",
       "description": "x:",
       "description_tooltip": null,
       "disabled": false,
       "index": 3,
       "layout": "IPY_MODEL_c6ad275c48924285bf6590eaaac43a5b",
       "style": "IPY_MODEL_4deff34e006e44eba355e8cca4225bc1"
      }
     },
     "fd19d87c76e84a4680e36f45b130fa1c": {
      "model_module": "@jupyter-widgets/controls",
      "model_module_version": "1.5.0",
      "model_name": "HTMLModel",
      "state": {
       "_dom_classes": [],
       "_model_module": "@jupyter-widgets/controls",
       "_model_module_version": "1.5.0",
       "_model_name": "HTMLModel",
       "_view_count": null,
       "_view_module": "@jupyter-widgets/controls",
       "_view_module_version": "1.5.0",
       "_view_name": "HTMLView",
       "description": "",
       "description_tooltip": null,
       "layout": "IPY_MODEL_a28fc31eb2fe4ff3ac7b1976a3db9f6e",
       "placeholder": "​",
       "style": "IPY_MODEL_d17dda6678e0400db2edb766e3db7a87",
       "value": "<p style=\"margin-bottom:-10px;color:black\">100%</p><p style=\"margin-bottom:-10px;color:black\">-0.0110</p>"
      }
     },
     "fe8beb2804544faf8955f15266cb4e19": {
      "model_module": "@jupyter-widgets/base",
      "model_module_version": "1.2.0",
      "model_name": "LayoutModel",
      "state": {
       "_model_module": "@jupyter-widgets/base",
       "_model_module_version": "1.2.0",
       "_model_name": "LayoutModel",
       "_view_count": null,
       "_view_module": "@jupyter-widgets/base",
       "_view_module_version": "1.2.0",
       "_view_name": "LayoutView",
       "align_content": null,
       "align_items": null,
       "align_self": null,
       "border": null,
       "bottom": null,
       "display": null,
       "flex": null,
       "flex_flow": null,
       "grid_area": "widget001",
       "grid_auto_columns": null,
       "grid_auto_flow": null,
       "grid_auto_rows": null,
       "grid_column": null,
       "grid_gap": null,
       "grid_row": null,
       "grid_template_areas": null,
       "grid_template_columns": null,
       "grid_template_rows": null,
       "height": null,
       "justify_content": null,
       "justify_items": null,
       "left": null,
       "margin": null,
       "max_height": null,
       "max_width": null,
       "min_height": null,
       "min_width": null,
       "object_fit": null,
       "object_position": null,
       "order": null,
       "overflow": null,
       "overflow_x": null,
       "overflow_y": null,
       "padding": null,
       "right": null,
       "top": null,
       "visibility": null,
       "width": null
      }
     },
     "feaa5fdf3c3a4e238dc45f7e1709c5d5": {
      "model_module": "@jupyter-widgets/controls",
      "model_module_version": "1.5.0",
      "model_name": "HTMLModel",
      "state": {
       "_dom_classes": [],
       "_model_module": "@jupyter-widgets/controls",
       "_model_module_version": "1.5.0",
       "_model_name": "HTMLModel",
       "_view_count": null,
       "_view_module": "@jupyter-widgets/controls",
       "_view_module_version": "1.5.0",
       "_view_name": "HTMLView",
       "description": "",
       "description_tooltip": null,
       "layout": "IPY_MODEL_879c36786c554256b0791678535a3ffd",
       "placeholder": "​",
       "style": "IPY_MODEL_0a824a7b76d7428da096f13ee9cec7b0",
       "value": "<p style=\"margin-bottom:-10px;color:black\">100%</p><p style=\"margin-bottom:-10px;color:black\">-0.0000</p>"
      }
     },
     "feb37bded8624b90965232bedcaed6ac": {
      "model_module": "@jupyter-widgets/controls",
      "model_module_version": "1.5.0",
      "model_name": "DescriptionStyleModel",
      "state": {
       "_model_module": "@jupyter-widgets/controls",
       "_model_module_version": "1.5.0",
       "_model_name": "DescriptionStyleModel",
       "_view_count": null,
       "_view_module": "@jupyter-widgets/base",
       "_view_module_version": "1.2.0",
       "_view_name": "StyleView",
       "description_width": "20px"
      }
     },
     "febbcce82dbe4490adf8919fe8367083": {
      "model_module": "@jupyter-widgets/controls",
      "model_module_version": "1.5.0",
      "model_name": "ToggleButtonsStyleModel",
      "state": {
       "_model_module": "@jupyter-widgets/controls",
       "_model_module_version": "1.5.0",
       "_model_name": "ToggleButtonsStyleModel",
       "_view_count": null,
       "_view_module": "@jupyter-widgets/base",
       "_view_module_version": "1.2.0",
       "_view_name": "StyleView",
       "button_width": "",
       "description_width": "initial",
       "font_weight": ""
      }
     },
     "fee01d7a92f249bfa1fc8ba52efc13af": {
      "model_module": "@jupyter-widgets/controls",
      "model_module_version": "1.5.0",
      "model_name": "GridBoxModel",
      "state": {
       "_dom_classes": [],
       "_model_module": "@jupyter-widgets/controls",
       "_model_module_version": "1.5.0",
       "_model_name": "GridBoxModel",
       "_view_count": null,
       "_view_module": "@jupyter-widgets/controls",
       "_view_module_version": "1.5.0",
       "_view_name": "GridBoxView",
       "box_style": "",
       "children": [
        "IPY_MODEL_8a98da5f49a847eaa92734eafb8949dc",
        "IPY_MODEL_ada7f07b823e4920a56131b99a21d1eb",
        "IPY_MODEL_2734d5b0a2f341a79df8cdd67c61468b",
        "IPY_MODEL_0c25eafd5af34e5cb8782457292b59ab",
        "IPY_MODEL_eb398085d2e54926af6c3aa7c3fb188d",
        "IPY_MODEL_940a1d8cc57c445e8fb373ac98f2d768",
        "IPY_MODEL_f90eee2456014f28a87ad8b0e4eea7d5",
        "IPY_MODEL_300620aa5b1d4423b7fdb9ca30614df4",
        "IPY_MODEL_8cb33a572ebc4b69b1b1c06bdf346591",
        "IPY_MODEL_b9f218c15fa740f8ac5b33b97260203b",
        "IPY_MODEL_fd19d87c76e84a4680e36f45b130fa1c",
        "IPY_MODEL_df3eacce14fe4e489240e13a1d970af8",
        "IPY_MODEL_95d6ba42304a426bac3963041827816c",
        "IPY_MODEL_bbf80760a9e34640b0be47336778e9fa",
        "IPY_MODEL_9ba6b4c8109b44d39de687bcef4c135a",
        "IPY_MODEL_ef24dd04005144a78cca322d65bdb7bf",
        "IPY_MODEL_c5b9f8d56ac14ffea8ca13af16058c7a",
        "IPY_MODEL_9300b34b0de14851bfc0893c4828961f",
        "IPY_MODEL_f7a3b66c1ea944fd9ba5df5f8d328a3e",
        "IPY_MODEL_f870f7cb5b2b4e15b2bbc2f1e44a76d7",
        "IPY_MODEL_6018549f137e473691d866140fda2211",
        "IPY_MODEL_44ee14834cf5437380c35a07f9db852b",
        "IPY_MODEL_d4af17e8829645fbbc8fa01bf72da445",
        "IPY_MODEL_dbdd109b43ef4e13808ded9e25a80397",
        "IPY_MODEL_5b50d970e3ec42a2b25b66ffe78cbc3e",
        "IPY_MODEL_8edd5ed14be34fb9aaf9946b6d36cae9",
        "IPY_MODEL_1ca67db1ea814cb4bc9bd8123db99b30",
        "IPY_MODEL_18c249504ad049a1a21afed73e830081",
        "IPY_MODEL_334075fea7534ab89dd1fb91eba98ad2",
        "IPY_MODEL_eb83b2de08e24047b16653cc03078a37",
        "IPY_MODEL_0813d4509f53424e8273af37dd2c5da3",
        "IPY_MODEL_ae3707dd1a3045e0ade75c83166e086c",
        "IPY_MODEL_8ebba4b2e6114f79897b9ddb6c283c57",
        "IPY_MODEL_feaa5fdf3c3a4e238dc45f7e1709c5d5",
        "IPY_MODEL_fac10e0ffb09431a90aefe12386dbd90",
        "IPY_MODEL_799fea1c38f744069a9c5eb6cd33953c",
        "IPY_MODEL_a6cbce61ea1446f7a72816bf739fa91d",
        "IPY_MODEL_3a96f4fad3e542479912e97e1c62a235",
        "IPY_MODEL_2e55dc9da165443db16e248dccffd0af",
        "IPY_MODEL_affd927ce18e4ba4a978b5f4fec2500a",
        "IPY_MODEL_2b7be45832e9458e9805b3506005af72",
        "IPY_MODEL_18526f29402f4f49b41186bd2bfecc00",
        "IPY_MODEL_b12d18780b36468cafa29a676629c5f4",
        "IPY_MODEL_61fb0957c3024d3db760a18a2e8150e6"
       ],
       "layout": "IPY_MODEL_d3a2c73d5db1444baf5893490333f5d9"
      }
     },
     "ff9cda54c7a6481c8f557920c0fd21d8": {
      "model_module": "@jupyter-widgets/controls",
      "model_module_version": "1.5.0",
      "model_name": "DescriptionStyleModel",
      "state": {
       "_model_module": "@jupyter-widgets/controls",
       "_model_module_version": "1.5.0",
       "_model_name": "DescriptionStyleModel",
       "_view_count": null,
       "_view_module": "@jupyter-widgets/base",
       "_view_module_version": "1.2.0",
       "_view_name": "StyleView",
       "description_width": ""
      }
     }
    },
    "version_major": 2,
    "version_minor": 0
   }
  }
 },
 "nbformat": 4,
 "nbformat_minor": 4
}
